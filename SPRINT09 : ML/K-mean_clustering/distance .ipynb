{
 "cells": [
  {
   "cell_type": "code",
   "execution_count": 1,
   "id": "1c7a159a-ea20-402d-902d-c5cd3437d227",
   "metadata": {},
   "outputs": [
    {
     "name": "stdout",
     "output_type": "stream",
     "text": [
      "Distance between points is 3.0\n"
     ]
    }
   ],
   "source": [
    "# point a\n",
    "x1 = 5\n",
    "y1 = 6\n",
    "z1 = 7\n",
    "# point b\n",
    "x2 = 3\n",
    "y2 = 4\n",
    "z2 = 8\n",
    "# distance b/w a and b\n",
    "distance = ((x1 - x2)**2 + (y1 - y2)**2 + (z1 - z2)**2)**0.5\n",
    "\n",
    "print(\"Distance between points is {}\".format(distance))"
   ]
  },
  {
   "cell_type": "code",
   "execution_count": 2,
   "id": "5bbb7f01-96c4-4fa6-9fcb-973a0ad5c260",
   "metadata": {},
   "outputs": [
    {
     "name": "stdout",
     "output_type": "stream",
     "text": [
      "3.0\n"
     ]
    }
   ],
   "source": [
    "import math\n",
    "a = (5, 6, 7)\n",
    "b = (3, 4, 8)\n",
    "\n",
    "d = math.dist(a, b)\n",
    "print(d)"
   ]
  },
  {
   "cell_type": "code",
   "execution_count": 3,
   "id": "66a3d0c5-92a9-4f2a-b7ef-509e3379bfca",
   "metadata": {},
   "outputs": [
    {
     "name": "stdout",
     "output_type": "stream",
     "text": [
      "3.0\n"
     ]
    }
   ],
   "source": [
    "from scipy.spatial import distance\n",
    "a = (5, 6, 7)\n",
    "b = (3, 4, 8)\n",
    "\n",
    "d = distance.euclidean(a, b)\n",
    "print(d)"
   ]
  },
  {
   "cell_type": "code",
   "execution_count": 4,
   "id": "61af683a-ff1e-4420-a1fb-a3254e971471",
   "metadata": {},
   "outputs": [
    {
     "name": "stdout",
     "output_type": "stream",
     "text": [
      "3.0\n"
     ]
    }
   ],
   "source": [
    "import numpy as np\n",
    "a = np.array((5, 6, 7))\n",
    "b = np.array((3, 4, 8))\n",
    "\n",
    "d = np.linalg.norm(a-b)\n",
    "print(d)"
   ]
  },
  {
   "cell_type": "code",
   "execution_count": 5,
   "id": "2bd590e3-8300-45af-ad1c-6ffc87db97f0",
   "metadata": {},
   "outputs": [
    {
     "data": {
      "text/plain": [
       "3.0"
      ]
     },
     "execution_count": 5,
     "metadata": {},
     "output_type": "execute_result"
    }
   ],
   "source": [
    "def dist(x,y):   \n",
    "    return np.sqrt(np.sum((x-y)**2))\n",
    "\n",
    "a = np.array((5,6,7))\n",
    "b = np.array((3,4,8))\n",
    "dist(a,b)"
   ]
  }
 ],
 "metadata": {
  "kernelspec": {
   "display_name": "Python 3 (ipykernel)",
   "language": "python",
   "name": "python3"
  },
  "language_info": {
   "codemirror_mode": {
    "name": "ipython",
    "version": 3
   },
   "file_extension": ".py",
   "mimetype": "text/x-python",
   "name": "python",
   "nbconvert_exporter": "python",
   "pygments_lexer": "ipython3",
   "version": "3.11.7"
  }
 },
 "nbformat": 4,
 "nbformat_minor": 5
}
