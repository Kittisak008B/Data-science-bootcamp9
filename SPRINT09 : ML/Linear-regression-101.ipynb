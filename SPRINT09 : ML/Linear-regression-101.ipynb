{
 "cells": [
  {
   "cell_type": "code",
   "execution_count": 1,
   "id": "0d706ef4-3ba3-4601-a294-03abb3d1ee58",
   "metadata": {},
   "outputs": [],
   "source": [
    "import pandas as pd\n",
    "import matplotlib.pyplot as plt\n",
    "import seaborn as sns\n",
    "%matplotlib inline\n",
    "\n",
    "import warnings\n",
    "warnings.filterwarnings('ignore')"
   ]
  },
  {
   "cell_type": "code",
   "execution_count": 2,
   "id": "fcdfcf55-d36c-4897-9bb3-56c2ccc011ab",
   "metadata": {},
   "outputs": [
    {
     "data": {
      "text/html": [
       "<div>\n",
       "<style scoped>\n",
       "    .dataframe tbody tr th:only-of-type {\n",
       "        vertical-align: middle;\n",
       "    }\n",
       "\n",
       "    .dataframe tbody tr th {\n",
       "        vertical-align: top;\n",
       "    }\n",
       "\n",
       "    .dataframe thead th {\n",
       "        text-align: right;\n",
       "    }\n",
       "</style>\n",
       "<table border=\"1\" class=\"dataframe\">\n",
       "  <thead>\n",
       "    <tr style=\"text-align: right;\">\n",
       "      <th></th>\n",
       "      <th>TV</th>\n",
       "      <th>Radio</th>\n",
       "      <th>Newspaper</th>\n",
       "      <th>Sales</th>\n",
       "    </tr>\n",
       "  </thead>\n",
       "  <tbody>\n",
       "    <tr>\n",
       "      <th>0</th>\n",
       "      <td>230.1</td>\n",
       "      <td>37.8</td>\n",
       "      <td>69.2</td>\n",
       "      <td>22.1</td>\n",
       "    </tr>\n",
       "    <tr>\n",
       "      <th>1</th>\n",
       "      <td>44.5</td>\n",
       "      <td>39.3</td>\n",
       "      <td>45.1</td>\n",
       "      <td>10.4</td>\n",
       "    </tr>\n",
       "    <tr>\n",
       "      <th>2</th>\n",
       "      <td>17.2</td>\n",
       "      <td>45.9</td>\n",
       "      <td>69.3</td>\n",
       "      <td>12.0</td>\n",
       "    </tr>\n",
       "    <tr>\n",
       "      <th>3</th>\n",
       "      <td>151.5</td>\n",
       "      <td>41.3</td>\n",
       "      <td>58.5</td>\n",
       "      <td>16.5</td>\n",
       "    </tr>\n",
       "    <tr>\n",
       "      <th>4</th>\n",
       "      <td>180.8</td>\n",
       "      <td>10.8</td>\n",
       "      <td>58.4</td>\n",
       "      <td>17.9</td>\n",
       "    </tr>\n",
       "    <tr>\n",
       "      <th>...</th>\n",
       "      <td>...</td>\n",
       "      <td>...</td>\n",
       "      <td>...</td>\n",
       "      <td>...</td>\n",
       "    </tr>\n",
       "    <tr>\n",
       "      <th>195</th>\n",
       "      <td>38.2</td>\n",
       "      <td>3.7</td>\n",
       "      <td>13.8</td>\n",
       "      <td>7.6</td>\n",
       "    </tr>\n",
       "    <tr>\n",
       "      <th>196</th>\n",
       "      <td>94.2</td>\n",
       "      <td>4.9</td>\n",
       "      <td>8.1</td>\n",
       "      <td>14.0</td>\n",
       "    </tr>\n",
       "    <tr>\n",
       "      <th>197</th>\n",
       "      <td>177.0</td>\n",
       "      <td>9.3</td>\n",
       "      <td>6.4</td>\n",
       "      <td>14.8</td>\n",
       "    </tr>\n",
       "    <tr>\n",
       "      <th>198</th>\n",
       "      <td>283.6</td>\n",
       "      <td>42.0</td>\n",
       "      <td>66.2</td>\n",
       "      <td>25.5</td>\n",
       "    </tr>\n",
       "    <tr>\n",
       "      <th>199</th>\n",
       "      <td>232.1</td>\n",
       "      <td>8.6</td>\n",
       "      <td>8.7</td>\n",
       "      <td>18.4</td>\n",
       "    </tr>\n",
       "  </tbody>\n",
       "</table>\n",
       "<p>200 rows × 4 columns</p>\n",
       "</div>"
      ],
      "text/plain": [
       "        TV  Radio  Newspaper  Sales\n",
       "0    230.1   37.8       69.2   22.1\n",
       "1     44.5   39.3       45.1   10.4\n",
       "2     17.2   45.9       69.3   12.0\n",
       "3    151.5   41.3       58.5   16.5\n",
       "4    180.8   10.8       58.4   17.9\n",
       "..     ...    ...        ...    ...\n",
       "195   38.2    3.7       13.8    7.6\n",
       "196   94.2    4.9        8.1   14.0\n",
       "197  177.0    9.3        6.4   14.8\n",
       "198  283.6   42.0       66.2   25.5\n",
       "199  232.1    8.6        8.7   18.4\n",
       "\n",
       "[200 rows x 4 columns]"
      ]
     },
     "execution_count": 2,
     "metadata": {},
     "output_type": "execute_result"
    }
   ],
   "source": [
    "df = pd.read_csv('Advertising.csv')\n",
    "df"
   ]
  },
  {
   "cell_type": "code",
   "execution_count": 3,
   "id": "985f733a-e325-4dde-8611-65ed3cbede51",
   "metadata": {},
   "outputs": [
    {
     "data": {
      "text/html": [
       "<div>\n",
       "<style scoped>\n",
       "    .dataframe tbody tr th:only-of-type {\n",
       "        vertical-align: middle;\n",
       "    }\n",
       "\n",
       "    .dataframe tbody tr th {\n",
       "        vertical-align: top;\n",
       "    }\n",
       "\n",
       "    .dataframe thead th {\n",
       "        text-align: right;\n",
       "    }\n",
       "</style>\n",
       "<table border=\"1\" class=\"dataframe\">\n",
       "  <thead>\n",
       "    <tr style=\"text-align: right;\">\n",
       "      <th></th>\n",
       "      <th>TV</th>\n",
       "      <th>Sales</th>\n",
       "    </tr>\n",
       "  </thead>\n",
       "  <tbody>\n",
       "    <tr>\n",
       "      <th>0</th>\n",
       "      <td>230.1</td>\n",
       "      <td>22.1</td>\n",
       "    </tr>\n",
       "    <tr>\n",
       "      <th>1</th>\n",
       "      <td>44.5</td>\n",
       "      <td>10.4</td>\n",
       "    </tr>\n",
       "    <tr>\n",
       "      <th>2</th>\n",
       "      <td>17.2</td>\n",
       "      <td>12.0</td>\n",
       "    </tr>\n",
       "    <tr>\n",
       "      <th>3</th>\n",
       "      <td>151.5</td>\n",
       "      <td>16.5</td>\n",
       "    </tr>\n",
       "    <tr>\n",
       "      <th>4</th>\n",
       "      <td>180.8</td>\n",
       "      <td>17.9</td>\n",
       "    </tr>\n",
       "    <tr>\n",
       "      <th>...</th>\n",
       "      <td>...</td>\n",
       "      <td>...</td>\n",
       "    </tr>\n",
       "    <tr>\n",
       "      <th>195</th>\n",
       "      <td>38.2</td>\n",
       "      <td>7.6</td>\n",
       "    </tr>\n",
       "    <tr>\n",
       "      <th>196</th>\n",
       "      <td>94.2</td>\n",
       "      <td>14.0</td>\n",
       "    </tr>\n",
       "    <tr>\n",
       "      <th>197</th>\n",
       "      <td>177.0</td>\n",
       "      <td>14.8</td>\n",
       "    </tr>\n",
       "    <tr>\n",
       "      <th>198</th>\n",
       "      <td>283.6</td>\n",
       "      <td>25.5</td>\n",
       "    </tr>\n",
       "    <tr>\n",
       "      <th>199</th>\n",
       "      <td>232.1</td>\n",
       "      <td>18.4</td>\n",
       "    </tr>\n",
       "  </tbody>\n",
       "</table>\n",
       "<p>200 rows × 2 columns</p>\n",
       "</div>"
      ],
      "text/plain": [
       "        TV  Sales\n",
       "0    230.1   22.1\n",
       "1     44.5   10.4\n",
       "2     17.2   12.0\n",
       "3    151.5   16.5\n",
       "4    180.8   17.9\n",
       "..     ...    ...\n",
       "195   38.2    7.6\n",
       "196   94.2   14.0\n",
       "197  177.0   14.8\n",
       "198  283.6   25.5\n",
       "199  232.1   18.4\n",
       "\n",
       "[200 rows x 2 columns]"
      ]
     },
     "execution_count": 3,
     "metadata": {},
     "output_type": "execute_result"
    }
   ],
   "source": [
    "df1 = df.drop(['Radio', 'Newspaper'], axis=1)\n",
    "df1"
   ]
  },
  {
   "cell_type": "code",
   "execution_count": 4,
   "id": "e63ed5e0-3abd-4a8f-a8b5-3e1855e6d96e",
   "metadata": {},
   "outputs": [
    {
     "data": {
      "text/html": [
       "<div>\n",
       "<style scoped>\n",
       "    .dataframe tbody tr th:only-of-type {\n",
       "        vertical-align: middle;\n",
       "    }\n",
       "\n",
       "    .dataframe tbody tr th {\n",
       "        vertical-align: top;\n",
       "    }\n",
       "\n",
       "    .dataframe thead th {\n",
       "        text-align: right;\n",
       "    }\n",
       "</style>\n",
       "<table border=\"1\" class=\"dataframe\">\n",
       "  <thead>\n",
       "    <tr style=\"text-align: right;\">\n",
       "      <th></th>\n",
       "      <th>TV</th>\n",
       "      <th>Sales</th>\n",
       "    </tr>\n",
       "  </thead>\n",
       "  <tbody>\n",
       "    <tr>\n",
       "      <th>TV</th>\n",
       "      <td>1.000000</td>\n",
       "      <td>0.901208</td>\n",
       "    </tr>\n",
       "    <tr>\n",
       "      <th>Sales</th>\n",
       "      <td>0.901208</td>\n",
       "      <td>1.000000</td>\n",
       "    </tr>\n",
       "  </tbody>\n",
       "</table>\n",
       "</div>"
      ],
      "text/plain": [
       "             TV     Sales\n",
       "TV     1.000000  0.901208\n",
       "Sales  0.901208  1.000000"
      ]
     },
     "execution_count": 4,
     "metadata": {},
     "output_type": "execute_result"
    }
   ],
   "source": [
    "df1.corr()"
   ]
  },
  {
   "cell_type": "code",
   "execution_count": 5,
   "id": "1049045c-b85a-4470-ba04-81c5dc25b697",
   "metadata": {},
   "outputs": [
    {
     "data": {
      "image/png": "[encoded data removed]",
      "text/plain": [
       "<Figure size 640x480 with 1 Axes>"
      ]
     },
     "metadata": {},
     "output_type": "display_data"
    }
   ],
   "source": [
    "df1.plot(x='TV' , y='Sales', style='o');"
   ]
  },
  {
   "cell_type": "code",
   "execution_count": 6,
   "id": "80d68413-9396-430a-80e8-4dfc0aaddd72",
   "metadata": {},
   "outputs": [
    {
     "data": {
      "text/plain": [
       "<Figure size 1600x900 with 0 Axes>"
      ]
     },
     "metadata": {},
     "output_type": "display_data"
    },
    {
     "data": {
      "image/png": "[encoded data removed]",
      "text/plain": [
       "<Figure size 500x500 with 1 Axes>"
      ]
     },
     "metadata": {},
     "output_type": "display_data"
    }
   ],
   "source": [
    "plt.figure(figsize=(16, 9))\n",
    "sns.lmplot(x='TV', y='Sales', data=df1, ci=None);"
   ]
  },
  {
   "cell_type": "code",
   "execution_count": 7,
   "id": "84fb728e-7768-4c67-a184-1b300109bf56",
   "metadata": {},
   "outputs": [],
   "source": [
    "# simple_linear_regression   y = mx + c\n",
    "\n",
    "import sklearn\n",
    "from sklearn.linear_model import LinearRegression"
   ]
  },
  {
   "cell_type": "code",
   "execution_count": 8,
   "id": "5c2aa022-6118-44cb-a422-26a103a2a26c",
   "metadata": {},
   "outputs": [
    {
     "data": {
      "text/html": [
       "<style>#sk-container-id-1 {color: black;background-color: white;}#sk-container-id-1 pre{padding: 0;}#sk-container-id-1 div.sk-toggleable {background-color: white;}#sk-container-id-1 label.sk-toggleable__label {cursor: pointer;display: block;width: 100%;margin-bottom: 0;padding: 0.3em;box-sizing: border-box;text-align: center;}#sk-container-id-1 label.sk-toggleable__label-arrow:before {content: \"▸\";float: left;margin-right: 0.25em;color: #696969;}#sk-container-id-1 label.sk-toggleable__label-arrow:hover:before {color: black;}#sk-container-id-1 div.sk-estimator:hover label.sk-toggleable__label-arrow:before {color: black;}#sk-container-id-1 div.sk-toggleable__content {max-height: 0;max-width: 0;overflow: hidden;text-align: left;background-color: #f0f8ff;}#sk-container-id-1 div.sk-toggleable__content pre {margin: 0.2em;color: black;border-radius: 0.25em;background-color: #f0f8ff;}#sk-container-id-1 input.sk-toggleable__control:checked~div.sk-toggleable__content {max-height: 200px;max-width: 100%;overflow: auto;}#sk-container-id-1 input.sk-toggleable__control:checked~label.sk-toggleable__label-arrow:before {content: \"▾\";}#sk-container-id-1 div.sk-estimator input.sk-toggleable__control:checked~label.sk-toggleable__label {background-color: #d4ebff;}#sk-container-id-1 div.sk-label input.sk-toggleable__control:checked~label.sk-toggleable__label {background-color: #d4ebff;}#sk-container-id-1 input.sk-hidden--visually {border: 0;clip: rect(1px 1px 1px 1px);clip: rect(1px, 1px, 1px, 1px);height: 1px;margin: -1px;overflow: hidden;padding: 0;position: absolute;width: 1px;}#sk-container-id-1 div.sk-estimator {font-family: monospace;background-color: #f0f8ff;border: 1px dotted black;border-radius: 0.25em;box-sizing: border-box;margin-bottom: 0.5em;}#sk-container-id-1 div.sk-estimator:hover {background-color: #d4ebff;}#sk-container-id-1 div.sk-parallel-item::after {content: \"\";width: 100%;border-bottom: 1px solid gray;flex-grow: 1;}#sk-container-id-1 div.sk-label:hover label.sk-toggleable__label {background-color: #d4ebff;}#sk-container-id-1 div.sk-serial::before {content: \"\";position: absolute;border-left: 1px solid gray;box-sizing: border-box;top: 0;bottom: 0;left: 50%;z-index: 0;}#sk-container-id-1 div.sk-serial {display: flex;flex-direction: column;align-items: center;background-color: white;padding-right: 0.2em;padding-left: 0.2em;position: relative;}#sk-container-id-1 div.sk-item {position: relative;z-index: 1;}#sk-container-id-1 div.sk-parallel {display: flex;align-items: stretch;justify-content: center;background-color: white;position: relative;}#sk-container-id-1 div.sk-item::before, #sk-container-id-1 div.sk-parallel-item::before {content: \"\";position: absolute;border-left: 1px solid gray;box-sizing: border-box;top: 0;bottom: 0;left: 50%;z-index: -1;}#sk-container-id-1 div.sk-parallel-item {display: flex;flex-direction: column;z-index: 1;position: relative;background-color: white;}#sk-container-id-1 div.sk-parallel-item:first-child::after {align-self: flex-end;width: 50%;}#sk-container-id-1 div.sk-parallel-item:last-child::after {align-self: flex-start;width: 50%;}#sk-container-id-1 div.sk-parallel-item:only-child::after {width: 0;}#sk-container-id-1 div.sk-dashed-wrapped {border: 1px dashed gray;margin: 0 0.4em 0.5em 0.4em;box-sizing: border-box;padding-bottom: 0.4em;background-color: white;}#sk-container-id-1 div.sk-label label {font-family: monospace;font-weight: bold;display: inline-block;line-height: 1.2em;}#sk-container-id-1 div.sk-label-container {text-align: center;}#sk-container-id-1 div.sk-container {/* jupyter's `normalize.less` sets `[hidden] { display: none; }` but bootstrap.min.css set `[hidden] { display: none !important; }` so we also need the `!important` here to be able to override the default hidden behavior on the sphinx rendered scikit-learn.org. See: https://github.com/scikit-learn/scikit-learn/issues/21755 */display: inline-block !important;position: relative;}#sk-container-id-1 div.sk-text-repr-fallback {display: none;}</style><div id=\"sk-container-id-1\" class=\"sk-top-container\"><div class=\"sk-text-repr-fallback\"><pre>LinearRegression()</pre><b>In a Jupyter environment, please rerun this cell to show the HTML representation or trust the notebook. <br />On GitHub, the HTML representation is unable to render, please try loading this page with nbviewer.org.</b></div><div class=\"sk-container\" hidden><div class=\"sk-item\"><div class=\"sk-estimator sk-toggleable\"><input class=\"sk-toggleable__control sk-hidden--visually\" id=\"sk-estimator-id-1\" type=\"checkbox\" checked><label for=\"sk-estimator-id-1\" class=\"sk-toggleable__label sk-toggleable__label-arrow\">LinearRegression</label><div class=\"sk-toggleable__content\"><pre>LinearRegression()</pre></div></div></div></div></div>"
      ],
      "text/plain": [
       "LinearRegression()"
      ]
     },
     "execution_count": 8,
     "metadata": {},
     "output_type": "execute_result"
    }
   ],
   "source": [
    "X = df1[['TV']]\n",
    "y = df1['Sales']\n",
    "model = LinearRegression() \n",
    "model.fit(X,y)"
   ]
  },
  {
   "cell_type": "code",
   "execution_count": 9,
   "id": "828f8c8b-588e-4ff3-9ed3-689c144377fc",
   "metadata": {},
   "outputs": [
    {
     "data": {
      "text/plain": [
       "6.9748214882298925"
      ]
     },
     "execution_count": 9,
     "metadata": {},
     "output_type": "execute_result"
    }
   ],
   "source": [
    "model.intercept_  #Y-intercept"
   ]
  },
  {
   "cell_type": "code",
   "execution_count": 10,
   "id": "5822820f-f0ab-43f4-bb3e-7489dcfb1514",
   "metadata": {},
   "outputs": [
    {
     "data": {
      "text/plain": [
       "array([0.05546477])"
      ]
     },
     "execution_count": 10,
     "metadata": {},
     "output_type": "execute_result"
    }
   ],
   "source": [
    "model.coef_  #slope"
   ]
  },
  {
   "cell_type": "code",
   "execution_count": 11,
   "id": "bba16ff5-6e29-4303-a262-5a61712343b0",
   "metadata": {},
   "outputs": [
    {
     "data": {
      "text/plain": [
       "0.8121757029987414"
      ]
     },
     "execution_count": 11,
     "metadata": {},
     "output_type": "execute_result"
    }
   ],
   "source": [
    "model.score(X, y) # R-squared"
   ]
  },
  {
   "cell_type": "code",
   "execution_count": 12,
   "id": "6bbc3b68-5237-4121-a009-f7879ca656eb",
   "metadata": {},
   "outputs": [
    {
     "data": {
      "text/plain": [
       "array([19.73726517,  9.44300377,  7.92881554, 15.37773421, 17.00285199,\n",
       "        7.45736499, 10.16404579, 13.6416869 ,  7.45181851, 18.05668263,\n",
       "       10.64104282, 18.88310771,  8.29488303, 12.38263661, 18.29518114,\n",
       "       17.81263764, 10.73533293, 22.5826079 , 10.8129836 , 15.14478218,\n",
       "       19.08832736, 20.142158  ,  7.70695646, 19.63742859, 10.43027669,\n",
       "       21.55650964, 14.90073719, 20.29191288, 20.77445638, 10.89063428,\n",
       "       23.22045276, 13.23679407, 12.36599718, 21.70626452, 12.28280002,\n",
       "       23.09843026, 21.77836873, 11.11803984,  9.3653531 , 19.62078916,\n",
       "       18.20643751, 16.79208586, 23.2592781 , 18.4504825 ,  8.36698723,\n",
       "       16.6867028 , 11.9500114 , 20.28081992, 19.57641734, 10.68541463,\n",
       "       18.05668263, 12.54348444, 18.97739782, 17.10268858, 21.54541669,\n",
       "       18.00676433,  7.37971431, 14.52912323, 18.6667951 , 18.66124863,\n",
       "        9.94218671, 21.46776601, 20.24754106, 12.67105342, 14.2462529 ,\n",
       "       10.80189065,  8.72196176, 14.70106401, 20.142158  , 18.99958373,\n",
       "       18.01785729, 13.06485329,  8.46127734, 14.15196279, 18.81100351,\n",
       "        7.91217611,  8.50010268, 13.65832633,  7.27433125, 13.40873486,\n",
       "       11.21232995, 20.27527345, 11.1513187 , 10.76861179, 18.81654998,\n",
       "       17.69061514, 11.20678348, 13.11477158, 11.87236072, 13.06485329,\n",
       "       14.42374016,  8.56111392, 19.04950202, 20.8909324 , 12.93173784,\n",
       "       16.03221851, 17.93466013, 17.23025755, 23.04296549, 14.47365846,\n",
       "       19.31018644, 23.41457946, 22.51605017, 17.39665186, 20.18652981,\n",
       "       14.62341334,  8.36144075, 11.98883674,  7.70140998, 21.14052387,\n",
       "       19.49876666, 20.38065651, 16.71998166, 18.60023738, 11.31216654,\n",
       "       11.14022575, 14.69551754, 11.21232995, 13.94674314,  8.05083804,\n",
       "       14.81199356,  8.01755917, 19.39893007, 13.80253473, 19.70398631,\n",
       "       11.81134947,  7.4074467 , 11.42309608, 19.19371042, 10.28052181,\n",
       "        7.01364683, 21.68407862,  7.44072556, 19.16597804,  9.02147152,\n",
       "        9.6537699 ,  8.39471961, 22.15552917,  9.35980662, 17.23025755,\n",
       "       11.04593564, 17.71834753, 19.20480338, 12.77643648, 12.31053241,\n",
       "       14.75652879, 20.29191288, 20.46385367,  9.08248277,  9.45409673,\n",
       "       22.54378256, 13.68605872, 17.93466013, 16.47593667, 17.39110538,\n",
       "        7.20222705, 12.18296344, 15.2834441 ,  7.6237593 , 14.27953176,\n",
       "       16.54249439, 11.72815232, 17.42438424, 16.04331146, 13.47529259,\n",
       "       19.98131016,  7.96764088, 18.44493602, 18.92193305, 22.74345573,\n",
       "        9.74806001, 16.09877623,  8.06193099, 16.31508884, 19.31018644,\n",
       "       22.33301643, 20.75227047, 16.41492542, 22.32192348, 16.15978748,\n",
       "       15.66060454, 19.09387384, 10.09194159, 22.92648948, 21.05178023,\n",
       "       18.34509943, 14.71215697, 17.57413912, 22.83774584,  8.0120127 ,\n",
       "        9.16567992, 11.16241166,  7.92881554, 16.2263452 , 15.27789763,\n",
       "        9.09357572, 12.19960287, 16.79208586, 22.70463039, 19.84819471])"
      ]
     },
     "execution_count": 12,
     "metadata": {},
     "output_type": "execute_result"
    }
   ],
   "source": [
    "#predicting\n",
    "predictions = model.predict(X)\n",
    "predictions"
   ]
  },
  {
   "cell_type": "code",
   "execution_count": 13,
   "id": "0b86ef17-f1eb-4174-aa6d-19aa4b0824d8",
   "metadata": {},
   "outputs": [
    {
     "data": {
      "image/png": "[encoded data removed]",
      "text/plain": [
       "<Figure size 640x480 with 1 Axes>"
      ]
     },
     "metadata": {},
     "output_type": "display_data"
    }
   ],
   "source": [
    "plt.scatter(X , y )\n",
    "plt.plot(X, predictions , color='red' , linewidth=3);"
   ]
  },
  {
   "cell_type": "code",
   "execution_count": 14,
   "id": "6b7917c6-c178-4b97-9a2b-f8fd72db85af",
   "metadata": {},
   "outputs": [
    {
     "data": {
      "text/plain": [
       "array([18.06777558])"
      ]
     },
     "execution_count": 14,
     "metadata": {},
     "output_type": "execute_result"
    }
   ],
   "source": [
    "model.predict([[200]])"
   ]
  },
  {
   "cell_type": "code",
   "execution_count": 15,
   "id": "d5ca54f0-29a1-4631-858a-22132cc6162c",
   "metadata": {},
   "outputs": [
    {
     "data": {
      "text/plain": [
       "1.8305872641932417"
      ]
     },
     "execution_count": 15,
     "metadata": {},
     "output_type": "execute_result"
    }
   ],
   "source": [
    "from sklearn import metrics\n",
    "metrics.mean_absolute_error(y , predictions)"
   ]
  },
  {
   "cell_type": "markdown",
   "id": "a3ca6aae-7cfb-45fc-838d-7f0620c47038",
   "metadata": {},
   "source": [
    "The multiple linear regression equation is given by:\r\n",
    "\r\n",
    "`Y = b₀ + b₁X₁ + b₂X₂ + ... + bₙXₙ`\r\n",
    "\r\n",
    "where:\r\n",
    "- `Y` is the dependent variable,\r\n",
    "- `b₀` is the y-intercept,\r\n",
    "- `b₁, b₂, ..., bₙ` are the coefficients,\r\n",
    "- `X₁, X₂, ..., Xₙ` are the independent variables.\r\n"
   ]
  },
  {
   "cell_type": "code",
   "execution_count": 16,
   "id": "16d32ed4-8143-4803-a1a5-9b736fbf6bed",
   "metadata": {},
   "outputs": [
    {
     "data": {
      "text/html": [
       "<div>\n",
       "<style scoped>\n",
       "    .dataframe tbody tr th:only-of-type {\n",
       "        vertical-align: middle;\n",
       "    }\n",
       "\n",
       "    .dataframe tbody tr th {\n",
       "        vertical-align: top;\n",
       "    }\n",
       "\n",
       "    .dataframe thead th {\n",
       "        text-align: right;\n",
       "    }\n",
       "</style>\n",
       "<table border=\"1\" class=\"dataframe\">\n",
       "  <thead>\n",
       "    <tr style=\"text-align: right;\">\n",
       "      <th></th>\n",
       "      <th>TV</th>\n",
       "      <th>Radio</th>\n",
       "      <th>Newspaper</th>\n",
       "      <th>Sales</th>\n",
       "    </tr>\n",
       "  </thead>\n",
       "  <tbody>\n",
       "    <tr>\n",
       "      <th>0</th>\n",
       "      <td>230.1</td>\n",
       "      <td>37.8</td>\n",
       "      <td>69.2</td>\n",
       "      <td>22.1</td>\n",
       "    </tr>\n",
       "    <tr>\n",
       "      <th>1</th>\n",
       "      <td>44.5</td>\n",
       "      <td>39.3</td>\n",
       "      <td>45.1</td>\n",
       "      <td>10.4</td>\n",
       "    </tr>\n",
       "    <tr>\n",
       "      <th>2</th>\n",
       "      <td>17.2</td>\n",
       "      <td>45.9</td>\n",
       "      <td>69.3</td>\n",
       "      <td>12.0</td>\n",
       "    </tr>\n",
       "    <tr>\n",
       "      <th>3</th>\n",
       "      <td>151.5</td>\n",
       "      <td>41.3</td>\n",
       "      <td>58.5</td>\n",
       "      <td>16.5</td>\n",
       "    </tr>\n",
       "    <tr>\n",
       "      <th>4</th>\n",
       "      <td>180.8</td>\n",
       "      <td>10.8</td>\n",
       "      <td>58.4</td>\n",
       "      <td>17.9</td>\n",
       "    </tr>\n",
       "    <tr>\n",
       "      <th>...</th>\n",
       "      <td>...</td>\n",
       "      <td>...</td>\n",
       "      <td>...</td>\n",
       "      <td>...</td>\n",
       "    </tr>\n",
       "    <tr>\n",
       "      <th>195</th>\n",
       "      <td>38.2</td>\n",
       "      <td>3.7</td>\n",
       "      <td>13.8</td>\n",
       "      <td>7.6</td>\n",
       "    </tr>\n",
       "    <tr>\n",
       "      <th>196</th>\n",
       "      <td>94.2</td>\n",
       "      <td>4.9</td>\n",
       "      <td>8.1</td>\n",
       "      <td>14.0</td>\n",
       "    </tr>\n",
       "    <tr>\n",
       "      <th>197</th>\n",
       "      <td>177.0</td>\n",
       "      <td>9.3</td>\n",
       "      <td>6.4</td>\n",
       "      <td>14.8</td>\n",
       "    </tr>\n",
       "    <tr>\n",
       "      <th>198</th>\n",
       "      <td>283.6</td>\n",
       "      <td>42.0</td>\n",
       "      <td>66.2</td>\n",
       "      <td>25.5</td>\n",
       "    </tr>\n",
       "    <tr>\n",
       "      <th>199</th>\n",
       "      <td>232.1</td>\n",
       "      <td>8.6</td>\n",
       "      <td>8.7</td>\n",
       "      <td>18.4</td>\n",
       "    </tr>\n",
       "  </tbody>\n",
       "</table>\n",
       "<p>200 rows × 4 columns</p>\n",
       "</div>"
      ],
      "text/plain": [
       "        TV  Radio  Newspaper  Sales\n",
       "0    230.1   37.8       69.2   22.1\n",
       "1     44.5   39.3       45.1   10.4\n",
       "2     17.2   45.9       69.3   12.0\n",
       "3    151.5   41.3       58.5   16.5\n",
       "4    180.8   10.8       58.4   17.9\n",
       "..     ...    ...        ...    ...\n",
       "195   38.2    3.7       13.8    7.6\n",
       "196   94.2    4.9        8.1   14.0\n",
       "197  177.0    9.3        6.4   14.8\n",
       "198  283.6   42.0       66.2   25.5\n",
       "199  232.1    8.6        8.7   18.4\n",
       "\n",
       "[200 rows x 4 columns]"
      ]
     },
     "execution_count": 16,
     "metadata": {},
     "output_type": "execute_result"
    }
   ],
   "source": [
    "# multiple linear regression\n",
    "df2 = df\n",
    "df2"
   ]
  },
  {
   "cell_type": "code",
   "execution_count": 17,
   "id": "73cf481b-4a2c-43f6-8d00-ec41fff7f057",
   "metadata": {},
   "outputs": [
    {
     "data": {
      "text/html": [
       "<div>\n",
       "<style scoped>\n",
       "    .dataframe tbody tr th:only-of-type {\n",
       "        vertical-align: middle;\n",
       "    }\n",
       "\n",
       "    .dataframe tbody tr th {\n",
       "        vertical-align: top;\n",
       "    }\n",
       "\n",
       "    .dataframe thead th {\n",
       "        text-align: right;\n",
       "    }\n",
       "</style>\n",
       "<table border=\"1\" class=\"dataframe\">\n",
       "  <thead>\n",
       "    <tr style=\"text-align: right;\">\n",
       "      <th></th>\n",
       "      <th>TV</th>\n",
       "      <th>Radio</th>\n",
       "      <th>Newspaper</th>\n",
       "      <th>Sales</th>\n",
       "    </tr>\n",
       "  </thead>\n",
       "  <tbody>\n",
       "    <tr>\n",
       "      <th>TV</th>\n",
       "      <td>1.000000</td>\n",
       "      <td>0.054809</td>\n",
       "      <td>0.056648</td>\n",
       "      <td>0.901208</td>\n",
       "    </tr>\n",
       "    <tr>\n",
       "      <th>Radio</th>\n",
       "      <td>0.054809</td>\n",
       "      <td>1.000000</td>\n",
       "      <td>0.354104</td>\n",
       "      <td>0.349631</td>\n",
       "    </tr>\n",
       "    <tr>\n",
       "      <th>Newspaper</th>\n",
       "      <td>0.056648</td>\n",
       "      <td>0.354104</td>\n",
       "      <td>1.000000</td>\n",
       "      <td>0.157960</td>\n",
       "    </tr>\n",
       "    <tr>\n",
       "      <th>Sales</th>\n",
       "      <td>0.901208</td>\n",
       "      <td>0.349631</td>\n",
       "      <td>0.157960</td>\n",
       "      <td>1.000000</td>\n",
       "    </tr>\n",
       "  </tbody>\n",
       "</table>\n",
       "</div>"
      ],
      "text/plain": [
       "                 TV     Radio  Newspaper     Sales\n",
       "TV         1.000000  0.054809   0.056648  0.901208\n",
       "Radio      0.054809  1.000000   0.354104  0.349631\n",
       "Newspaper  0.056648  0.354104   1.000000  0.157960\n",
       "Sales      0.901208  0.349631   0.157960  1.000000"
      ]
     },
     "execution_count": 17,
     "metadata": {},
     "output_type": "execute_result"
    }
   ],
   "source": [
    "df2.corr()"
   ]
  },
  {
   "cell_type": "code",
   "execution_count": 18,
   "id": "93ce74ec-6758-4ae0-ba8f-7f266b97939f",
   "metadata": {},
   "outputs": [
    {
     "data": {
      "text/html": [
       "<style>#sk-container-id-2 {color: black;background-color: white;}#sk-container-id-2 pre{padding: 0;}#sk-container-id-2 div.sk-toggleable {background-color: white;}#sk-container-id-2 label.sk-toggleable__label {cursor: pointer;display: block;width: 100%;margin-bottom: 0;padding: 0.3em;box-sizing: border-box;text-align: center;}#sk-container-id-2 label.sk-toggleable__label-arrow:before {content: \"▸\";float: left;margin-right: 0.25em;color: #696969;}#sk-container-id-2 label.sk-toggleable__label-arrow:hover:before {color: black;}#sk-container-id-2 div.sk-estimator:hover label.sk-toggleable__label-arrow:before {color: black;}#sk-container-id-2 div.sk-toggleable__content {max-height: 0;max-width: 0;overflow: hidden;text-align: left;background-color: #f0f8ff;}#sk-container-id-2 div.sk-toggleable__content pre {margin: 0.2em;color: black;border-radius: 0.25em;background-color: #f0f8ff;}#sk-container-id-2 input.sk-toggleable__control:checked~div.sk-toggleable__content {max-height: 200px;max-width: 100%;overflow: auto;}#sk-container-id-2 input.sk-toggleable__control:checked~label.sk-toggleable__label-arrow:before {content: \"▾\";}#sk-container-id-2 div.sk-estimator input.sk-toggleable__control:checked~label.sk-toggleable__label {background-color: #d4ebff;}#sk-container-id-2 div.sk-label input.sk-toggleable__control:checked~label.sk-toggleable__label {background-color: #d4ebff;}#sk-container-id-2 input.sk-hidden--visually {border: 0;clip: rect(1px 1px 1px 1px);clip: rect(1px, 1px, 1px, 1px);height: 1px;margin: -1px;overflow: hidden;padding: 0;position: absolute;width: 1px;}#sk-container-id-2 div.sk-estimator {font-family: monospace;background-color: #f0f8ff;border: 1px dotted black;border-radius: 0.25em;box-sizing: border-box;margin-bottom: 0.5em;}#sk-container-id-2 div.sk-estimator:hover {background-color: #d4ebff;}#sk-container-id-2 div.sk-parallel-item::after {content: \"\";width: 100%;border-bottom: 1px solid gray;flex-grow: 1;}#sk-container-id-2 div.sk-label:hover label.sk-toggleable__label {background-color: #d4ebff;}#sk-container-id-2 div.sk-serial::before {content: \"\";position: absolute;border-left: 1px solid gray;box-sizing: border-box;top: 0;bottom: 0;left: 50%;z-index: 0;}#sk-container-id-2 div.sk-serial {display: flex;flex-direction: column;align-items: center;background-color: white;padding-right: 0.2em;padding-left: 0.2em;position: relative;}#sk-container-id-2 div.sk-item {position: relative;z-index: 1;}#sk-container-id-2 div.sk-parallel {display: flex;align-items: stretch;justify-content: center;background-color: white;position: relative;}#sk-container-id-2 div.sk-item::before, #sk-container-id-2 div.sk-parallel-item::before {content: \"\";position: absolute;border-left: 1px solid gray;box-sizing: border-box;top: 0;bottom: 0;left: 50%;z-index: -1;}#sk-container-id-2 div.sk-parallel-item {display: flex;flex-direction: column;z-index: 1;position: relative;background-color: white;}#sk-container-id-2 div.sk-parallel-item:first-child::after {align-self: flex-end;width: 50%;}#sk-container-id-2 div.sk-parallel-item:last-child::after {align-self: flex-start;width: 50%;}#sk-container-id-2 div.sk-parallel-item:only-child::after {width: 0;}#sk-container-id-2 div.sk-dashed-wrapped {border: 1px dashed gray;margin: 0 0.4em 0.5em 0.4em;box-sizing: border-box;padding-bottom: 0.4em;background-color: white;}#sk-container-id-2 div.sk-label label {font-family: monospace;font-weight: bold;display: inline-block;line-height: 1.2em;}#sk-container-id-2 div.sk-label-container {text-align: center;}#sk-container-id-2 div.sk-container {/* jupyter's `normalize.less` sets `[hidden] { display: none; }` but bootstrap.min.css set `[hidden] { display: none !important; }` so we also need the `!important` here to be able to override the default hidden behavior on the sphinx rendered scikit-learn.org. See: https://github.com/scikit-learn/scikit-learn/issues/21755 */display: inline-block !important;position: relative;}#sk-container-id-2 div.sk-text-repr-fallback {display: none;}</style><div id=\"sk-container-id-2\" class=\"sk-top-container\"><div class=\"sk-text-repr-fallback\"><pre>LinearRegression()</pre><b>In a Jupyter environment, please rerun this cell to show the HTML representation or trust the notebook. <br />On GitHub, the HTML representation is unable to render, please try loading this page with nbviewer.org.</b></div><div class=\"sk-container\" hidden><div class=\"sk-item\"><div class=\"sk-estimator sk-toggleable\"><input class=\"sk-toggleable__control sk-hidden--visually\" id=\"sk-estimator-id-2\" type=\"checkbox\" checked><label for=\"sk-estimator-id-2\" class=\"sk-toggleable__label sk-toggleable__label-arrow\">LinearRegression</label><div class=\"sk-toggleable__content\"><pre>LinearRegression()</pre></div></div></div></div></div>"
      ],
      "text/plain": [
       "LinearRegression()"
      ]
     },
     "execution_count": 18,
     "metadata": {},
     "output_type": "execute_result"
    }
   ],
   "source": [
    "X2 = df2[['TV','Radio','Newspaper']]\n",
    "y2 = df2['Sales']\n",
    "model2 = LinearRegression() \n",
    "model2.fit(X2,y2)"
   ]
  },
  {
   "cell_type": "code",
   "execution_count": 19,
   "id": "75ee696f-be87-4024-a7e7-7e4e4cfd4faf",
   "metadata": {},
   "outputs": [
    {
     "data": {
      "text/plain": [
       "4.625124078808653"
      ]
     },
     "execution_count": 19,
     "metadata": {},
     "output_type": "execute_result"
    }
   ],
   "source": [
    "model2.intercept_  "
   ]
  },
  {
   "cell_type": "code",
   "execution_count": 20,
   "id": "b147ec63-40cf-45ec-8a48-47d725683909",
   "metadata": {},
   "outputs": [
    {
     "data": {
      "text/plain": [
       "array([0.05444578, 0.10700123, 0.00033566])"
      ]
     },
     "execution_count": 20,
     "metadata": {},
     "output_type": "execute_result"
    }
   ],
   "source": [
    "model2.coef_ "
   ]
  },
  {
   "cell_type": "code",
   "execution_count": 21,
   "id": "18713e39-d23f-4674-81e2-8afe85b903c0",
   "metadata": {},
   "outputs": [
    {
     "data": {
      "text/plain": [
       "0.9025912899684558"
      ]
     },
     "execution_count": 21,
     "metadata": {},
     "output_type": "execute_result"
    }
   ],
   "source": [
    "model2.score(X2, y2) # R-squared"
   ]
  },
  {
   "cell_type": "code",
   "execution_count": 22,
   "id": "a002deb5-a9ca-49fc-b495-71764437a365",
   "metadata": {},
   "outputs": [
    {
     "data": {
      "text/plain": [
       "array([21.22097209, 11.26824775, 10.49620897, 17.31244651, 15.64413685,\n",
       "       10.35633677, 11.2732847 , 13.27062458,  5.31839603, 15.78871013,\n",
       "        8.8527202 , 18.88400523,  9.69879662, 10.74921373, 19.27328852,\n",
       "       20.38554445, 12.27105794, 24.20214502, 10.5924398 , 15.20872794,\n",
       "       19.49794066, 18.10414656,  7.06177654, 18.87221072,  9.37145421,\n",
       "       19.31996936, 15.54479137, 19.49216302, 21.07865408, 10.19471067,\n",
       "       23.61492832, 12.64683045, 10.08782551, 21.2260486 ,  9.98787085,\n",
       "       20.89407055, 23.84503494, 13.99342411,  9.8404516 , 21.08344935,\n",
       "       18.04712878, 17.84885818, 23.57494339, 16.79762772,  8.75617872,\n",
       "       16.57668108, 10.58020572, 22.13342743, 18.70257411,  9.53181337,\n",
       "       15.84670856, 11.11990058, 20.88243422, 19.53008343, 22.01500291,\n",
       "       20.76038994,  8.04320903, 14.10063486, 21.4222098 , 19.25650785,\n",
       "        7.75915886, 23.43911942, 19.32168181, 13.3867616 , 16.35231896,\n",
       "        9.37729644,  8.97313482, 13.7643628 , 20.49677834, 21.13545307,\n",
       "       18.75250649, 12.14402868,  9.62178972, 12.29082115, 18.88048094,\n",
       "       10.25121926,  6.30053312, 14.24014196,  8.1216232 , 11.77249775,\n",
       "       11.64919966, 18.13231302, 10.90792515, 13.12271953, 20.86169623,\n",
       "       17.13492417, 11.72724142, 15.01773541, 12.18585509, 15.73518229,\n",
       "       12.46462002,  6.35385195, 20.08231542, 22.21538326, 11.97427675,\n",
       "       16.91511512, 15.76009495, 16.94655913, 24.94140428, 16.4635515 ,\n",
       "       17.21068667, 24.68086584, 20.96872721, 16.70191561, 21.26603007,\n",
       "       17.117858  ,  7.17325114,  9.58691025,  5.38975714, 21.41075554,\n",
       "       17.81535602, 21.85850312, 15.83987218, 18.24477648, 13.90202178,\n",
       "       12.47673434, 13.74268711,  8.87535042, 15.4438881 ,  7.40087704,\n",
       "       15.20145315,  7.98754856, 17.08301809, 15.03380429, 20.60147616,\n",
       "       10.64410416,  9.22913323,  8.99476371, 21.86366378,  9.16857418,\n",
       "        8.90340499, 19.38888188,  7.99360692, 20.19198592, 10.78643994,\n",
       "       12.28676609, 10.19510558, 22.63930843,  9.74450543, 19.3900734 ,\n",
       "       10.44479522, 18.98449095, 20.19558086, 10.94160634, 11.45948342,\n",
       "       12.47019032, 18.48158513, 23.12426769, 11.01020756,  9.8263967 ,\n",
       "       21.40779104, 12.12822036, 17.88150523, 18.21228932, 17.11095629,\n",
       "        6.09147928, 14.40908701, 12.92836006,  9.22565677, 13.77606971,\n",
       "       15.96404812, 13.13831936, 16.82802417, 17.46713823, 12.58090014,\n",
       "       17.78492754,  9.63019994, 16.4474296 , 18.89730805, 21.24042066,\n",
       "        8.59480345, 15.8336908 ,  7.84869225, 14.55779863, 17.10206692,\n",
       "       24.94755122, 21.38770686, 14.73822063, 19.94432942, 14.71726516,\n",
       "       13.43232243, 17.10853074,  8.30485298, 24.90888356, 20.73265903,\n",
       "       20.61884334, 12.45394152, 18.10675693, 21.68517626,  6.94582943,\n",
       "       11.1754297 ,  9.89340771,  6.01090333, 18.20194019, 16.58691507,\n",
       "        7.10548951, 10.28094143, 15.25928683, 24.58221952, 18.18512048])"
      ]
     },
     "execution_count": 22,
     "metadata": {},
     "output_type": "execute_result"
    }
   ],
   "source": [
    "#predicting\n",
    "predictions2 = model2.predict(X2)\n",
    "predictions2"
   ]
  },
  {
   "cell_type": "code",
   "execution_count": 23,
   "id": "94886fb0-c693-453b-8bff-17c745796b29",
   "metadata": {},
   "outputs": [
    {
     "data": {
      "text/plain": [
       "1.2363919943957846"
      ]
     },
     "execution_count": 23,
     "metadata": {},
     "output_type": "execute_result"
    }
   ],
   "source": [
    "metrics.mean_absolute_error(y2 , predictions2)"
   ]
  },
  {
   "cell_type": "code",
   "execution_count": 24,
   "id": "651601e9-7251-4b23-b1f8-f9d5db5e343f",
   "metadata": {},
   "outputs": [
    {
     "data": {
      "text/plain": [
       "array([12.21979642])"
      ]
     },
     "execution_count": 24,
     "metadata": {},
     "output_type": "execute_result"
    }
   ],
   "source": [
    "model2.predict([[100,20,30]])"
   ]
  }
 ],
 "metadata": {
  "kernelspec": {
   "display_name": "Python 3 (ipykernel)",
   "language": "python",
   "name": "python3"
  },
  "language_info": {
   "codemirror_mode": {
    "name": "ipython",
    "version": 3
   },
   "file_extension": ".py",
   "mimetype": "text/x-python",
   "name": "python",
   "nbconvert_exporter": "python",
   "pygments_lexer": "ipython3",
   "version": "3.11.7"
  }
 },
 "nbformat": 4,
 "nbformat_minor": 5
}
