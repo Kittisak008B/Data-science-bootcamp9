{
 "cells": [
  {
   "cell_type": "code",
   "execution_count": 1,
   "id": "9951d805-2ba4-4cba-baf5-0cfa9309fabc",
   "metadata": {},
   "outputs": [
    {
     "name": "stdout",
     "output_type": "stream",
     "text": [
      "SAM\n",
      "11-11-2021\n",
      "S,A,M@FTX\n"
     ]
    }
   ],
   "source": [
    "#Python print parameter \n",
    "print('S','A', sep='', end='')\n",
    "print('M')\n",
    "#\\n provides new line after printing the year\n",
    "print('11','11','2021', sep='-', end='\\n')\n",
    "  \n",
    "print('S','A','M', sep=',', end='@')\n",
    "print('FTX')"
   ]
  },
  {
   "cell_type": "code",
   "execution_count": 2,
   "id": "ef4218b5-3d2c-41b4-891f-619795b4ee2c",
   "metadata": {},
   "outputs": [
    {
     "name": "stdin",
     "output_type": "stream",
     "text": [
      "Enter the number of rows 5\n"
     ]
    },
    {
     "name": "stdout",
     "output_type": "stream",
     "text": [
      "* \n",
      "* * \n",
      "* * * \n",
      "* * * * \n",
      "* * * * * \n"
     ]
    }
   ],
   "source": [
    "n=int(input(\"Enter the number of rows\"))\n",
    "for i in range(n):\n",
    "    for j in range(i+1):\n",
    "        print(\"*\",end=\" \")\n",
    "    print()"
   ]
  },
  {
   "cell_type": "code",
   "execution_count": 3,
   "id": "ae7509ad-bc22-47b2-b30e-dbf55e95d6ff",
   "metadata": {},
   "outputs": [
    {
     "name": "stdin",
     "output_type": "stream",
     "text": [
      "Enter the number of rows 5\n"
     ]
    },
    {
     "name": "stdout",
     "output_type": "stream",
     "text": [
      "* * * * * \n",
      "* * * * \n",
      "* * * \n",
      "* * \n",
      "* \n"
     ]
    }
   ],
   "source": [
    "n=int(input(\"Enter the number of rows\"))\n",
    "for i in range(n):\n",
    "    for j in range(n-i):\n",
    "        print(\"*\",end=\" \")\n",
    "    print()"
   ]
  },
  {
   "cell_type": "code",
   "execution_count": 4,
   "id": "05704dc9-666c-4b95-a43f-75dbd546195f",
   "metadata": {},
   "outputs": [
    {
     "name": "stdin",
     "output_type": "stream",
     "text": [
      "Enter the number of rows 5\n"
     ]
    },
    {
     "name": "stdout",
     "output_type": "stream",
     "text": [
      "* \n",
      "* * * \n",
      "* * * * * \n",
      "* * * * * * * \n",
      "* * * * * * * * * \n"
     ]
    }
   ],
   "source": [
    "n=int(input(\"Enter the number of rows\"))\n",
    "for i in range(n):\n",
    "    for j in range(2*i+1):\n",
    "        print(\"*\",end=\" \")\n",
    "    print()"
   ]
  },
  {
   "cell_type": "code",
   "execution_count": 5,
   "id": "345d26a7-daed-4730-abe0-3a980b001548",
   "metadata": {
    "scrolled": true
   },
   "outputs": [
    {
     "name": "stdin",
     "output_type": "stream",
     "text": [
      "Enter the number of rows 5\n"
     ]
    },
    {
     "name": "stdout",
     "output_type": "stream",
     "text": [
      "    * \n",
      "   * * \n",
      "  * * * \n",
      " * * * * \n",
      "* * * * * \n"
     ]
    }
   ],
   "source": [
    "n=int(input(\"Enter the number of rows\"))\n",
    "for i in range(n):\n",
    "    for j in range(n-i-1):\n",
    "        print(end=\" \")\n",
    "    for j in range(i+1):\n",
    "        print(\"*\",end=\" \")\n",
    "    print()"
   ]
  },
  {
   "cell_type": "code",
   "execution_count": 6,
   "id": "a1ccbe48-284a-4c32-81ab-9f7200bb2084",
   "metadata": {},
   "outputs": [
    {
     "name": "stdin",
     "output_type": "stream",
     "text": [
      "Enter the number of rows 5\n"
     ]
    },
    {
     "name": "stdout",
     "output_type": "stream",
     "text": [
      "    * \n",
      "   * * \n",
      "  * * * \n",
      " * * * * \n",
      "* * * * * \n"
     ]
    }
   ],
   "source": [
    "n=int(input(\"Enter the number of rows\"))\n",
    "for i in range(n):\n",
    "    print(\" \"*(n-i-1) + \"* \"*(i+1))"
   ]
  },
  {
   "cell_type": "code",
   "execution_count": 7,
   "id": "cd3d8ee4-c391-4c19-bd12-e2ea7048fe1d",
   "metadata": {},
   "outputs": [
    {
     "name": "stdin",
     "output_type": "stream",
     "text": [
      "Enter the number of rows 5\n"
     ]
    },
    {
     "name": "stdout",
     "output_type": "stream",
     "text": [
      "* * * * * \n",
      " * * * * \n",
      "  * * * \n",
      "   * * \n",
      "    * \n"
     ]
    }
   ],
   "source": [
    "n=int(input(\"Enter the number of rows\"))\n",
    "for i in range(n):\n",
    "    for j in range(i):\n",
    "        print(end=\" \")\n",
    "    for j in range(n-i):\n",
    "        print(\"*\",end=\" \")\n",
    "    print()"
   ]
  },
  {
   "cell_type": "code",
   "execution_count": 8,
   "id": "ba3e17c8-178e-4a41-9453-e6792a89034f",
   "metadata": {},
   "outputs": [
    {
     "name": "stdin",
     "output_type": "stream",
     "text": [
      "Enter the number of rows 5\n"
     ]
    },
    {
     "name": "stdout",
     "output_type": "stream",
     "text": [
      "* * * * * \n",
      " * * * * \n",
      "  * * * \n",
      "   * * \n",
      "    * \n"
     ]
    }
   ],
   "source": [
    "n=int(input(\"Enter the number of rows\"))\n",
    "for i in range(n):\n",
    "    print(\" \"*(i) + \"* \"*(n-i))"
   ]
  },
  {
   "cell_type": "code",
   "execution_count": 9,
   "id": "e5543e26-67d3-4953-a268-8d6f1096fba4",
   "metadata": {},
   "outputs": [
    {
     "name": "stdin",
     "output_type": "stream",
     "text": [
      "Enter the number of rows 5\n"
     ]
    },
    {
     "name": "stdout",
     "output_type": "stream",
     "text": [
      "    * \n",
      "   * * \n",
      "  * * * \n",
      " * * * * \n",
      "* * * * * \n",
      " * * * * \n",
      "  * * * \n",
      "   * * \n",
      "    * \n"
     ]
    }
   ],
   "source": [
    "n=int(input(\"Enter the number of rows\"))\n",
    "for i in range(n):\n",
    "    print(\" \"*(n-i-1) + \"* \"*(i+1))\n",
    "for j in range(n-1):\n",
    "    print(\" \"*(j+1) + \"* \"*(n-j-1))"
   ]
  },
  {
   "cell_type": "code",
   "execution_count": 10,
   "id": "e5fd473a-dac8-4ea7-9378-1e88b6ee4226",
   "metadata": {},
   "outputs": [
    {
     "name": "stdin",
     "output_type": "stream",
     "text": [
      "Enter the number of rows 5\n"
     ]
    },
    {
     "name": "stdout",
     "output_type": "stream",
     "text": [
      "    * \n",
      "   * * \n",
      "  * * * \n",
      " * * * * \n",
      "* * * * * \n",
      " * * * * \n",
      "  * * * \n",
      "   * * \n",
      "    * \n"
     ]
    }
   ],
   "source": [
    "n=int(input(\"Enter the number of rows\"))\n",
    "for i in range(n):\n",
    "    for j in range(n-i-1):\n",
    "        print(end=\" \")\n",
    "    for j in range(i+1) :\n",
    "        print(\"*\",end=\" \")\n",
    "    print()\n",
    "for i in range(n-1) :\n",
    "    for j in range(i+1) :\n",
    "        print(end=\" \")\n",
    "    for j in range(n-1-i) :\n",
    "        print(\"*\",end=\" \")\n",
    "    print()"
   ]
  },
  {
   "cell_type": "code",
   "execution_count": 11,
   "id": "52d37d1e-4b9b-4b23-be8f-4c018e68ea3e",
   "metadata": {},
   "outputs": [
    {
     "name": "stdin",
     "output_type": "stream",
     "text": [
      "Enter the number of rows 7\n"
     ]
    },
    {
     "name": "stdout",
     "output_type": "stream",
     "text": [
      "*******\n",
      " *    *\n",
      "  *   *\n",
      "   *  *\n",
      "    * *\n",
      "     **\n",
      "      *\n"
     ]
    }
   ],
   "source": [
    "#*****\n",
    "# *  *\n",
    "#  * *\n",
    "#   **\n",
    "#    *\n",
    "n=int(input(\"Enter the number of rows\"))\n",
    "for i in range(n) :\n",
    "    for j in range(n):\n",
    "        if  i==0 or i==j or j==n-1 :\n",
    "            print(\"*\",end=\"\")\n",
    "        else :\n",
    "            print(end=\" \")\n",
    "    print()"
   ]
  },
  {
   "cell_type": "code",
   "execution_count": 12,
   "id": "61e3364c-ea27-43d6-be0d-96e0f5ae0c1c",
   "metadata": {},
   "outputs": [
    {
     "name": "stdin",
     "output_type": "stream",
     "text": [
      "Enter the number of rows 7\n"
     ]
    },
    {
     "name": "stdout",
     "output_type": "stream",
     "text": [
      "*******\n",
      "*     *\n",
      "*     *\n",
      "*     *\n",
      "*     *\n",
      "*     *\n",
      "*******\n"
     ]
    }
   ],
   "source": [
    "#*****\n",
    "#*   *\n",
    "#*   *\n",
    "#*   *\n",
    "#*****\n",
    "n=int(input(\"Enter the number of rows\"))\n",
    "for i in range(n) :\n",
    "    for j in range(n):\n",
    "        if i==0 or i==n-1 or j==0 or j==n-1 :\n",
    "            print(\"*\",end=\"\")\n",
    "        else :\n",
    "            print(end=\" \")\n",
    "    print()"
   ]
  },
  {
   "cell_type": "code",
   "execution_count": 13,
   "id": "b397eee5-1569-4702-a2b9-3d1e9d7d5733",
   "metadata": {},
   "outputs": [
    {
     "name": "stdin",
     "output_type": "stream",
     "text": [
      "Enter the number of rows 6\n"
     ]
    },
    {
     "name": "stdout",
     "output_type": "stream",
     "text": [
      "     *     \n",
      "    * *    \n",
      "   *   *   \n",
      "  *     *  \n",
      " *       * \n",
      "* * * * * *\n"
     ]
    }
   ],
   "source": [
    "##0123456\n",
    "#0   *\n",
    "#1  * *\n",
    "#2 *   *\n",
    "#3* * * *\n",
    "n=int(input(\"Enter the number of rows\"))\n",
    "for i in range(n) :\n",
    "    for j in range(2*n-1) :\n",
    "        if i+j==n-1 or j-i==n-1 :\n",
    "            print(\"*\",end=\"\")\n",
    "        elif i==n-1 and j%2 != 1 :\n",
    "            print(\"*\",end=\"\")\n",
    "        else :\n",
    "            print(end=\" \")\n",
    "    print()\n",
    "        "
   ]
  },
  {
   "cell_type": "code",
   "execution_count": 20,
   "id": "969bb08e-6974-4c0c-9ce0-37814321a65b",
   "metadata": {},
   "outputs": [
    {
     "name": "stdin",
     "output_type": "stream",
     "text": [
      "Enter the number of rows 7\n"
     ]
    },
    {
     "name": "stdout",
     "output_type": "stream",
     "text": [
      "   *   \n",
      "  * *  \n",
      " *   * \n",
      "*     *\n",
      " *   * \n",
      "  * *  \n",
      "   *   \n"
     ]
    }
   ],
   "source": [
    "##01234\n",
    "#0  *\n",
    "#1 * *\n",
    "#2*   *\n",
    "#3 * *\n",
    "#4  *\n",
    "n=int(input(\"Enter the number of rows\"))\n",
    "for i in range(n) :\n",
    "    for j in range(n) :\n",
    "        if i+j==(n-1)/2 or j-i==(n-1)/2 or i-j==(n-1)/2 or i+j==(3*(n-1))/2 :\n",
    "            print(\"*\",end=\"\")\n",
    "        else :\n",
    "            print(end=\" \")\n",
    "    print()\n"
   ]
  },
  {
   "cell_type": "code",
   "execution_count": 15,
   "id": "63a79e43-c4c9-40f9-afbe-253b80a16f6c",
   "metadata": {},
   "outputs": [
    {
     "name": "stdout",
     "output_type": "stream",
     "text": [
      " ** ** \n",
      "*  *  *\n",
      "*     *\n",
      " *   * \n",
      "  * *  \n",
      "   *   \n"
     ]
    }
   ],
   "source": [
    "##0123456\n",
    "#0 ** **\n",
    "#1*  *  *\n",
    "#2*     *\n",
    "#3 *   *\n",
    "#4  * *\n",
    "#5   *\n",
    "n=6\n",
    "for i in range(n) :\n",
    "    for j in range(n+1):\n",
    "        if i-j==n/3 or i+j==(n*4)/3 :\n",
    "            print(\"*\",end=\"\")\n",
    "        elif (i==0 and j%(n/2)!=0) or (i==1 and j%(n/2)==0) :\n",
    "            print(\"*\",end=\"\")\n",
    "        else :\n",
    "            print(end=\" \")\n",
    "    print()\n",
    "    "
   ]
  },
  {
   "cell_type": "code",
   "execution_count": 16,
   "id": "14c00ec8-fef1-445c-8835-c552d4d8e677",
   "metadata": {},
   "outputs": [
    {
     "name": "stdin",
     "output_type": "stream",
     "text": [
      "Enter the number of rows 4\n"
     ]
    },
    {
     "name": "stdout",
     "output_type": "stream",
     "text": [
      "   *       * \n",
      "  * *     * * \n",
      " * * *   * * * \n",
      "* * * * * * * * \n",
      "* * * * * * * * \n",
      " * * * * * * * \n",
      "  * * * * * * \n",
      "   * * * * * \n",
      "    * * * * \n",
      "     * * * \n",
      "      * * \n",
      "       * \n"
     ]
    }
   ],
   "source": [
    "#            11111\n",
    "###012345678901234\n",
    " #0   *       *\n",
    " #1  * *     * *\n",
    " #2 * * *   * * *\n",
    " #3* * * * * * * *\n",
    " #4* * * * * * * *\n",
    " #5 * * * * * * *\n",
    " #6  * * * * * *\n",
    " #7   * * * * *\n",
    " #8    * * * *\n",
    " #9     * * *\n",
    "#10      * *\n",
    "#11       *\n",
    "n=int(input(\"Enter the number of rows\"))\n",
    "for i in range(n) :\n",
    "    for j in range(n-1-i):\n",
    "        print(end=\" \")\n",
    "    for j in range(i+1):\n",
    "        print(\"*\",end=\" \")\n",
    "    for j in range(2*(n-1-i)):\n",
    "        print(end=\" \")\n",
    "    for j in range(i+1):\n",
    "        print(\"*\",end=\" \")\n",
    "    print()\n",
    "for i in range(2*n) :\n",
    "    for j in range(i):\n",
    "        print(end=\" \")\n",
    "    for j in range(2*n-i) :\n",
    "        print(\"*\",end=\" \")\n",
    "    print()"
   ]
  },
  {
   "cell_type": "code",
   "execution_count": 18,
   "id": "ec3e6e25-5440-4997-92c7-f5647a9adf3e",
   "metadata": {},
   "outputs": [
    {
     "name": "stdin",
     "output_type": "stream",
     "text": [
      "Enter the number of rows 13\n"
     ]
    },
    {
     "name": "stdout",
     "output_type": "stream",
     "text": [
      "          *          \n",
      "         * *         \n",
      "*********************\n",
      " *     *     *     * \n",
      "  *   *       *   *  \n",
      "   * *         * *   \n",
      "    *           *    \n",
      "   * *         * *   \n",
      "  *   *       *   *  \n",
      " *     *     *     * \n",
      "*********************\n",
      "         * *         \n",
      "          *          \n"
     ]
    }
   ],
   "source": [
    "#           111\n",
    "##0123456789012  \n",
    "#0      *\n",
    "#1     * *\n",
    "#2*************\n",
    "#3 * *     * *\n",
    "#4  *       *\n",
    "#5 * *     * *\n",
    "#6*************\n",
    "#7     * *\n",
    "#8      *\n",
    "\n",
    "#0     *     \n",
    "#1    * *    \n",
    "#2***********\n",
    "#3 **     ** \n",
    "#4 **     ** \n",
    "#5***********\n",
    "#6    * *    \n",
    "#7     *  \n",
    "\n",
    "#0    *    \n",
    "#1   * *   \n",
    "#2*********\n",
    "#3 *     * \n",
    "#4*********\n",
    "#5   * *   \n",
    "#6    *   \n",
    "\n",
    "n=int(input(\"Enter the number of rows\"))\n",
    "for i in range(n) :\n",
    "    for j in range(2*n-5) :\n",
    "        if i==2 or i==n-3 or i+j==(2*n-5-1)/2 or j-i==(2*n-5-1)/2 or i-j==2 or i+j==2*n-5+1 :\n",
    "            print(\"*\",end=\"\")\n",
    "        else :\n",
    "            print(end=\" \")\n",
    "    print()\n"
   ]
  }
 ],
 "metadata": {
  "kernelspec": {
   "display_name": "Python 3 (ipykernel)",
   "language": "python",
   "name": "python3"
  },
  "language_info": {
   "codemirror_mode": {
    "name": "ipython",
    "version": 3
   },
   "file_extension": ".py",
   "mimetype": "text/x-python",
   "name": "python",
   "nbconvert_exporter": "python",
   "pygments_lexer": "ipython3",
   "version": "3.11.7"
  }
 },
 "nbformat": 4,
 "nbformat_minor": 5
}
