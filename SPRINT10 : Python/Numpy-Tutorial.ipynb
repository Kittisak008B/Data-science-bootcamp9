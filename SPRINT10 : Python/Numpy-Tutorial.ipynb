{
 "cells": [
  {
   "cell_type": "code",
   "execution_count": 1,
   "id": "b6ea2ade-a5dd-44e9-a230-a22977dae1d5",
   "metadata": {},
   "outputs": [
    {
     "name": "stdout",
     "output_type": "stream",
     "text": [
      "1.24.4\n"
     ]
    }
   ],
   "source": [
    "import numpy as np\n",
    "print(np.__version__)"
   ]
  },
  {
   "cell_type": "code",
   "execution_count": 2,
   "id": "ba952e26-e64b-4525-9d20-19ea02992743",
   "metadata": {},
   "outputs": [
    {
     "data": {
      "text/plain": [
       "array([12, 52, 17])"
      ]
     },
     "execution_count": 2,
     "metadata": {},
     "output_type": "execute_result"
    }
   ],
   "source": [
    "np.array([10,50,15]) +2"
   ]
  },
  {
   "cell_type": "code",
   "execution_count": 3,
   "id": "b8406b30-5e6e-4e71-a10e-8013a2c7e335",
   "metadata": {},
   "outputs": [
    {
     "data": {
      "text/plain": [
       "array([60, 59, 72, 69, 62])"
      ]
     },
     "execution_count": 3,
     "metadata": {},
     "output_type": "execute_result"
    }
   ],
   "source": [
    "\n",
    "w = np.array([60,59,72,69,62])\n",
    "w"
   ]
  },
  {
   "cell_type": "code",
   "execution_count": 4,
   "id": "14347f53-331d-4ba6-87c7-1fae3742aeba",
   "metadata": {},
   "outputs": [
    {
     "name": "stdout",
     "output_type": "stream",
     "text": [
      "sum : 322 \n",
      "mean: 64.4 \n",
      "std : 5.161395160225576\n"
     ]
    }
   ],
   "source": [
    "print(f'sum : {np.sum(w)} \\nmean: {np.mean(w)} \\nstd : {np.std(w)}')"
   ]
  },
  {
   "cell_type": "code",
   "execution_count": 5,
   "id": "e3cc8e15-664e-43af-8b60-a23cb391dbb7",
   "metadata": {},
   "outputs": [
    {
     "data": {
      "text/plain": [
       "array([175, 180, 182, 178, 185])"
      ]
     },
     "execution_count": 5,
     "metadata": {},
     "output_type": "execute_result"
    }
   ],
   "source": [
    "h = np.array([175,180,182,178,185])\n",
    "h"
   ]
  },
  {
   "cell_type": "code",
   "execution_count": 6,
   "id": "588ce497-b563-4497-aa69-a681d33ed1d0",
   "metadata": {},
   "outputs": [
    {
     "data": {
      "text/plain": [
       "array([19.59183673, 18.20987654, 21.73650525, 21.77755334, 18.11541271])"
      ]
     },
     "execution_count": 6,
     "metadata": {},
     "output_type": "execute_result"
    }
   ],
   "source": [
    "bmi = w/(h/100)**2\n",
    "bmi"
   ]
  },
  {
   "cell_type": "code",
   "execution_count": 7,
   "id": "50879bb6-89c6-4df9-9486-a35b7ee07c45",
   "metadata": {},
   "outputs": [
    {
     "data": {
      "text/plain": [
       "array([   0,    1,    4,    9,   16,   25,   36,   49,   64,   81,  100,\n",
       "        121,  144,  169,  196,  225,  256,  289,  324,  361,  400,  441,\n",
       "        484,  529,  576,  625,  676,  729,  784,  841,  900,  961, 1024,\n",
       "       1089, 1156, 1225, 1296, 1369, 1444, 1521, 1600, 1681, 1764, 1849,\n",
       "       1936, 2025, 2116, 2209, 2304, 2401, 2500, 2601, 2704, 2809, 2916,\n",
       "       3025, 3136, 3249, 3364, 3481, 3600, 3721, 3844, 3969, 4096, 4225,\n",
       "       4356, 4489, 4624, 4761, 4900, 5041, 5184, 5329, 5476, 5625, 5776,\n",
       "       5929, 6084, 6241, 6400, 6561, 6724, 6889, 7056, 7225, 7396, 7569,\n",
       "       7744, 7921, 8100, 8281, 8464, 8649, 8836, 9025, 9216, 9409, 9604,\n",
       "       9801])"
      ]
     },
     "execution_count": 7,
     "metadata": {},
     "output_type": "execute_result"
    }
   ],
   "source": [
    "np.arange(100)**2"
   ]
  },
  {
   "cell_type": "code",
   "execution_count": 8,
   "id": "756e5113-b1aa-4635-b863-391ecc483325",
   "metadata": {},
   "outputs": [
    {
     "data": {
      "text/plain": [
       "array([ 0.,  1.,  2.,  3.,  4.,  5.,  6.,  7.,  8.,  9., 10., 11., 12.,\n",
       "       13., 14., 15., 16., 17., 18., 19., 20., 21., 22., 23., 24., 25.,\n",
       "       26., 27., 28., 29., 30., 31., 32., 33., 34., 35., 36., 37., 38.,\n",
       "       39., 40., 41., 42., 43., 44., 45., 46., 47., 48., 49., 50., 51.,\n",
       "       52., 53., 54., 55., 56., 57., 58., 59., 60., 61., 62., 63., 64.,\n",
       "       65., 66., 67., 68., 69., 70., 71., 72., 73., 74., 75., 76., 77.,\n",
       "       78., 79., 80., 81., 82., 83., 84., 85., 86., 87., 88., 89., 90.,\n",
       "       91., 92., 93., 94., 95., 96., 97., 98., 99.])"
      ]
     },
     "execution_count": 8,
     "metadata": {},
     "output_type": "execute_result"
    }
   ],
   "source": [
    "np.sqrt(np.arange(100)**2)"
   ]
  },
  {
   "cell_type": "code",
   "execution_count": 9,
   "id": "0a64a689-e2db-4abe-8594-e8ac99106659",
   "metadata": {},
   "outputs": [
    {
     "data": {
      "text/plain": [
       "array([3500, 1750, 5250])"
      ]
     },
     "execution_count": 9,
     "metadata": {},
     "output_type": "execute_result"
    }
   ],
   "source": [
    "usd = [100,50,150]\n",
    "thb = np.array(usd) *35\n",
    "thb"
   ]
  },
  {
   "cell_type": "code",
   "execution_count": 10,
   "id": "613226c4-d86b-4eed-a848-d61debb5eaf7",
   "metadata": {},
   "outputs": [
    {
     "data": {
      "text/plain": [
       "array([ 82, 140, 257])"
      ]
     },
     "execution_count": 10,
     "metadata": {},
     "output_type": "execute_result"
    }
   ],
   "source": [
    "x = np.array([5,7,10])\n",
    "a,b,c=(2,5,7)\n",
    "y = a*x**2 + b*x +c\n",
    "y"
   ]
  },
  {
   "cell_type": "code",
   "execution_count": 11,
   "id": "e5f2ef60-acb6-4c1b-b4db-13746c8a7618",
   "metadata": {},
   "outputs": [
    {
     "data": {
      "text/plain": [
       "1"
      ]
     },
     "execution_count": 11,
     "metadata": {},
     "output_type": "execute_result"
    }
   ],
   "source": [
    "y.ndim"
   ]
  },
  {
   "cell_type": "code",
   "execution_count": 12,
   "id": "431d8747-0178-4609-945b-92a71b706328",
   "metadata": {},
   "outputs": [
    {
     "data": {
      "text/plain": [
       "(3,)"
      ]
     },
     "execution_count": 12,
     "metadata": {},
     "output_type": "execute_result"
    }
   ],
   "source": [
    "y.shape"
   ]
  },
  {
   "cell_type": "code",
   "execution_count": 13,
   "id": "aaf857d4-5109-4365-85ac-6bc6a9161392",
   "metadata": {},
   "outputs": [
    {
     "data": {
      "text/plain": [
       "array([[1, 2, 3],\n",
       "       [4, 5, 6],\n",
       "       [7, 8, 9]])"
      ]
     },
     "execution_count": 13,
     "metadata": {},
     "output_type": "execute_result"
    }
   ],
   "source": [
    "z=np.array([[1,2,3],[4,5,6],[7,8,9]])\n",
    "z"
   ]
  },
  {
   "cell_type": "code",
   "execution_count": 14,
   "id": "2ea64383-9991-4fa5-9292-44a149dac6b0",
   "metadata": {},
   "outputs": [
    {
     "data": {
      "text/plain": [
       "2"
      ]
     },
     "execution_count": 14,
     "metadata": {},
     "output_type": "execute_result"
    }
   ],
   "source": [
    "z.ndim"
   ]
  },
  {
   "cell_type": "code",
   "execution_count": 15,
   "id": "e69776ec-1861-43a0-a307-2f45a2f2b4eb",
   "metadata": {},
   "outputs": [
    {
     "data": {
      "text/plain": [
       "(3, 3)"
      ]
     },
     "execution_count": 15,
     "metadata": {},
     "output_type": "execute_result"
    }
   ],
   "source": [
    "z.shape"
   ]
  },
  {
   "cell_type": "code",
   "execution_count": 16,
   "id": "734e7079-184f-42ca-847c-46d2df9bc8f9",
   "metadata": {},
   "outputs": [
    {
     "data": {
      "text/plain": [
       "9"
      ]
     },
     "execution_count": 16,
     "metadata": {},
     "output_type": "execute_result"
    }
   ],
   "source": [
    "z.size"
   ]
  },
  {
   "cell_type": "code",
   "execution_count": 17,
   "id": "13ad3984-ef1b-42de-b2f5-9c8cfed16760",
   "metadata": {},
   "outputs": [
    {
     "data": {
      "text/plain": [
       "array([1.+0.j, 2.+0.j, 3.+0.j])"
      ]
     },
     "execution_count": 17,
     "metadata": {},
     "output_type": "execute_result"
    }
   ],
   "source": [
    "np.array([1, 2, 3], dtype=complex)"
   ]
  },
  {
   "cell_type": "code",
   "execution_count": 18,
   "id": "686643d7-0650-4b15-be10-fc3f6864b44b",
   "metadata": {},
   "outputs": [
    {
     "data": {
      "text/plain": [
       "array([[0., 0.],\n",
       "       [0., 0.],\n",
       "       [0., 0.]])"
      ]
     },
     "execution_count": 18,
     "metadata": {},
     "output_type": "execute_result"
    }
   ],
   "source": [
    "a1 = np.zeros((3,2))\n",
    "a1"
   ]
  },
  {
   "cell_type": "code",
   "execution_count": 19,
   "id": "b9e05171-5ff5-4c47-b169-d410faf7334b",
   "metadata": {},
   "outputs": [
    {
     "data": {
      "text/plain": [
       "array([[1, 1, 1],\n",
       "       [1, 1, 1],\n",
       "       [1, 1, 1],\n",
       "       [1, 1, 1],\n",
       "       [1, 1, 1]])"
      ]
     },
     "execution_count": 19,
     "metadata": {},
     "output_type": "execute_result"
    }
   ],
   "source": [
    "a2 = np.ones((5,3) , dtype=int)\n",
    "a2"
   ]
  },
  {
   "cell_type": "code",
   "execution_count": 20,
   "id": "ced128e4-4b0e-44bf-9145-3f72dc3eb1d0",
   "metadata": {},
   "outputs": [
    {
     "data": {
      "text/plain": [
       "array([[8, 8, 8],\n",
       "       [8, 8, 8],\n",
       "       [8, 8, 8],\n",
       "       [8, 8, 8],\n",
       "       [8, 8, 8]])"
      ]
     },
     "execution_count": 20,
     "metadata": {},
     "output_type": "execute_result"
    }
   ],
   "source": [
    "a2[:] = 8\n",
    "a2"
   ]
  },
  {
   "cell_type": "code",
   "execution_count": 21,
   "id": "4c8ac459-9976-415d-9f4d-f687ec154e66",
   "metadata": {},
   "outputs": [
    {
     "data": {
      "text/plain": [
       "array([[1., 0., 0.],\n",
       "       [0., 1., 0.],\n",
       "       [0., 0., 1.]])"
      ]
     },
     "execution_count": 21,
     "metadata": {},
     "output_type": "execute_result"
    }
   ],
   "source": [
    "a3 = np.identity(3)\n",
    "a3"
   ]
  },
  {
   "cell_type": "code",
   "execution_count": 22,
   "id": "ba6a9ee3-4274-4d20-9dad-d8ddc07dfcc7",
   "metadata": {},
   "outputs": [
    {
     "data": {
      "text/plain": [
       "array([[1., 0., 0., 0.],\n",
       "       [0., 1., 0., 0.],\n",
       "       [0., 0., 1., 0.],\n",
       "       [0., 0., 0., 1.]])"
      ]
     },
     "execution_count": 22,
     "metadata": {},
     "output_type": "execute_result"
    }
   ],
   "source": [
    "a4 = np.eye(4)\n",
    "a4"
   ]
  },
  {
   "cell_type": "code",
   "execution_count": 23,
   "id": "e31818a7-158f-47ae-b2fc-3b8b37aaf3d0",
   "metadata": {},
   "outputs": [
    {
     "data": {
      "text/plain": [
       "array([ 1,  2,  3,  4,  5,  6,  7,  8,  9, 10])"
      ]
     },
     "execution_count": 23,
     "metadata": {},
     "output_type": "execute_result"
    }
   ],
   "source": [
    "b = np.arange(1,11)\n",
    "b"
   ]
  },
  {
   "cell_type": "code",
   "execution_count": 24,
   "id": "b766fb4c-0f70-47db-aa1e-9f118705d162",
   "metadata": {},
   "outputs": [
    {
     "data": {
      "text/plain": [
       "array([ 1,  2,  3,  4,  5,  6,  7,  8,  9, 10, 11, 12, 13, 14, 15, 16, 17,\n",
       "       18, 19, 20, 21, 22, 23, 24, 25, 26, 27, 28, 29, 30, 31, 32, 33, 34,\n",
       "       35, 36, 37, 38, 39, 40])"
      ]
     },
     "execution_count": 24,
     "metadata": {},
     "output_type": "execute_result"
    }
   ],
   "source": [
    "c = np.arange(1,41)\n",
    "c"
   ]
  },
  {
   "cell_type": "code",
   "execution_count": 25,
   "id": "3566649b-956a-4761-945a-f54651d83d10",
   "metadata": {},
   "outputs": [
    {
     "data": {
      "text/plain": [
       "array([[ 1,  2,  3,  4],\n",
       "       [ 5,  6,  7,  8],\n",
       "       [ 9, 10, 11, 12],\n",
       "       [13, 14, 15, 16],\n",
       "       [17, 18, 19, 20],\n",
       "       [21, 22, 23, 24],\n",
       "       [25, 26, 27, 28],\n",
       "       [29, 30, 31, 32],\n",
       "       [33, 34, 35, 36],\n",
       "       [37, 38, 39, 40]])"
      ]
     },
     "execution_count": 25,
     "metadata": {},
     "output_type": "execute_result"
    }
   ],
   "source": [
    "d = np.reshape(c , (10 ,4) )\n",
    "d"
   ]
  },
  {
   "cell_type": "code",
   "execution_count": 26,
   "id": "53c71cfe-6c78-4ddc-829c-89109b21024e",
   "metadata": {},
   "outputs": [
    {
     "data": {
      "text/plain": [
       "array([[ 1,  2,  3,  4,  5],\n",
       "       [ 6,  7,  8,  9, 10],\n",
       "       [11, 12, 13, 14, 15],\n",
       "       [16, 17, 18, 19, 20],\n",
       "       [21, 22, 23, 24, 25],\n",
       "       [26, 27, 28, 29, 30],\n",
       "       [31, 32, 33, 34, 35],\n",
       "       [36, 37, 38, 39, 40],\n",
       "       [41, 42, 43, 44, 45],\n",
       "       [46, 47, 48, 49, 50]])"
      ]
     },
     "execution_count": 26,
     "metadata": {},
     "output_type": "execute_result"
    }
   ],
   "source": [
    "e = np.reshape(np.arange(1,51) , (10 ,5) )\n",
    "e"
   ]
  },
  {
   "attachments": {
    "c53b0597-1115-4920-adc5-0fd82ef9906b.png": {
     "image/png": "[encoded data removed]"
    }
   },
   "cell_type": "markdown",
   "id": "ed586a50-9ae4-40dd-80ce-f20cc33fe203",
   "metadata": {},
   "source": [
    "![Screenshot 2024-02-28 164106.png](attachment:c53b0597-1115-4920-adc5-0fd82ef9906b.png)"
   ]
  },
  {
   "cell_type": "code",
   "execution_count": 27,
   "id": "77660e21-55ed-495c-ada8-95db4c999022",
   "metadata": {},
   "outputs": [
    {
     "data": {
      "text/plain": [
       "['1', '1', '0', '1', '2', '3', '4', '5', '6', '7', '8', '9']"
      ]
     },
     "execution_count": 27,
     "metadata": {},
     "output_type": "execute_result"
    }
   ],
   "source": [
    "# check N13 thai id \n",
    "thai_id = '110123456789'\n",
    "list(thai_id[:12])"
   ]
  },
  {
   "cell_type": "code",
   "execution_count": 28,
   "id": "d0e73359-87c3-4531-8805-77f2a16c5ea3",
   "metadata": {},
   "outputs": [
    {
     "data": {
      "text/plain": [
       "array([1, 1, 0, 1, 2, 3, 4, 5, 6, 7, 8, 9])"
      ]
     },
     "execution_count": 28,
     "metadata": {},
     "output_type": "execute_result"
    }
   ],
   "source": [
    "a = np.array(list(thai_id[:12]) , dtype=int)\n",
    "a"
   ]
  },
  {
   "cell_type": "code",
   "execution_count": 29,
   "id": "eec3e29e-cc08-40b8-89a4-1f0c8001d4ce",
   "metadata": {},
   "outputs": [
    {
     "data": {
      "text/plain": [
       "array([13, 12, 11, 10,  9,  8,  7,  6,  5,  4,  3,  2])"
      ]
     },
     "execution_count": 29,
     "metadata": {},
     "output_type": "execute_result"
    }
   ],
   "source": [
    "b = np.arange(13,1,-1)\n",
    "b"
   ]
  },
  {
   "cell_type": "code",
   "execution_count": 30,
   "id": "03d80455-f4f5-4048-9877-1f71ce9c743a",
   "metadata": {},
   "outputs": [
    {
     "data": {
      "text/plain": [
       "4"
      ]
     },
     "execution_count": 30,
     "metadata": {},
     "output_type": "execute_result"
    }
   ],
   "source": [
    "x = np.sum(a*b) %11\n",
    "x"
   ]
  },
  {
   "cell_type": "code",
   "execution_count": 31,
   "id": "f15b4f19-e97f-414f-aeb4-1914065ee72f",
   "metadata": {},
   "outputs": [
    {
     "data": {
      "text/plain": [
       "7"
      ]
     },
     "execution_count": 31,
     "metadata": {},
     "output_type": "execute_result"
    }
   ],
   "source": [
    "if x <= 1:\n",
    "    x = 1-x\n",
    "else :\n",
    "    x = 11-x\n",
    "x"
   ]
  },
  {
   "cell_type": "code",
   "execution_count": 32,
   "id": "af3bf1c7-8842-4581-a5e2-2db17c4e6155",
   "metadata": {},
   "outputs": [
    {
     "data": {
      "text/plain": [
       "0"
      ]
     },
     "execution_count": 32,
     "metadata": {},
     "output_type": "execute_result"
    }
   ],
   "source": [
    "(np.sum(a*b)+7)%11\n"
   ]
  },
  {
   "cell_type": "code",
   "execution_count": 33,
   "id": "3aa0aa69-8245-48a7-abba-5836fef1978e",
   "metadata": {},
   "outputs": [],
   "source": [
    "# func check N13 thai id \n",
    "def check_thai_id(thai_id) :\n",
    "    a = np.array(list(thai_id[:12]) , dtype=int)\n",
    "    b = np.arange(13,1,-1)\n",
    "    x = np.sum(a*b) %11\n",
    "    return 1-x if x<=1 else 11-x"
   ]
  },
  {
   "cell_type": "code",
   "execution_count": 34,
   "id": "f9c857f0-75ff-4b05-8f7d-805162a4aa07",
   "metadata": {},
   "outputs": [
    {
     "data": {
      "text/plain": [
       "7"
      ]
     },
     "execution_count": 34,
     "metadata": {},
     "output_type": "execute_result"
    }
   ],
   "source": [
    "check_thai_id('110123456789')"
   ]
  },
  {
   "cell_type": "code",
   "execution_count": 35,
   "id": "09a30c28-c226-4527-97eb-b30bb0772979",
   "metadata": {},
   "outputs": [
    {
     "data": {
      "text/plain": [
       "7"
      ]
     },
     "execution_count": 35,
     "metadata": {},
     "output_type": "execute_result"
    }
   ],
   "source": [
    "check_thai_id('1101234567897')"
   ]
  },
  {
   "cell_type": "code",
   "execution_count": 36,
   "id": "5b8f3145-d823-43ba-807d-2061fd0b6c40",
   "metadata": {},
   "outputs": [
    {
     "data": {
      "text/plain": [
       "1"
      ]
     },
     "execution_count": 36,
     "metadata": {},
     "output_type": "execute_result"
    }
   ],
   "source": [
    "check_thai_id('190139586438')"
   ]
  },
  {
   "cell_type": "code",
   "execution_count": 37,
   "id": "e549c42d-2b7d-43f5-bdb9-ff5bf9140db5",
   "metadata": {},
   "outputs": [
    {
     "data": {
      "text/plain": [
       "1"
      ]
     },
     "execution_count": 37,
     "metadata": {},
     "output_type": "execute_result"
    }
   ],
   "source": [
    "check_thai_id('1901395864381')"
   ]
  },
  {
   "cell_type": "code",
   "execution_count": 38,
   "id": "de895476-4fb5-4959-a99f-b9834d27d4ad",
   "metadata": {},
   "outputs": [
    {
     "data": {
      "text/plain": [
       "array([6, 7, 9, 7, 2])"
      ]
     },
     "execution_count": 38,
     "metadata": {},
     "output_type": "execute_result"
    }
   ],
   "source": [
    "np.random.seed(9)\n",
    "x = np.random.randint(1,11,5)\n",
    "x"
   ]
  },
  {
   "cell_type": "code",
   "execution_count": 39,
   "id": "cf840e29-8759-4fa8-92f9-495a71fc56ea",
   "metadata": {},
   "outputs": [
    {
     "data": {
      "text/plain": [
       "array([12, 14, 18, 14,  4])"
      ]
     },
     "execution_count": 39,
     "metadata": {},
     "output_type": "execute_result"
    }
   ],
   "source": [
    "x*2"
   ]
  },
  {
   "cell_type": "code",
   "execution_count": 40,
   "id": "cf74ae6e-26d1-44d2-9bda-168f1a905aee",
   "metadata": {},
   "outputs": [
    {
     "data": {
      "text/plain": [
       "array([2, 2, 2, 2, 2])"
      ]
     },
     "execution_count": 40,
     "metadata": {},
     "output_type": "execute_result"
    }
   ],
   "source": [
    "b = np.array([2,2,2,2,2])\n",
    "b"
   ]
  },
  {
   "cell_type": "code",
   "execution_count": 41,
   "id": "a1ae5547-e855-4307-928a-ec853132c1aa",
   "metadata": {},
   "outputs": [
    {
     "data": {
      "text/plain": [
       "array([12, 14, 18, 14,  4])"
      ]
     },
     "execution_count": 41,
     "metadata": {},
     "output_type": "execute_result"
    }
   ],
   "source": [
    "x*b"
   ]
  },
  {
   "cell_type": "code",
   "execution_count": 42,
   "id": "17ce9397-90c0-43f6-9882-1fac3266c8b8",
   "metadata": {},
   "outputs": [
    {
     "data": {
      "text/plain": [
       "array([12, 14, 18, 14,  4])"
      ]
     },
     "execution_count": 42,
     "metadata": {},
     "output_type": "execute_result"
    }
   ],
   "source": [
    "x*np.array([2])"
   ]
  },
  {
   "cell_type": "code",
   "execution_count": 43,
   "id": "6d4b0003-c10a-4e37-afe1-4fb9b95b0ea3",
   "metadata": {},
   "outputs": [
    {
     "data": {
      "text/plain": [
       "array([2, 2, 2, 2, 2])"
      ]
     },
     "execution_count": 43,
     "metadata": {},
     "output_type": "execute_result"
    }
   ],
   "source": [
    "np.repeat(np.array([2]) , 5 )"
   ]
  },
  {
   "cell_type": "code",
   "execution_count": 44,
   "id": "e343eb81-6740-4ad9-8a7c-7e2109f0b408",
   "metadata": {},
   "outputs": [
    {
     "data": {
      "text/plain": [
       "array([12, 14, 18, 14,  4])"
      ]
     },
     "execution_count": 44,
     "metadata": {},
     "output_type": "execute_result"
    }
   ],
   "source": [
    "x*np.repeat(np.array([2]) , 5 )"
   ]
  },
  {
   "cell_type": "code",
   "execution_count": 45,
   "id": "00fffa76-00c5-4500-a88a-7fc1accfa40d",
   "metadata": {},
   "outputs": [
    {
     "data": {
      "text/plain": [
       "6.2"
      ]
     },
     "execution_count": 45,
     "metadata": {},
     "output_type": "execute_result"
    }
   ],
   "source": [
    "np.mean(x)"
   ]
  },
  {
   "cell_type": "code",
   "execution_count": 46,
   "id": "2785a085-6046-4dff-9596-371bfafff81f",
   "metadata": {},
   "outputs": [
    {
     "data": {
      "text/plain": [
       "2.3151673805580453"
      ]
     },
     "execution_count": 46,
     "metadata": {},
     "output_type": "execute_result"
    }
   ],
   "source": [
    "np.std(x)"
   ]
  },
  {
   "cell_type": "code",
   "execution_count": 47,
   "id": "14859411-bc8d-433d-b191-d431cbafc519",
   "metadata": {},
   "outputs": [
    {
     "data": {
      "text/plain": [
       "array([-0.08638684,  0.34554737,  1.2094158 ,  0.34554737, -1.81412369])"
      ]
     },
     "execution_count": 47,
     "metadata": {},
     "output_type": "execute_result"
    }
   ],
   "source": [
    "z = (x-np.mean(x))/np.std(x)\n",
    "z"
   ]
  },
  {
   "cell_type": "code",
   "execution_count": 48,
   "id": "71aa6e39-b0b7-487d-9945-ca01f324cdf8",
   "metadata": {},
   "outputs": [
    {
     "data": {
      "text/plain": [
       "array([[10, 20],\n",
       "       [30, 40],\n",
       "       [50, 60]])"
      ]
     },
     "execution_count": 48,
     "metadata": {},
     "output_type": "execute_result"
    }
   ],
   "source": [
    "a = np.arange(1,7).reshape(3,2) *10\n",
    "a"
   ]
  },
  {
   "cell_type": "code",
   "execution_count": 49,
   "id": "d351eaed-ed1b-43c8-b5c2-aab269ef9ee8",
   "metadata": {},
   "outputs": [
    {
     "data": {
      "text/plain": [
       "array([[10, 20],\n",
       "       [30, 40],\n",
       "       [50, 60]])"
      ]
     },
     "execution_count": 49,
     "metadata": {},
     "output_type": "execute_result"
    }
   ],
   "source": [
    "a = np.arange(1,7).reshape(3,-1) *10\n",
    "a"
   ]
  },
  {
   "cell_type": "code",
   "execution_count": 50,
   "id": "914405b9-a5f3-40b8-b932-1735c5c44852",
   "metadata": {},
   "outputs": [
    {
     "data": {
      "text/plain": [
       "(3, 2)"
      ]
     },
     "execution_count": 50,
     "metadata": {},
     "output_type": "execute_result"
    }
   ],
   "source": [
    "a.shape"
   ]
  },
  {
   "cell_type": "code",
   "execution_count": 51,
   "id": "19cbd115-2862-419f-990b-ae1eed311ddb",
   "metadata": {},
   "outputs": [
    {
     "data": {
      "text/plain": [
       "array([[15, 25],\n",
       "       [35, 45],\n",
       "       [55, 65]])"
      ]
     },
     "execution_count": 51,
     "metadata": {},
     "output_type": "execute_result"
    }
   ],
   "source": [
    "5+a"
   ]
  },
  {
   "cell_type": "code",
   "execution_count": 52,
   "id": "9d4d0a33-9aa9-48ae-9ba0-dbad97bfaf4b",
   "metadata": {},
   "outputs": [
    {
     "data": {
      "text/plain": [
       "array([[15, 25],\n",
       "       [35, 45],\n",
       "       [55, 65]])"
      ]
     },
     "execution_count": 52,
     "metadata": {},
     "output_type": "execute_result"
    }
   ],
   "source": [
    "np.array([5]) +a"
   ]
  },
  {
   "cell_type": "code",
   "execution_count": 53,
   "id": "4c5e1a5f-5636-41ed-ba9f-c48939392c51",
   "metadata": {},
   "outputs": [
    {
     "data": {
      "text/plain": [
       "array([[5, 5],\n",
       "       [5, 5],\n",
       "       [5, 5]])"
      ]
     },
     "execution_count": 53,
     "metadata": {},
     "output_type": "execute_result"
    }
   ],
   "source": [
    "b = np.full(a.shape,5)\n",
    "b"
   ]
  },
  {
   "cell_type": "code",
   "execution_count": 54,
   "id": "d2652cff-0b2a-4b23-b835-ae4c63ecd561",
   "metadata": {},
   "outputs": [
    {
     "data": {
      "text/plain": [
       "array([[15, 25],\n",
       "       [35, 45],\n",
       "       [55, 65]])"
      ]
     },
     "execution_count": 54,
     "metadata": {},
     "output_type": "execute_result"
    }
   ],
   "source": [
    "b+a"
   ]
  },
  {
   "cell_type": "code",
   "execution_count": 55,
   "id": "6ae5c1a4-1bae-4bac-ac61-5ed96635f42c",
   "metadata": {},
   "outputs": [
    {
     "data": {
      "text/plain": [
       "array([ 0, 10, 20, 30, 40, 50, 60, 70, 80, 90])"
      ]
     },
     "execution_count": 55,
     "metadata": {},
     "output_type": "execute_result"
    }
   ],
   "source": [
    "a = np.arange(10) *10\n",
    "a"
   ]
  },
  {
   "cell_type": "code",
   "execution_count": 56,
   "id": "95f7eec7-b331-424b-b8c5-5af1c16f970b",
   "metadata": {},
   "outputs": [
    {
     "data": {
      "text/plain": [
       "20"
      ]
     },
     "execution_count": 56,
     "metadata": {},
     "output_type": "execute_result"
    }
   ],
   "source": [
    "a[2]"
   ]
  },
  {
   "cell_type": "code",
   "execution_count": 57,
   "id": "d6905c65-8766-494d-8a41-d5239b76a86f",
   "metadata": {},
   "outputs": [
    {
     "data": {
      "text/plain": [
       "90"
      ]
     },
     "execution_count": 57,
     "metadata": {},
     "output_type": "execute_result"
    }
   ],
   "source": [
    "a[-1]"
   ]
  },
  {
   "cell_type": "code",
   "execution_count": 58,
   "id": "53a5029a-8ba1-46c6-ad3a-79f94f1c1ccd",
   "metadata": {},
   "outputs": [
    {
     "data": {
      "text/plain": [
       "array([ 0, 10, 20])"
      ]
     },
     "execution_count": 58,
     "metadata": {},
     "output_type": "execute_result"
    }
   ],
   "source": [
    "a[:3]"
   ]
  },
  {
   "cell_type": "code",
   "execution_count": 59,
   "id": "52c4dff1-b9f5-45e5-981f-d79f5a19ae68",
   "metadata": {},
   "outputs": [
    {
     "data": {
      "text/plain": [
       "array([20, 30, 40])"
      ]
     },
     "execution_count": 59,
     "metadata": {},
     "output_type": "execute_result"
    }
   ],
   "source": [
    "a[2:5]"
   ]
  },
  {
   "cell_type": "code",
   "execution_count": 60,
   "id": "8dfa482e-29d7-43ca-adfd-761b28ff86be",
   "metadata": {},
   "outputs": [
    {
     "data": {
      "text/plain": [
       "array([ 0, 20, 40, 60, 80])"
      ]
     },
     "execution_count": 60,
     "metadata": {},
     "output_type": "execute_result"
    }
   ],
   "source": [
    "a[::2]"
   ]
  },
  {
   "cell_type": "code",
   "execution_count": 61,
   "id": "99f487d2-8ec7-462a-bdbd-d3e07d6c6ff2",
   "metadata": {},
   "outputs": [
    {
     "data": {
      "text/plain": [
       "array([10, 30, 50, 70, 90])"
      ]
     },
     "execution_count": 61,
     "metadata": {},
     "output_type": "execute_result"
    }
   ],
   "source": [
    "a[1::2]"
   ]
  },
  {
   "cell_type": "code",
   "execution_count": 62,
   "id": "7ce49f9e-c4c4-4872-a22a-d714865b2680",
   "metadata": {},
   "outputs": [
    {
     "data": {
      "text/plain": [
       "array([60, 70, 80])"
      ]
     },
     "execution_count": 62,
     "metadata": {},
     "output_type": "execute_result"
    }
   ],
   "source": [
    "a[-4:-1]"
   ]
  },
  {
   "cell_type": "code",
   "execution_count": 63,
   "id": "d8069ea6-27b4-488d-b133-c5f8217423e4",
   "metadata": {},
   "outputs": [
    {
     "data": {
      "text/plain": [
       "array([90, 80, 70, 60, 50, 40, 30, 20, 10,  0])"
      ]
     },
     "execution_count": 63,
     "metadata": {},
     "output_type": "execute_result"
    }
   ],
   "source": [
    "a[::-1]"
   ]
  },
  {
   "cell_type": "code",
   "execution_count": 64,
   "id": "1b7f855a-7379-4115-a1ed-a322336a8ccc",
   "metadata": {},
   "outputs": [
    {
     "data": {
      "text/plain": [
       "array([[ 1,  2,  3,  4,  5],\n",
       "       [ 6,  7,  8,  9, 10],\n",
       "       [11, 12, 13, 14, 15],\n",
       "       [16, 17, 18, 19, 20]])"
      ]
     },
     "execution_count": 64,
     "metadata": {},
     "output_type": "execute_result"
    }
   ],
   "source": [
    "##\n",
    "a = np.reshape(np.arange(1,21),(4,5))\n",
    "a"
   ]
  },
  {
   "cell_type": "code",
   "execution_count": 65,
   "id": "a969b5ab-1d40-4f9e-b1b7-9453a8e8d307",
   "metadata": {},
   "outputs": [
    {
     "data": {
      "text/plain": [
       "array([ 6,  7,  8,  9, 10])"
      ]
     },
     "execution_count": 65,
     "metadata": {},
     "output_type": "execute_result"
    }
   ],
   "source": [
    "a[1]"
   ]
  },
  {
   "cell_type": "code",
   "execution_count": 66,
   "id": "a074305c-34f3-47cb-b26c-ead54d04cb9a",
   "metadata": {},
   "outputs": [
    {
     "data": {
      "text/plain": [
       "array([16, 17, 18, 19, 20])"
      ]
     },
     "execution_count": 66,
     "metadata": {},
     "output_type": "execute_result"
    }
   ],
   "source": [
    "a[-1]"
   ]
  },
  {
   "cell_type": "code",
   "execution_count": 67,
   "id": "df3b46f3-171b-4eda-bdbe-23d144528ece",
   "metadata": {},
   "outputs": [
    {
     "data": {
      "text/plain": [
       "10"
      ]
     },
     "execution_count": 67,
     "metadata": {},
     "output_type": "execute_result"
    }
   ],
   "source": [
    "a[1,4]"
   ]
  },
  {
   "cell_type": "code",
   "execution_count": 68,
   "id": "ed0f4c25-7b74-4bc7-90a8-3dfb9563e844",
   "metadata": {},
   "outputs": [
    {
     "data": {
      "text/plain": [
       "10"
      ]
     },
     "execution_count": 68,
     "metadata": {},
     "output_type": "execute_result"
    }
   ],
   "source": [
    "a[1][4]"
   ]
  },
  {
   "cell_type": "code",
   "execution_count": 69,
   "id": "1c84ac4f-db99-4e5a-84d4-fb35c005438f",
   "metadata": {},
   "outputs": [
    {
     "data": {
      "text/plain": [
       "[((0, 0), 1),\n",
       " ((0, 1), 2),\n",
       " ((0, 2), 3),\n",
       " ((0, 3), 4),\n",
       " ((0, 4), 5),\n",
       " ((1, 0), 6),\n",
       " ((1, 1), 7),\n",
       " ((1, 2), 8),\n",
       " ((1, 3), 9),\n",
       " ((1, 4), 10),\n",
       " ((2, 0), 11),\n",
       " ((2, 1), 12),\n",
       " ((2, 2), 13),\n",
       " ((2, 3), 14),\n",
       " ((2, 4), 15),\n",
       " ((3, 0), 16),\n",
       " ((3, 1), 17),\n",
       " ((3, 2), 18),\n",
       " ((3, 3), 19),\n",
       " ((3, 4), 20)]"
      ]
     },
     "execution_count": 69,
     "metadata": {},
     "output_type": "execute_result"
    }
   ],
   "source": [
    "list(np.ndenumerate(a))"
   ]
  },
  {
   "cell_type": "code",
   "execution_count": 70,
   "id": "aa8c7f65-d22b-4a31-acc2-6d78ab19feb9",
   "metadata": {},
   "outputs": [
    {
     "data": {
      "text/plain": [
       "array([[ 1,  2,  3,  4,  5],\n",
       "       [ 6,  7,  8,  9, 10]])"
      ]
     },
     "execution_count": 70,
     "metadata": {},
     "output_type": "execute_result"
    }
   ],
   "source": [
    "a[0:2]"
   ]
  },
  {
   "cell_type": "code",
   "execution_count": 71,
   "id": "73f71977-9e5b-4317-8189-7a7bed177bcc",
   "metadata": {},
   "outputs": [
    {
     "data": {
      "text/plain": [
       "array([[ 1,  2,  3,  4,  5],\n",
       "       [ 6,  7,  8,  9, 10]])"
      ]
     },
     "execution_count": 71,
     "metadata": {},
     "output_type": "execute_result"
    }
   ],
   "source": [
    "a[:2]"
   ]
  },
  {
   "cell_type": "code",
   "execution_count": 72,
   "id": "e54a6b03-4b37-4bbc-a0aa-2789c345a8e4",
   "metadata": {},
   "outputs": [
    {
     "data": {
      "text/plain": [
       "array([[11, 12, 13, 14, 15],\n",
       "       [16, 17, 18, 19, 20]])"
      ]
     },
     "execution_count": 72,
     "metadata": {},
     "output_type": "execute_result"
    }
   ],
   "source": [
    "# array[start:stop:step]\n",
    "a[2:4]"
   ]
  },
  {
   "cell_type": "code",
   "execution_count": 73,
   "id": "afa846d9-45f9-4a4e-8029-0526375040c8",
   "metadata": {},
   "outputs": [
    {
     "data": {
      "text/plain": [
       "array([ 3,  8, 13, 18])"
      ]
     },
     "execution_count": 73,
     "metadata": {},
     "output_type": "execute_result"
    }
   ],
   "source": [
    "a[: ,2]"
   ]
  },
  {
   "cell_type": "code",
   "execution_count": 74,
   "id": "9fc23233-b22b-4234-9da4-a1fa1b5c90bb",
   "metadata": {},
   "outputs": [
    {
     "data": {
      "text/plain": [
       "array([[11, 12],\n",
       "       [16, 17]])"
      ]
     },
     "execution_count": 74,
     "metadata": {},
     "output_type": "execute_result"
    }
   ],
   "source": [
    "a[2:4 ,0:2]"
   ]
  },
  {
   "cell_type": "code",
   "execution_count": 75,
   "id": "02b705f5-7790-4f27-b263-d26871cdd4fe",
   "metadata": {},
   "outputs": [
    {
     "data": {
      "text/plain": [
       "array([[ 4,  5],\n",
       "       [ 9, 10],\n",
       "       [14, 15],\n",
       "       [19, 20]])"
      ]
     },
     "execution_count": 75,
     "metadata": {},
     "output_type": "execute_result"
    }
   ],
   "source": [
    "a[: , 3:]"
   ]
  },
  {
   "cell_type": "code",
   "execution_count": 76,
   "id": "ac57dff1-1b42-4a0c-bde5-0b553be07e64",
   "metadata": {},
   "outputs": [
    {
     "data": {
      "text/plain": [
       "array([[ 1,  2,  3,  4,  5],\n",
       "       [11, 12, 13, 14, 15]])"
      ]
     },
     "execution_count": 76,
     "metadata": {},
     "output_type": "execute_result"
    }
   ],
   "source": [
    "a[::2]"
   ]
  },
  {
   "cell_type": "code",
   "execution_count": 77,
   "id": "8a450ac7-cbfc-4e6f-9584-710c71fc306a",
   "metadata": {},
   "outputs": [
    {
     "data": {
      "text/plain": [
       "array([[ 6,  7,  8,  9, 10],\n",
       "       [16, 17, 18, 19, 20]])"
      ]
     },
     "execution_count": 77,
     "metadata": {},
     "output_type": "execute_result"
    }
   ],
   "source": [
    "a[1::2]"
   ]
  },
  {
   "cell_type": "code",
   "execution_count": 78,
   "id": "b67515bc-79eb-46cd-aa47-765af5f36fd3",
   "metadata": {},
   "outputs": [
    {
     "data": {
      "text/plain": [
       "array([ 1,  2,  3,  4,  5,  6,  7,  8,  9, 10, 11, 12])"
      ]
     },
     "execution_count": 78,
     "metadata": {},
     "output_type": "execute_result"
    }
   ],
   "source": [
    "##\n",
    "a =np.arange(1,13)\n",
    "a"
   ]
  },
  {
   "cell_type": "code",
   "execution_count": 79,
   "id": "812fedb9-7cd9-4096-8704-23a1bbc95d54",
   "metadata": {},
   "outputs": [
    {
     "data": {
      "text/plain": [
       "array([[ 1,  2,  3],\n",
       "       [ 4,  5,  6],\n",
       "       [ 7,  8,  9],\n",
       "       [10, 11, 12]])"
      ]
     },
     "execution_count": 79,
     "metadata": {},
     "output_type": "execute_result"
    }
   ],
   "source": [
    "a.reshape(4,3)"
   ]
  },
  {
   "cell_type": "code",
   "execution_count": 80,
   "id": "d3999268-7edc-4810-850a-a390d5c90338",
   "metadata": {},
   "outputs": [
    {
     "data": {
      "text/plain": [
       "array([[ 1,  2,  3],\n",
       "       [ 4,  5,  6],\n",
       "       [ 7,  8,  9],\n",
       "       [10, 11, 12]])"
      ]
     },
     "execution_count": 80,
     "metadata": {},
     "output_type": "execute_result"
    }
   ],
   "source": [
    "a.reshape(4,-1)"
   ]
  },
  {
   "cell_type": "code",
   "execution_count": 81,
   "id": "2a0cbda9-9806-436c-ad93-ef69678cca20",
   "metadata": {},
   "outputs": [
    {
     "data": {
      "text/plain": [
       "array([[ 1,  2,  3],\n",
       "       [ 4,  5,  6],\n",
       "       [ 7,  8,  9],\n",
       "       [10, 11, 12]])"
      ]
     },
     "execution_count": 81,
     "metadata": {},
     "output_type": "execute_result"
    }
   ],
   "source": [
    "a.reshape(-1,3)"
   ]
  },
  {
   "cell_type": "code",
   "execution_count": 82,
   "id": "2029e4fe-4c36-42d3-849b-59f21fbe70c2",
   "metadata": {},
   "outputs": [
    {
     "data": {
      "text/plain": [
       "array([[ 1,  2],\n",
       "       [ 3,  4],\n",
       "       [ 5,  6],\n",
       "       [ 7,  8],\n",
       "       [ 9, 10],\n",
       "       [11, 12]])"
      ]
     },
     "execution_count": 82,
     "metadata": {},
     "output_type": "execute_result"
    }
   ],
   "source": [
    "a.reshape(-1,2)"
   ]
  },
  {
   "cell_type": "code",
   "execution_count": 83,
   "id": "16426218-ee3d-4f92-bbc3-d1de0a644d85",
   "metadata": {},
   "outputs": [
    {
     "data": {
      "text/plain": [
       "array([[ 1,  2,  3],\n",
       "       [ 4,  5,  6],\n",
       "       [ 7,  8,  9],\n",
       "       [10, 11, 12]])"
      ]
     },
     "execution_count": 83,
     "metadata": {},
     "output_type": "execute_result"
    }
   ],
   "source": [
    "b =a.reshape(4,3)\n",
    "b"
   ]
  },
  {
   "cell_type": "code",
   "execution_count": 84,
   "id": "29b63729-f7b6-4680-92ff-edd4e6c4f9fd",
   "metadata": {},
   "outputs": [
    {
     "data": {
      "text/plain": [
       "array([[ 1,  2,  3,  4,  5,  6,  7,  8,  9, 10, 11, 12]])"
      ]
     },
     "execution_count": 84,
     "metadata": {},
     "output_type": "execute_result"
    }
   ],
   "source": [
    "b.reshape(1,-1)"
   ]
  },
  {
   "cell_type": "code",
   "execution_count": 85,
   "id": "298ef344-2171-4332-af0b-f9bb1602cee0",
   "metadata": {},
   "outputs": [
    {
     "data": {
      "text/plain": [
       "array([ 1,  2,  3,  4,  5,  6,  7,  8,  9, 10, 11, 12])"
      ]
     },
     "execution_count": 85,
     "metadata": {},
     "output_type": "execute_result"
    }
   ],
   "source": [
    "# ravel\n",
    "b.ravel()"
   ]
  },
  {
   "cell_type": "code",
   "execution_count": 86,
   "id": "6c033fd9-b179-4de2-a9a2-0206fe817237",
   "metadata": {},
   "outputs": [
    {
     "data": {
      "text/plain": [
       "array([2, 3, 7])"
      ]
     },
     "execution_count": 86,
     "metadata": {},
     "output_type": "execute_result"
    }
   ],
   "source": [
    "# tile\n",
    "d = np.array([2,3,7])\n",
    "d"
   ]
  },
  {
   "cell_type": "code",
   "execution_count": 87,
   "id": "7681a9b6-4586-4180-958f-17ed034be85c",
   "metadata": {},
   "outputs": [
    {
     "data": {
      "text/plain": [
       "array([2, 3, 7, 2, 3, 7, 2, 3, 7])"
      ]
     },
     "execution_count": 87,
     "metadata": {},
     "output_type": "execute_result"
    }
   ],
   "source": [
    "np.tile(d ,3)"
   ]
  },
  {
   "cell_type": "code",
   "execution_count": 88,
   "id": "e3e888bd-4607-4ea5-b59a-99b15afcf0eb",
   "metadata": {},
   "outputs": [
    {
     "data": {
      "text/plain": [
       "array([[2, 3, 7],\n",
       "       [2, 3, 7],\n",
       "       [2, 3, 7]])"
      ]
     },
     "execution_count": 88,
     "metadata": {},
     "output_type": "execute_result"
    }
   ],
   "source": [
    "np.tile(d,(3,1))"
   ]
  },
  {
   "cell_type": "code",
   "execution_count": 89,
   "id": "5796dfc4-5077-4af3-9766-6840023586db",
   "metadata": {},
   "outputs": [
    {
     "data": {
      "text/plain": [
       "array([[ 1,  3],\n",
       "       [10, 30]])"
      ]
     },
     "execution_count": 89,
     "metadata": {},
     "output_type": "execute_result"
    }
   ],
   "source": [
    "e = np.array([[1,3],[10,30]])\n",
    "e"
   ]
  },
  {
   "cell_type": "code",
   "execution_count": 90,
   "id": "d164d562-0ad2-4241-b61a-04dcbdcb612c",
   "metadata": {},
   "outputs": [
    {
     "data": {
      "text/plain": [
       "array([[ 1,  3,  1,  3,  1,  3],\n",
       "       [10, 30, 10, 30, 10, 30]])"
      ]
     },
     "execution_count": 90,
     "metadata": {},
     "output_type": "execute_result"
    }
   ],
   "source": [
    "np.tile(e,3)"
   ]
  },
  {
   "cell_type": "code",
   "execution_count": 91,
   "id": "a529974d-e8ce-4484-a8ab-b94669be5b5c",
   "metadata": {},
   "outputs": [
    {
     "data": {
      "text/plain": [
       "array([[ 1,  3,  1,  3],\n",
       "       [10, 30, 10, 30],\n",
       "       [ 1,  3,  1,  3],\n",
       "       [10, 30, 10, 30],\n",
       "       [ 1,  3,  1,  3],\n",
       "       [10, 30, 10, 30],\n",
       "       [ 1,  3,  1,  3],\n",
       "       [10, 30, 10, 30]])"
      ]
     },
     "execution_count": 91,
     "metadata": {},
     "output_type": "execute_result"
    }
   ],
   "source": [
    "np.tile(e,(4,2))"
   ]
  },
  {
   "cell_type": "code",
   "execution_count": 92,
   "id": "5ad8114c-2a5e-44ed-acde-3b5467f49fe9",
   "metadata": {},
   "outputs": [
    {
     "data": {
      "text/plain": [
       "array([1, 0, 1, 0, 1, 0])"
      ]
     },
     "execution_count": 92,
     "metadata": {},
     "output_type": "execute_result"
    }
   ],
   "source": [
    "np.tile([1,0] ,3)"
   ]
  },
  {
   "cell_type": "code",
   "execution_count": 93,
   "id": "e2f37cc6-c014-4f07-b04b-5b1a1b282c6c",
   "metadata": {},
   "outputs": [
    {
     "data": {
      "text/plain": [
       "array([[1, 0, 1, 0, 1, 0],\n",
       "       [1, 0, 1, 0, 1, 0],\n",
       "       [1, 0, 1, 0, 1, 0],\n",
       "       [1, 0, 1, 0, 1, 0],\n",
       "       [1, 0, 1, 0, 1, 0],\n",
       "       [1, 0, 1, 0, 1, 0]])"
      ]
     },
     "execution_count": 93,
     "metadata": {},
     "output_type": "execute_result"
    }
   ],
   "source": [
    "np.tile([[1,0],[1,0]],(3,3))"
   ]
  },
  {
   "cell_type": "code",
   "execution_count": 94,
   "id": "617050a0-a923-4d7a-bfcd-e87d4596df65",
   "metadata": {},
   "outputs": [
    {
     "data": {
      "text/plain": [
       "array([9, 9, 9])"
      ]
     },
     "execution_count": 94,
     "metadata": {},
     "output_type": "execute_result"
    }
   ],
   "source": [
    "# repeat\n",
    "np.repeat(9,3)"
   ]
  },
  {
   "cell_type": "code",
   "execution_count": 95,
   "id": "4acd862e-de4a-4b01-b11c-c1ac3d9f7b94",
   "metadata": {},
   "outputs": [
    {
     "data": {
      "text/plain": [
       "array([ 9,  9,  9, 15, 15, 15, 17, 17, 17])"
      ]
     },
     "execution_count": 95,
     "metadata": {},
     "output_type": "execute_result"
    }
   ],
   "source": [
    "np.repeat([9,15,17],3)"
   ]
  },
  {
   "cell_type": "code",
   "execution_count": 96,
   "id": "404b2dfe-4210-41fb-a8c5-3d6f9bfb58f7",
   "metadata": {},
   "outputs": [
    {
     "data": {
      "text/plain": [
       "array([[1, 2],\n",
       "       [3, 4],\n",
       "       [5, 6],\n",
       "       [7, 8]])"
      ]
     },
     "execution_count": 96,
     "metadata": {},
     "output_type": "execute_result"
    }
   ],
   "source": [
    "##\n",
    "a = np.reshape(np.arange(1,9),(4,2))\n",
    "a"
   ]
  },
  {
   "cell_type": "code",
   "execution_count": 97,
   "id": "3271d93e-7d96-49e1-b726-85b573676526",
   "metadata": {},
   "outputs": [
    {
     "data": {
      "text/plain": [
       "array([[10, 20],\n",
       "       [30, 40],\n",
       "       [50, 60],\n",
       "       [70, 80]])"
      ]
     },
     "execution_count": 97,
     "metadata": {},
     "output_type": "execute_result"
    }
   ],
   "source": [
    "b = np.reshape(np.arange(1,9)*10,(4,2))\n",
    "b"
   ]
  },
  {
   "cell_type": "code",
   "execution_count": 98,
   "id": "d8886a76-dff1-44a5-be6a-fe3257cf915d",
   "metadata": {},
   "outputs": [
    {
     "data": {
      "text/plain": [
       "array([[11, 22],\n",
       "       [33, 44],\n",
       "       [55, 66],\n",
       "       [77, 88]])"
      ]
     },
     "execution_count": 98,
     "metadata": {},
     "output_type": "execute_result"
    }
   ],
   "source": [
    "c = np.reshape(np.arange(1,9)*11,(4,2))\n",
    "c"
   ]
  },
  {
   "cell_type": "code",
   "execution_count": 99,
   "id": "d780701b-1b1b-4dac-b724-d8fa726132b8",
   "metadata": {},
   "outputs": [
    {
     "data": {
      "text/plain": [
       "array([[ 1,  2],\n",
       "       [ 3,  4],\n",
       "       [ 5,  6],\n",
       "       [ 7,  8],\n",
       "       [10, 20],\n",
       "       [30, 40],\n",
       "       [50, 60],\n",
       "       [70, 80]])"
      ]
     },
     "execution_count": 99,
     "metadata": {},
     "output_type": "execute_result"
    }
   ],
   "source": [
    "# stack\n",
    "np.vstack((a,b))"
   ]
  },
  {
   "cell_type": "code",
   "execution_count": 100,
   "id": "a1ac2261-0e1a-4cc6-831a-1b09b25e575f",
   "metadata": {},
   "outputs": [
    {
     "data": {
      "text/plain": [
       "array([[ 1,  2],\n",
       "       [ 3,  4],\n",
       "       [ 5,  6],\n",
       "       [ 7,  8],\n",
       "       [10, 20],\n",
       "       [30, 40],\n",
       "       [50, 60],\n",
       "       [70, 80],\n",
       "       [11, 22],\n",
       "       [33, 44],\n",
       "       [55, 66],\n",
       "       [77, 88]])"
      ]
     },
     "execution_count": 100,
     "metadata": {},
     "output_type": "execute_result"
    }
   ],
   "source": [
    "np.vstack((a,b,c))"
   ]
  },
  {
   "cell_type": "code",
   "execution_count": 101,
   "id": "8c0ed96f-8550-44e1-b083-162deffe0d27",
   "metadata": {},
   "outputs": [
    {
     "data": {
      "text/plain": [
       "array([[ 1,  2, 10, 20],\n",
       "       [ 3,  4, 30, 40],\n",
       "       [ 5,  6, 50, 60],\n",
       "       [ 7,  8, 70, 80]])"
      ]
     },
     "execution_count": 101,
     "metadata": {},
     "output_type": "execute_result"
    }
   ],
   "source": [
    "np.hstack((a,b))"
   ]
  },
  {
   "cell_type": "code",
   "execution_count": 102,
   "id": "4b888555-c59a-4444-9834-eeb58653fac1",
   "metadata": {},
   "outputs": [
    {
     "data": {
      "text/plain": [
       "array([[ 1,  2, 10, 20, 11, 22],\n",
       "       [ 3,  4, 30, 40, 33, 44],\n",
       "       [ 5,  6, 50, 60, 55, 66],\n",
       "       [ 7,  8, 70, 80, 77, 88]])"
      ]
     },
     "execution_count": 102,
     "metadata": {},
     "output_type": "execute_result"
    }
   ],
   "source": [
    "d = np.hstack((a,b,c))\n",
    "d"
   ]
  },
  {
   "cell_type": "code",
   "execution_count": 103,
   "id": "124f2ba1-c652-44d8-9015-8227b42dd925",
   "metadata": {},
   "outputs": [
    {
     "data": {
      "text/plain": [
       "[array([[1, 2],\n",
       "        [3, 4],\n",
       "        [5, 6],\n",
       "        [7, 8]]),\n",
       " array([[10, 20],\n",
       "        [30, 40],\n",
       "        [50, 60],\n",
       "        [70, 80]]),\n",
       " array([[11, 22],\n",
       "        [33, 44],\n",
       "        [55, 66],\n",
       "        [77, 88]])]"
      ]
     },
     "execution_count": 103,
     "metadata": {},
     "output_type": "execute_result"
    }
   ],
   "source": [
    "# split\n",
    "e =  np.hsplit(d ,3)\n",
    "e"
   ]
  },
  {
   "cell_type": "code",
   "execution_count": 104,
   "id": "63d43ad9-9be3-4760-a928-f80a89494ca4",
   "metadata": {},
   "outputs": [
    {
     "data": {
      "text/plain": [
       "array([[1, 2],\n",
       "       [3, 4],\n",
       "       [5, 6],\n",
       "       [7, 8]])"
      ]
     },
     "execution_count": 104,
     "metadata": {},
     "output_type": "execute_result"
    }
   ],
   "source": [
    "e[0]"
   ]
  },
  {
   "cell_type": "code",
   "execution_count": 105,
   "id": "ad0ee9fd-4700-434b-951b-f4026ca1a5db",
   "metadata": {},
   "outputs": [
    {
     "data": {
      "text/plain": [
       "array([[10, 20],\n",
       "       [30, 40],\n",
       "       [50, 60],\n",
       "       [70, 80]])"
      ]
     },
     "execution_count": 105,
     "metadata": {},
     "output_type": "execute_result"
    }
   ],
   "source": [
    "e[1]"
   ]
  },
  {
   "cell_type": "code",
   "execution_count": 106,
   "id": "b6bf7f16-21ce-41fe-b85e-f492f90c5a74",
   "metadata": {},
   "outputs": [
    {
     "data": {
      "text/plain": [
       "array([[11, 22],\n",
       "       [33, 44],\n",
       "       [55, 66],\n",
       "       [77, 88]])"
      ]
     },
     "execution_count": 106,
     "metadata": {},
     "output_type": "execute_result"
    }
   ],
   "source": [
    "e[2]"
   ]
  },
  {
   "cell_type": "code",
   "execution_count": 107,
   "id": "ae4adfc1-7ae8-48af-98c6-7cd587dfe228",
   "metadata": {},
   "outputs": [
    {
     "data": {
      "text/plain": [
       "[array([[ 1,  2, 10, 20, 11, 22],\n",
       "        [ 3,  4, 30, 40, 33, 44]]),\n",
       " array([[ 5,  6, 50, 60, 55, 66],\n",
       "        [ 7,  8, 70, 80, 77, 88]])]"
      ]
     },
     "execution_count": 107,
     "metadata": {},
     "output_type": "execute_result"
    }
   ],
   "source": [
    "np.vsplit(d,2)"
   ]
  },
  {
   "cell_type": "code",
   "execution_count": 108,
   "id": "6cecb471-d475-40c1-b271-7a4f23ebe124",
   "metadata": {},
   "outputs": [
    {
     "name": "stdout",
     "output_type": "stream",
     "text": [
      "[1 2 3 4] [10 20 30 40]\n"
     ]
    }
   ],
   "source": [
    "#1dim stack\n",
    "a =np.arange(1,5)\n",
    "b = a*10\n",
    "print(a,b)"
   ]
  },
  {
   "cell_type": "code",
   "execution_count": 109,
   "id": "1bf5951f-dccb-4d79-9408-60b576c49768",
   "metadata": {},
   "outputs": [
    {
     "data": {
      "text/plain": [
       "array([[ 1,  2,  3,  4],\n",
       "       [10, 20, 30, 40]])"
      ]
     },
     "execution_count": 109,
     "metadata": {},
     "output_type": "execute_result"
    }
   ],
   "source": [
    "np.vstack((a,b))"
   ]
  },
  {
   "cell_type": "code",
   "execution_count": 110,
   "id": "27717e6c-d98d-45b5-8d4e-634457cb061a",
   "metadata": {},
   "outputs": [
    {
     "data": {
      "text/plain": [
       "array([ 1,  2,  3,  4, 10, 20, 30, 40])"
      ]
     },
     "execution_count": 110,
     "metadata": {},
     "output_type": "execute_result"
    }
   ],
   "source": [
    "np.hstack((a,b))"
   ]
  },
  {
   "cell_type": "code",
   "execution_count": 111,
   "id": "31e7fb68-b173-490d-be80-19fb98e74806",
   "metadata": {},
   "outputs": [
    {
     "data": {
      "text/plain": [
       "array([40, 42, 50, 57, 78, 63, 40])"
      ]
     },
     "execution_count": 111,
     "metadata": {},
     "output_type": "execute_result"
    }
   ],
   "source": [
    "# aggregate func\n",
    "a = np.array([40,42,50,57,78,63,40])\n",
    "a"
   ]
  },
  {
   "cell_type": "code",
   "execution_count": 112,
   "id": "7c91ba7a-0058-4b55-a637-de094b68fe9e",
   "metadata": {},
   "outputs": [
    {
     "data": {
      "text/plain": [
       "40"
      ]
     },
     "execution_count": 112,
     "metadata": {},
     "output_type": "execute_result"
    }
   ],
   "source": [
    "np.min(a)"
   ]
  },
  {
   "cell_type": "code",
   "execution_count": 113,
   "id": "20711bb1-9904-4ac5-9b9a-72d55da985e5",
   "metadata": {},
   "outputs": [
    {
     "data": {
      "text/plain": [
       "172.69387755102042"
      ]
     },
     "execution_count": 113,
     "metadata": {},
     "output_type": "execute_result"
    }
   ],
   "source": [
    "np.var(a)"
   ]
  },
  {
   "cell_type": "code",
   "execution_count": 114,
   "id": "657b00ce-fe25-4db4-a3e9-53e5e366ed82",
   "metadata": {},
   "outputs": [
    {
     "data": {
      "text/plain": [
       "38"
      ]
     },
     "execution_count": 114,
     "metadata": {},
     "output_type": "execute_result"
    }
   ],
   "source": [
    "np.ptp(a) # peak to peak"
   ]
  },
  {
   "cell_type": "code",
   "execution_count": 115,
   "id": "fb4c449e-56a6-40e3-8581-b80f2e21df17",
   "metadata": {},
   "outputs": [
    {
     "data": {
      "text/plain": [
       "38"
      ]
     },
     "execution_count": 115,
     "metadata": {},
     "output_type": "execute_result"
    }
   ],
   "source": [
    "np.max(a) - np.min(a)"
   ]
  },
  {
   "cell_type": "code",
   "execution_count": 116,
   "id": "a8f5d509-0e91-48de-802c-4e318af56f0f",
   "metadata": {},
   "outputs": [
    {
     "name": "stdout",
     "output_type": "stream",
     "text": [
      " max :78 , \n",
      " sum: 370 , \n",
      " mean:52.857142857142854 , \n",
      " median:50.0 , \n",
      " sort :[40 40 42 50 57 63 78]\n"
     ]
    }
   ],
   "source": [
    "print(f' max :{np.max(a)} , \\n sum: {np.sum(a)} , \\n mean:{np.mean(a)} , \\n median:{np.median(a)} , \\n sort :{np.sort(a)}')"
   ]
  },
  {
   "cell_type": "code",
   "execution_count": 117,
   "id": "a4c8b6f8-8e4b-4def-baa8-66904a156065",
   "metadata": {},
   "outputs": [],
   "source": [
    "from scipy import stats\n"
   ]
  },
  {
   "cell_type": "code",
   "execution_count": 118,
   "id": "b6401d33-4131-493f-9493-2419827b04e6",
   "metadata": {},
   "outputs": [
    {
     "data": {
      "text/plain": [
       "ModeResult(mode=40, count=2)"
      ]
     },
     "execution_count": 118,
     "metadata": {},
     "output_type": "execute_result"
    }
   ],
   "source": [
    "m = stats.mode(a)\n",
    "m"
   ]
  },
  {
   "cell_type": "code",
   "execution_count": 119,
   "id": "4a908dfd-1ff2-48d6-879c-534ffa0a9a37",
   "metadata": {},
   "outputs": [
    {
     "data": {
      "text/plain": [
       "40"
      ]
     },
     "execution_count": 119,
     "metadata": {},
     "output_type": "execute_result"
    }
   ],
   "source": [
    "m[0]"
   ]
  },
  {
   "cell_type": "code",
   "execution_count": 120,
   "id": "5c44a458-6d72-4d73-baea-2e773dc80a9b",
   "metadata": {},
   "outputs": [
    {
     "data": {
      "text/plain": [
       "2"
      ]
     },
     "execution_count": 120,
     "metadata": {},
     "output_type": "execute_result"
    }
   ],
   "source": [
    "m[1]"
   ]
  },
  {
   "cell_type": "code",
   "execution_count": 121,
   "id": "6aac1117-748f-4ab8-a53f-b8871b726c95",
   "metadata": {},
   "outputs": [
    {
     "data": {
      "text/plain": [
       "array([40, 42, 50, 57, 78, 63, 40])"
      ]
     },
     "execution_count": 121,
     "metadata": {},
     "output_type": "execute_result"
    }
   ],
   "source": [
    "a"
   ]
  },
  {
   "cell_type": "code",
   "execution_count": 122,
   "id": "8653597b-d994-45aa-ade6-a2dee5c31e77",
   "metadata": {},
   "outputs": [
    {
     "data": {
      "text/plain": [
       "array([40, 40, 42, 50, 57, 63, 78])"
      ]
     },
     "execution_count": 122,
     "metadata": {},
     "output_type": "execute_result"
    }
   ],
   "source": [
    "a2= np.sort(a)\n",
    "a2"
   ]
  },
  {
   "cell_type": "code",
   "execution_count": 123,
   "id": "cc5cacbc-dc52-40ca-a375-8b4ca8027614",
   "metadata": {},
   "outputs": [
    {
     "data": {
      "text/plain": [
       "array([78, 63, 57, 50, 42, 40, 40])"
      ]
     },
     "execution_count": 123,
     "metadata": {},
     "output_type": "execute_result"
    }
   ],
   "source": [
    "a3 = np.sort(a)[::-1]\n",
    "a3"
   ]
  },
  {
   "cell_type": "code",
   "execution_count": 124,
   "id": "0c2fd8c9-d906-4ab9-8712-c12b6fe2725d",
   "metadata": {},
   "outputs": [
    {
     "data": {
      "text/plain": [
       "array([40, 40, 42, 50, 57, 63, 78])"
      ]
     },
     "execution_count": 124,
     "metadata": {},
     "output_type": "execute_result"
    }
   ],
   "source": [
    "a.sort() #sort inplace\n",
    "a"
   ]
  },
  {
   "cell_type": "code",
   "execution_count": 125,
   "id": "e443aed6-9343-4a10-a363-9c4b68bae22d",
   "metadata": {},
   "outputs": [
    {
     "data": {
      "text/plain": [
       "array([[ 1,  2,  3,  4,  5],\n",
       "       [ 6,  7,  8,  9, 10],\n",
       "       [11, 12, 13, 14, 15],\n",
       "       [16, 17, 18, 19, 20]])"
      ]
     },
     "execution_count": 125,
     "metadata": {},
     "output_type": "execute_result"
    }
   ],
   "source": [
    "#2dim array\n",
    "a = np.reshape(np.arange(1,21) , (4,5))\n",
    "a"
   ]
  },
  {
   "cell_type": "code",
   "execution_count": 126,
   "id": "1c1d44ae-d150-4683-b3e2-d51f35729a34",
   "metadata": {},
   "outputs": [
    {
     "data": {
      "text/plain": [
       "10.5"
      ]
     },
     "execution_count": 126,
     "metadata": {},
     "output_type": "execute_result"
    }
   ],
   "source": [
    "np.mean(a)"
   ]
  },
  {
   "cell_type": "code",
   "execution_count": 127,
   "id": "b3139453-daf8-4597-a20d-c97c9fe3becb",
   "metadata": {},
   "outputs": [
    {
     "data": {
      "text/plain": [
       "20"
      ]
     },
     "execution_count": 127,
     "metadata": {},
     "output_type": "execute_result"
    }
   ],
   "source": [
    "a.size"
   ]
  },
  {
   "cell_type": "code",
   "execution_count": 128,
   "id": "bfc9e5d0-159b-455c-824c-31cc78e36755",
   "metadata": {},
   "outputs": [
    {
     "data": {
      "text/plain": [
       "(4, 5)"
      ]
     },
     "execution_count": 128,
     "metadata": {},
     "output_type": "execute_result"
    }
   ],
   "source": [
    "a.shape"
   ]
  },
  {
   "cell_type": "code",
   "execution_count": 129,
   "id": "0a2d3985-b4bf-4e3b-b15d-d79612c0af31",
   "metadata": {},
   "outputs": [
    {
     "data": {
      "text/plain": [
       "3.0"
      ]
     },
     "execution_count": 129,
     "metadata": {},
     "output_type": "execute_result"
    }
   ],
   "source": [
    "np.mean(a[0])"
   ]
  },
  {
   "cell_type": "code",
   "execution_count": 130,
   "id": "8976c2e8-ac07-4d7f-90c4-6f8d41dc47f7",
   "metadata": {},
   "outputs": [
    {
     "data": {
      "text/plain": [
       "array([34, 38, 42, 46, 50])"
      ]
     },
     "execution_count": 130,
     "metadata": {},
     "output_type": "execute_result"
    }
   ],
   "source": [
    "np.sum(a ,axis=0)"
   ]
  },
  {
   "cell_type": "code",
   "execution_count": 131,
   "id": "bb90ecdf-4ce7-401b-ba91-25f93c6e6338",
   "metadata": {},
   "outputs": [
    {
     "data": {
      "text/plain": [
       "array([15, 40, 65, 90])"
      ]
     },
     "execution_count": 131,
     "metadata": {},
     "output_type": "execute_result"
    }
   ],
   "source": [
    "np.sum(a ,axis=1)"
   ]
  },
  {
   "cell_type": "code",
   "execution_count": 132,
   "id": "27a4257b-17fc-4bd3-9518-5ae7c4cf2638",
   "metadata": {},
   "outputs": [
    {
     "data": {
      "text/plain": [
       "array([22, 52, 59, 40, 91, 33, 93, 92,  0, 60, 59, 88, 74, 56, 93, 62, 12,\n",
       "       18, 86, 56])"
      ]
     },
     "execution_count": 132,
     "metadata": {},
     "output_type": "execute_result"
    }
   ],
   "source": [
    "## boolean array\n",
    "a = np.random.randint(0,100,20)\n",
    "a"
   ]
  },
  {
   "cell_type": "code",
   "execution_count": 133,
   "id": "2ae33d2a-7b52-4705-ab98-a9eae8050a27",
   "metadata": {},
   "outputs": [
    {
     "data": {
      "text/plain": [
       "array([ True,  True, False,  True, False, False, False,  True,  True,\n",
       "        True, False,  True,  True,  True, False,  True,  True,  True,\n",
       "        True,  True])"
      ]
     },
     "execution_count": 133,
     "metadata": {},
     "output_type": "execute_result"
    }
   ],
   "source": [
    "a%2 ==0 "
   ]
  },
  {
   "cell_type": "code",
   "execution_count": 134,
   "id": "4930738b-5f60-44e4-bc2e-5b14c5bfd9dd",
   "metadata": {},
   "outputs": [
    {
     "data": {
      "text/plain": [
       "array([22, 52, 40, 92,  0, 60, 88, 74, 56, 62, 12, 18, 86, 56])"
      ]
     },
     "execution_count": 134,
     "metadata": {},
     "output_type": "execute_result"
    }
   ],
   "source": [
    "a[a%2 ==0 ]"
   ]
  },
  {
   "cell_type": "code",
   "execution_count": 135,
   "id": "9c0f0cc3-4d72-46dc-a763-b1b1d2b64252",
   "metadata": {},
   "outputs": [
    {
     "data": {
      "text/plain": [
       "array([False,  True, False, False, False, False, False,  True, False,\n",
       "        True, False,  True,  True,  True, False,  True, False, False,\n",
       "        True,  True])"
      ]
     },
     "execution_count": 135,
     "metadata": {},
     "output_type": "execute_result"
    }
   ],
   "source": [
    "(a%2 ==0) & (a>50)  # & and "
   ]
  },
  {
   "cell_type": "code",
   "execution_count": 136,
   "id": "8e2f2ec9-6098-4649-b389-0377777e1bf0",
   "metadata": {},
   "outputs": [
    {
     "data": {
      "text/plain": [
       "array([52, 92, 60, 88, 74, 56, 62, 86, 56])"
      ]
     },
     "execution_count": 136,
     "metadata": {},
     "output_type": "execute_result"
    }
   ],
   "source": [
    "a[(a%2 ==0) & (a>50)]"
   ]
  },
  {
   "cell_type": "code",
   "execution_count": 137,
   "id": "4dc0e907-4a30-4762-b0df-6c1fe8ee52cc",
   "metadata": {},
   "outputs": [
    {
     "data": {
      "text/plain": [
       "array([ True,  True,  True,  True,  True, False,  True,  True,  True,\n",
       "        True,  True,  True,  True,  True,  True,  True,  True,  True,\n",
       "        True,  True])"
      ]
     },
     "execution_count": 137,
     "metadata": {},
     "output_type": "execute_result"
    }
   ],
   "source": [
    "(a%2 ==0) | (a>50)  # | or"
   ]
  },
  {
   "cell_type": "code",
   "execution_count": 138,
   "id": "cb6fedf4-0bc1-4b37-91ff-a4f6e0fc86fa",
   "metadata": {},
   "outputs": [
    {
     "data": {
      "text/plain": [
       "array([22, 52, 59, 40, 91, 93, 92,  0, 60, 59, 88, 74, 56, 93, 62, 12, 18,\n",
       "       86, 56])"
      ]
     },
     "execution_count": 138,
     "metadata": {},
     "output_type": "execute_result"
    }
   ],
   "source": [
    "a[(a%2 ==0) | (a>50)]"
   ]
  },
  {
   "cell_type": "code",
   "execution_count": 139,
   "id": "55c4e7fb-3fef-4e2d-939e-63fbe88f6b4d",
   "metadata": {},
   "outputs": [
    {
     "data": {
      "text/plain": [
       "array([2178, 4025,  396, 3348, 3210,  444, 2107, 3490, 3790, 2782, 6139,\n",
       "       2231, 7744, 7465, 2821, 5173, 2489, 2193,  389, 4358, 6548, 7721,\n",
       "       4485,  329, 4098, 4387, 5102, 7388, 3444, 3528, 7215, 5059,  414,\n",
       "       6579, 4451, 3439, 5780, 2218, 2731, 2737, 3282, 8483, 8337,  997,\n",
       "       5945, 7793, 6671, 5790, 4956, 7132, 2946, 3672, 5495, 6306, 6136,\n",
       "       5079, 1747, 6614, 7422, 6897, 7679, 6608, 6167, 2858, 3139, 3175,\n",
       "       7373, 4054, 8170,  886, 2315, 4340, 8215, 3586, 6370, 1561, 7977,\n",
       "       1160, 2987,    1, 4130, 2672,  699, 6436, 6615, 5347, 4753, 6718,\n",
       "       5347, 5746, 7443, 7765, 6859, 7305, 1570, 8151, 2170, 8236, 5140,\n",
       "       2902])"
      ]
     },
     "execution_count": 139,
     "metadata": {},
     "output_type": "execute_result"
    }
   ],
   "source": [
    "b = np.random.randint(1,8888,100)\n",
    "b"
   ]
  },
  {
   "cell_type": "code",
   "execution_count": 140,
   "id": "6d056e50-4cf4-41c0-9206-acbdaa682f7f",
   "metadata": {},
   "outputs": [
    {
     "data": {
      "text/plain": [
       "array([False, False, False, False, False, False, False, False, False,\n",
       "       False,  True, False, False, False, False, False,  True, False,\n",
       "        True, False, False, False, False,  True, False, False, False,\n",
       "       False, False, False, False,  True, False,  True, False,  True,\n",
       "       False, False, False, False, False, False, False, False, False,\n",
       "       False, False, False, False, False, False, False, False, False,\n",
       "       False,  True, False, False, False, False,  True, False, False,\n",
       "       False,  True, False, False, False, False, False, False, False,\n",
       "       False, False, False, False, False, False, False, False, False,\n",
       "       False,  True, False, False, False, False, False, False, False,\n",
       "       False, False,  True, False, False, False, False, False, False,\n",
       "       False])"
      ]
     },
     "execution_count": 140,
     "metadata": {},
     "output_type": "execute_result"
    }
   ],
   "source": [
    "b %10 == 9"
   ]
  },
  {
   "cell_type": "code",
   "execution_count": 141,
   "id": "58b0245f-0b6e-40d8-a417-894b8f3e873f",
   "metadata": {},
   "outputs": [
    {
     "data": {
      "text/plain": [
       "array([6139, 2489,  389,  329, 5059, 6579, 3439, 5079, 7679, 3139,  699,\n",
       "       6859])"
      ]
     },
     "execution_count": 141,
     "metadata": {},
     "output_type": "execute_result"
    }
   ],
   "source": [
    "b[b %10 == 9]"
   ]
  },
  {
   "cell_type": "code",
   "execution_count": 142,
   "id": "64a8ae90-f662-4773-9c14-3fdacb44d618",
   "metadata": {},
   "outputs": [
    {
     "data": {
      "text/plain": [
       "(array([10, 16, 18, 23, 31, 33, 35, 55, 60, 64, 82, 92], dtype=int64),)"
      ]
     },
     "execution_count": 142,
     "metadata": {},
     "output_type": "execute_result"
    }
   ],
   "source": [
    "np.where(b %10 == 9)"
   ]
  },
  {
   "cell_type": "code",
   "execution_count": 143,
   "id": "e475d6a9-a261-484a-b822-db7f80d97435",
   "metadata": {},
   "outputs": [
    {
     "data": {
      "text/plain": [
       "array([6139, 2489,  389,  329, 5059, 6579, 3439, 5079, 7679, 3139,  699,\n",
       "       6859])"
      ]
     },
     "execution_count": 143,
     "metadata": {},
     "output_type": "execute_result"
    }
   ],
   "source": [
    "b[np.where(b %10 == 9)]"
   ]
  },
  {
   "cell_type": "code",
   "execution_count": 144,
   "id": "b50f6b9a-6e34-47e7-a3ac-9f95e9a134ec",
   "metadata": {},
   "outputs": [
    {
     "data": {
      "text/plain": [
       "array([ 0, 10, 20, 30, 40, 50, 60, 70, 80, 90])"
      ]
     },
     "execution_count": 144,
     "metadata": {},
     "output_type": "execute_result"
    }
   ],
   "source": [
    "## iterate\n",
    "a = np.arange(10) *10\n",
    "a"
   ]
  },
  {
   "cell_type": "code",
   "execution_count": 145,
   "id": "fccda3ad-9902-450d-a68d-bfa854b8f704",
   "metadata": {},
   "outputs": [
    {
     "name": "stdout",
     "output_type": "stream",
     "text": [
      "0\n",
      "10\n",
      "20\n",
      "30\n",
      "40\n",
      "50\n",
      "60\n",
      "70\n",
      "80\n",
      "90\n"
     ]
    }
   ],
   "source": [
    "for n in a :\n",
    "    print(n)"
   ]
  },
  {
   "cell_type": "code",
   "execution_count": 146,
   "id": "f4dee831-951e-4211-8df1-cbd2d83d4ca9",
   "metadata": {},
   "outputs": [
    {
     "name": "stdout",
     "output_type": "stream",
     "text": [
      "0 0\n",
      "1 10\n",
      "2 20\n",
      "3 30\n",
      "4 40\n",
      "5 50\n",
      "6 60\n",
      "7 70\n",
      "8 80\n",
      "9 90\n"
     ]
    }
   ],
   "source": [
    "for i , v in enumerate(a) :\n",
    "    print(i,v)"
   ]
  },
  {
   "cell_type": "code",
   "execution_count": 147,
   "id": "08a51bb5-a73f-4817-b1e9-7ffd3596ff86",
   "metadata": {},
   "outputs": [
    {
     "name": "stdout",
     "output_type": "stream",
     "text": [
      "1 0\n",
      "2 10\n",
      "3 20\n",
      "4 30\n",
      "5 40\n",
      "6 50\n",
      "7 60\n",
      "8 70\n",
      "9 80\n",
      "10 90\n"
     ]
    }
   ],
   "source": [
    "for i , v in enumerate(a,start=1) :\n",
    "    print(i,v)"
   ]
  },
  {
   "cell_type": "code",
   "execution_count": 148,
   "id": "05d94280-79a6-466c-bba6-2c49389a5773",
   "metadata": {},
   "outputs": [
    {
     "data": {
      "text/plain": [
       "array([[ 1,  2,  3,  4,  5],\n",
       "       [ 6,  7,  8,  9, 10],\n",
       "       [11, 12, 13, 14, 15],\n",
       "       [16, 17, 18, 19, 20]])"
      ]
     },
     "execution_count": 148,
     "metadata": {},
     "output_type": "execute_result"
    }
   ],
   "source": [
    "#2-dim array\n",
    "b= np.arange(1,21).reshape(4,5)\n",
    "b"
   ]
  },
  {
   "cell_type": "code",
   "execution_count": 149,
   "id": "efb56ab1-3d93-4397-aefc-c9e20e6c6b7b",
   "metadata": {},
   "outputs": [
    {
     "name": "stdout",
     "output_type": "stream",
     "text": [
      "[1 2 3 4 5]\n",
      "[ 6  7  8  9 10]\n",
      "[11 12 13 14 15]\n",
      "[16 17 18 19 20]\n"
     ]
    }
   ],
   "source": [
    "for i in b :\n",
    "    print(i)"
   ]
  },
  {
   "cell_type": "code",
   "execution_count": 150,
   "id": "e842e0a8-8f27-4280-a1e0-8b40d6651ac2",
   "metadata": {},
   "outputs": [
    {
     "name": "stdout",
     "output_type": "stream",
     "text": [
      "1\n",
      "2\n",
      "3\n",
      "4\n",
      "5\n",
      "6\n",
      "7\n",
      "8\n",
      "9\n",
      "10\n",
      "11\n",
      "12\n",
      "13\n",
      "14\n",
      "15\n",
      "16\n",
      "17\n",
      "18\n",
      "19\n",
      "20\n"
     ]
    }
   ],
   "source": [
    "for i in b.flat:\n",
    "    print(i)"
   ]
  },
  {
   "cell_type": "code",
   "execution_count": 151,
   "id": "2e4b8221-ecc0-4db3-a372-085a3d4b4a8f",
   "metadata": {},
   "outputs": [
    {
     "name": "stdout",
     "output_type": "stream",
     "text": [
      "(0, 0) 1\n",
      "(0, 1) 2\n",
      "(0, 2) 3\n",
      "(0, 3) 4\n",
      "(0, 4) 5\n",
      "(1, 0) 6\n",
      "(1, 1) 7\n",
      "(1, 2) 8\n",
      "(1, 3) 9\n",
      "(1, 4) 10\n",
      "(2, 0) 11\n",
      "(2, 1) 12\n",
      "(2, 2) 13\n",
      "(2, 3) 14\n",
      "(2, 4) 15\n",
      "(3, 0) 16\n",
      "(3, 1) 17\n",
      "(3, 2) 18\n",
      "(3, 3) 19\n",
      "(3, 4) 20\n"
     ]
    }
   ],
   "source": [
    "for i,v in np.ndenumerate(b) :\n",
    "    print(i,v)"
   ]
  },
  {
   "cell_type": "code",
   "execution_count": 152,
   "id": "e2fdb4fc-7519-4f6e-a302-8ed619f8d760",
   "metadata": {},
   "outputs": [
    {
     "data": {
      "text/plain": [
       "array([[ 1,  2,  3,  4,  5],\n",
       "       [ 6,  7,  8,  9, 10],\n",
       "       [11, 12, 13, 14, 15],\n",
       "       [16, 17, 18, 19, 20]])"
      ]
     },
     "execution_count": 152,
     "metadata": {},
     "output_type": "execute_result"
    }
   ],
   "source": [
    "b"
   ]
  },
  {
   "cell_type": "code",
   "execution_count": 153,
   "id": "9a79f0b0-7116-4f6e-89e2-14dbfe92eba5",
   "metadata": {},
   "outputs": [
    {
     "name": "stdout",
     "output_type": "stream",
     "text": [
      "(0,) 6\n",
      "(1,) 7\n",
      "(2,) 8\n",
      "(3,) 9\n",
      "(4,) 10\n"
     ]
    }
   ],
   "source": [
    "for i,v in np.ndenumerate(b[1]) :\n",
    "    print(i,v)"
   ]
  },
  {
   "cell_type": "code",
   "execution_count": 154,
   "id": "96a80788-3d33-4375-b3e1-453ac4f982b3",
   "metadata": {},
   "outputs": [
    {
     "name": "stdout",
     "output_type": "stream",
     "text": [
      "(0, 0) 6\n",
      "(0, 1) 7\n",
      "(0, 2) 8\n",
      "(0, 3) 9\n",
      "(0, 4) 10\n",
      "(1, 0) 11\n",
      "(1, 1) 12\n",
      "(1, 2) 13\n",
      "(1, 3) 14\n",
      "(1, 4) 15\n",
      "(2, 0) 16\n",
      "(2, 1) 17\n",
      "(2, 2) 18\n",
      "(2, 3) 19\n",
      "(2, 4) 20\n"
     ]
    }
   ],
   "source": [
    "for i,v in np.ndenumerate(b[1:4]) :\n",
    "    print(i,v)"
   ]
  },
  {
   "cell_type": "code",
   "execution_count": 155,
   "id": "607581e4-fdab-4fc1-93ff-1d25f14e41af",
   "metadata": {},
   "outputs": [
    {
     "name": "stdout",
     "output_type": "stream",
     "text": [
      "(0,) 3\n",
      "(1,) 8\n",
      "(2,) 13\n",
      "(3,) 18\n"
     ]
    }
   ],
   "source": [
    "for i,v in np.ndenumerate(b[:,2]) :\n",
    "    print(i,v)"
   ]
  },
  {
   "cell_type": "code",
   "execution_count": 156,
   "id": "6ae77b3d-45bc-4c0d-bdc6-2e213758db87",
   "metadata": {},
   "outputs": [
    {
     "data": {
      "text/plain": [
       "array([[[ 1,  2,  3,  4,  5],\n",
       "        [ 6,  7,  8,  9, 10]],\n",
       "\n",
       "       [[11, 12, 13, 14, 15],\n",
       "        [16, 17, 18, 19, 20]],\n",
       "\n",
       "       [[21, 22, 23, 24, 25],\n",
       "        [26, 27, 28, 29, 30]]])"
      ]
     },
     "execution_count": 156,
     "metadata": {},
     "output_type": "execute_result"
    }
   ],
   "source": [
    "#3-dim array\n",
    "c = np.arange(1,31).reshape(3,2,5)\n",
    "c"
   ]
  },
  {
   "cell_type": "code",
   "execution_count": 157,
   "id": "2fe3b09b-dedf-4ea5-82a1-3eddcbb0b400",
   "metadata": {},
   "outputs": [
    {
     "data": {
      "text/plain": [
       "array([[ 1,  2,  3,  4,  5],\n",
       "       [ 6,  7,  8,  9, 10]])"
      ]
     },
     "execution_count": 157,
     "metadata": {},
     "output_type": "execute_result"
    }
   ],
   "source": [
    "c[0]"
   ]
  },
  {
   "cell_type": "code",
   "execution_count": 158,
   "id": "b9ce263d-6483-4c10-ad76-eb20940fd92e",
   "metadata": {},
   "outputs": [
    {
     "data": {
      "text/plain": [
       "array([ 6,  7,  8,  9, 10])"
      ]
     },
     "execution_count": 158,
     "metadata": {},
     "output_type": "execute_result"
    }
   ],
   "source": [
    "c[0][1]"
   ]
  },
  {
   "cell_type": "code",
   "execution_count": 159,
   "id": "21ad3024-2b5c-448d-9fe2-efe7f83279ff",
   "metadata": {},
   "outputs": [
    {
     "data": {
      "text/plain": [
       "9"
      ]
     },
     "execution_count": 159,
     "metadata": {},
     "output_type": "execute_result"
    }
   ],
   "source": [
    "c[0][1][3]"
   ]
  },
  {
   "cell_type": "code",
   "execution_count": 160,
   "id": "2b48eb45-c7e9-4bb6-a002-88828545de50",
   "metadata": {},
   "outputs": [
    {
     "name": "stdout",
     "output_type": "stream",
     "text": [
      "1\n",
      "2\n",
      "3\n",
      "4\n",
      "5\n",
      "6\n",
      "7\n",
      "8\n",
      "9\n",
      "10\n",
      "11\n",
      "12\n",
      "13\n",
      "14\n",
      "15\n",
      "16\n",
      "17\n",
      "18\n",
      "19\n",
      "20\n",
      "21\n",
      "22\n",
      "23\n",
      "24\n",
      "25\n",
      "26\n",
      "27\n",
      "28\n",
      "29\n",
      "30\n"
     ]
    }
   ],
   "source": [
    "for i in c.flat :\n",
    "    print(i)"
   ]
  },
  {
   "cell_type": "code",
   "execution_count": 161,
   "id": "af7a3938-2015-4cbe-a869-67c567fae6c2",
   "metadata": {},
   "outputs": [
    {
     "name": "stdout",
     "output_type": "stream",
     "text": [
      "(0, 0, 0) 1\n",
      "(0, 0, 1) 2\n",
      "(0, 0, 2) 3\n",
      "(0, 0, 3) 4\n",
      "(0, 0, 4) 5\n",
      "(0, 1, 0) 6\n",
      "(0, 1, 1) 7\n",
      "(0, 1, 2) 8\n",
      "(0, 1, 3) 9\n",
      "(0, 1, 4) 10\n",
      "(1, 0, 0) 11\n",
      "(1, 0, 1) 12\n",
      "(1, 0, 2) 13\n",
      "(1, 0, 3) 14\n",
      "(1, 0, 4) 15\n",
      "(1, 1, 0) 16\n",
      "(1, 1, 1) 17\n",
      "(1, 1, 2) 18\n",
      "(1, 1, 3) 19\n",
      "(1, 1, 4) 20\n",
      "(2, 0, 0) 21\n",
      "(2, 0, 1) 22\n",
      "(2, 0, 2) 23\n",
      "(2, 0, 3) 24\n",
      "(2, 0, 4) 25\n",
      "(2, 1, 0) 26\n",
      "(2, 1, 1) 27\n",
      "(2, 1, 2) 28\n",
      "(2, 1, 3) 29\n",
      "(2, 1, 4) 30\n"
     ]
    }
   ],
   "source": [
    "for i,v in np.ndenumerate(c) :\n",
    "    print(i,v)"
   ]
  },
  {
   "cell_type": "code",
   "execution_count": 162,
   "id": "1f67b44c-2793-4e23-be84-3eeba9b14dfe",
   "metadata": {},
   "outputs": [
    {
     "data": {
      "text/plain": [
       "array([ 1,  2,  3,  4,  5,  6,  7,  8,  9, 10])"
      ]
     },
     "execution_count": 162,
     "metadata": {},
     "output_type": "execute_result"
    }
   ],
   "source": [
    "## linspace\n",
    "np.arange(1,11)\n"
   ]
  },
  {
   "cell_type": "code",
   "execution_count": 163,
   "id": "7dc1fad5-4c58-42fd-9fa7-d7de4da89108",
   "metadata": {},
   "outputs": [
    {
     "data": {
      "text/plain": [
       "array([1, 3, 5, 7, 9])"
      ]
     },
     "execution_count": 163,
     "metadata": {},
     "output_type": "execute_result"
    }
   ],
   "source": [
    "np.arange(1,11,2)"
   ]
  },
  {
   "cell_type": "code",
   "execution_count": 164,
   "id": "cef443ac-4f8d-4882-ab40-f0c5807bb65f",
   "metadata": {},
   "outputs": [
    {
     "data": {
      "text/plain": [
       "array([ 1.,  4.,  7., 10.])"
      ]
     },
     "execution_count": 164,
     "metadata": {},
     "output_type": "execute_result"
    }
   ],
   "source": [
    "np.linspace(1,10,4)"
   ]
  },
  {
   "cell_type": "code",
   "execution_count": 165,
   "id": "e387807b-eeb4-47ef-b3bf-3be3ed7e44a6",
   "metadata": {},
   "outputs": [
    {
     "data": {
      "text/plain": [
       "array([ 1.        ,  1.47368421,  1.94736842,  2.42105263,  2.89473684,\n",
       "        3.36842105,  3.84210526,  4.31578947,  4.78947368,  5.26315789,\n",
       "        5.73684211,  6.21052632,  6.68421053,  7.15789474,  7.63157895,\n",
       "        8.10526316,  8.57894737,  9.05263158,  9.52631579, 10.        ])"
      ]
     },
     "execution_count": 165,
     "metadata": {},
     "output_type": "execute_result"
    }
   ],
   "source": [
    "np.linspace(1,10,20)"
   ]
  },
  {
   "cell_type": "code",
   "execution_count": 166,
   "id": "f90b4748-534d-40cd-aace-216ce35108af",
   "metadata": {},
   "outputs": [
    {
     "data": {
      "text/plain": [
       "3.141592653589793"
      ]
     },
     "execution_count": 166,
     "metadata": {},
     "output_type": "execute_result"
    }
   ],
   "source": [
    "np.pi"
   ]
  },
  {
   "cell_type": "code",
   "execution_count": 167,
   "id": "1e4c2197-a4d6-4b21-98f6-265ef2af5c59",
   "metadata": {},
   "outputs": [
    {
     "data": {
      "text/plain": [
       "array([0.        , 0.07059759, 0.14119518, 0.21179276, 0.28239035,\n",
       "       0.35298794, 0.42358553, 0.49418311, 0.5647807 , 0.63537829,\n",
       "       0.70597588, 0.77657346, 0.84717105, 0.91776864, 0.98836623,\n",
       "       1.05896382, 1.1295614 , 1.20015899, 1.27075658, 1.34135417,\n",
       "       1.41195175, 1.48254934, 1.55314693, 1.62374452, 1.69434211,\n",
       "       1.76493969, 1.83553728, 1.90613487, 1.97673246, 2.04733004,\n",
       "       2.11792763, 2.18852522, 2.25912281, 2.32972039, 2.40031798,\n",
       "       2.47091557, 2.54151316, 2.61211075, 2.68270833, 2.75330592,\n",
       "       2.82390351, 2.8945011 , 2.96509868, 3.03569627, 3.10629386,\n",
       "       3.17689145, 3.24748904, 3.31808662, 3.38868421, 3.4592818 ,\n",
       "       3.52987939, 3.60047697, 3.67107456, 3.74167215, 3.81226974,\n",
       "       3.88286732, 3.95346491, 4.0240625 , 4.09466009, 4.16525768,\n",
       "       4.23585526, 4.30645285, 4.37705044, 4.44764803, 4.51824561,\n",
       "       4.5888432 , 4.65944079, 4.73003838, 4.80063597, 4.87123355,\n",
       "       4.94183114, 5.01242873, 5.08302632, 5.1536239 , 5.22422149,\n",
       "       5.29481908, 5.36541667, 5.43601425, 5.50661184, 5.57720943,\n",
       "       5.64780702, 5.71840461, 5.78900219, 5.85959978, 5.93019737,\n",
       "       6.00079496, 6.07139254, 6.14199013, 6.21258772, 6.28318531])"
      ]
     },
     "execution_count": 167,
     "metadata": {},
     "output_type": "execute_result"
    }
   ],
   "source": [
    "x = np.linspace(0,2*np.pi,90)\n",
    "x\n"
   ]
  },
  {
   "cell_type": "code",
   "execution_count": 168,
   "id": "e26e0af6-b95f-4535-be83-e7e1fc6755c3",
   "metadata": {},
   "outputs": [
    {
     "data": {
      "text/plain": [
       "array([ 0.00000000e+00,  7.05389590e-02,  1.40726497e-01,  2.10212942e-01,\n",
       "        2.78652117e-01,  3.45703061e-01,  4.11031729e-01,  4.74312659e-01,\n",
       "        5.35230586e-01,  5.93482022e-01,  6.48776760e-01,  7.00839325e-01,\n",
       "        7.49410344e-01,  7.94247838e-01,  8.35128429e-01,  8.71848453e-01,\n",
       "        9.04224971e-01,  9.32096686e-01,  9.55324742e-01,  9.73793418e-01,\n",
       "        9.87410705e-01,  9.96108761e-01,  9.99844253e-01,  9.98598572e-01,\n",
       "        9.92377923e-01,  9.81213297e-01,  9.65160315e-01,  9.44298953e-01,\n",
       "        9.18733142e-01,  8.88590248e-01,  8.54020442e-01,  8.15195950e-01,\n",
       "        7.72310192e-01,  7.25576824e-01,  6.75228668e-01,  6.21516557e-01,\n",
       "        5.64708082e-01,  5.05086260e-01,  4.42948123e-01,  3.78603241e-01,\n",
       "        3.12372177e-01,  2.44584890e-01,  1.75579094e-01,  1.05698571e-01,\n",
       "        3.52914639e-02, -3.52914639e-02, -1.05698571e-01, -1.75579094e-01,\n",
       "       -2.44584890e-01, -3.12372177e-01, -3.78603241e-01, -4.42948123e-01,\n",
       "       -5.05086260e-01, -5.64708082e-01, -6.21516557e-01, -6.75228668e-01,\n",
       "       -7.25576824e-01, -7.72310192e-01, -8.15195950e-01, -8.54020442e-01,\n",
       "       -8.88590248e-01, -9.18733142e-01, -9.44298953e-01, -9.65160315e-01,\n",
       "       -9.81213297e-01, -9.92377923e-01, -9.98598572e-01, -9.99844253e-01,\n",
       "       -9.96108761e-01, -9.87410705e-01, -9.73793418e-01, -9.55324742e-01,\n",
       "       -9.32096686e-01, -9.04224971e-01, -8.71848453e-01, -8.35128429e-01,\n",
       "       -7.94247838e-01, -7.49410344e-01, -7.00839325e-01, -6.48776760e-01,\n",
       "       -5.93482022e-01, -5.35230586e-01, -4.74312659e-01, -4.11031729e-01,\n",
       "       -3.45703061e-01, -2.78652117e-01, -2.10212942e-01, -1.40726497e-01,\n",
       "       -7.05389590e-02, -2.44929360e-16])"
      ]
     },
     "execution_count": 168,
     "metadata": {},
     "output_type": "execute_result"
    }
   ],
   "source": [
    "y = np.sin(x)\n",
    "y"
   ]
  },
  {
   "cell_type": "code",
   "execution_count": 169,
   "id": "35207cb4-82b8-4113-85e1-ce22e6a9eeaf",
   "metadata": {},
   "outputs": [
    {
     "data": {
      "text/plain": [
       "[<matplotlib.lines.Line2D at 0x220e5dc5f10>]"
      ]
     },
     "execution_count": 169,
     "metadata": {},
     "output_type": "execute_result"
    },
    {
     "data": {
      "image/png": "[encoded data removed]",
      "text/plain": [
       "<Figure size 640x480 with 1 Axes>"
      ]
     },
     "metadata": {},
     "output_type": "display_data"
    }
   ],
   "source": [
    "import matplotlib.pyplot as plt\n",
    "%matplotlib inline\n",
    "plt.plot(x,y)"
   ]
  },
  {
   "cell_type": "code",
   "execution_count": 170,
   "id": "d08e64b2-9ecb-44eb-be13-269df21ce340",
   "metadata": {},
   "outputs": [
    {
     "data": {
      "text/plain": [
       "<matplotlib.collections.PathCollection at 0x220e5e2b490>"
      ]
     },
     "execution_count": 170,
     "metadata": {},
     "output_type": "execute_result"
    },
    {
     "data": {
      "image/png": "[encoded data removed]",
      "text/plain": [
       "<Figure size 640x480 with 1 Axes>"
      ]
     },
     "metadata": {},
     "output_type": "display_data"
    }
   ],
   "source": [
    "plt.scatter(x,y)"
   ]
  },
  {
   "cell_type": "code",
   "execution_count": 171,
   "id": "14b8015d-0317-454e-b368-4896644f9a08",
   "metadata": {},
   "outputs": [],
   "source": [
    "%config InlineBackend.figure_format ='retina'"
   ]
  },
  {
   "cell_type": "code",
   "execution_count": 172,
   "id": "2276c96b-7b98-4de0-b076-48268136ff20",
   "metadata": {},
   "outputs": [
    {
     "data": {
      "text/plain": [
       "<matplotlib.collections.PathCollection at 0x220e5eed350>"
      ]
     },
     "execution_count": 172,
     "metadata": {},
     "output_type": "execute_result"
    },
    {
     "data": {
      "image/png": "[encoded data removed]",
      "text/plain": [
       "<Figure size 640x480 with 1 Axes>"
      ]
     },
     "metadata": {
      "image/png": {
       "height": 413,
       "width": 568
      }
     },
     "output_type": "display_data"
    }
   ],
   "source": [
    "plt.scatter(x,y)"
   ]
  },
  {
   "cell_type": "code",
   "execution_count": 173,
   "id": "e81f3938-091f-4521-973a-aa7df2e5f56c",
   "metadata": {},
   "outputs": [],
   "source": [
    "a, b ,c=(1,0,-4)\n",
    "x = np.linspace(-10,10,50)\n",
    "y = a*x**2 + b*x + c"
   ]
  },
  {
   "cell_type": "code",
   "execution_count": 174,
   "id": "851d4e8b-df65-4934-9d02-223570e24cd2",
   "metadata": {},
   "outputs": [
    {
     "data": {
      "text/plain": [
       "[<matplotlib.lines.Line2D at 0x220e500e750>]"
      ]
     },
     "execution_count": 174,
     "metadata": {},
     "output_type": "execute_result"
    },
    {
     "data": {
      "image/png": "[encoded data removed]",
      "text/plain": [
       "<Figure size 640x480 with 1 Axes>"
      ]
     },
     "metadata": {
      "image/png": {
       "height": 415,
       "width": 552
      }
     },
     "output_type": "display_data"
    }
   ],
   "source": [
    "plt.plot(x,y)"
   ]
  }
 ],
 "metadata": {
  "kernelspec": {
   "display_name": "Python 3 (ipykernel)",
   "language": "python",
   "name": "python3"
  },
  "language_info": {
   "codemirror_mode": {
    "name": "ipython",
    "version": 3
   },
   "file_extension": ".py",
   "mimetype": "text/x-python",
   "name": "python",
   "nbconvert_exporter": "python",
   "pygments_lexer": "ipython3",
   "version": "3.11.7"
  }
 },
 "nbformat": 4,
 "nbformat_minor": 5
}
