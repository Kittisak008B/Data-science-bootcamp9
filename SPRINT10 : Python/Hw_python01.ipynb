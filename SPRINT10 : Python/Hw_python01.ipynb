{
 "cells": [
  {
   "cell_type": "code",
   "execution_count": 1,
   "id": "f65f9e88-3a88-4977-b2e6-4fa89a5871dc",
   "metadata": {},
   "outputs": [
    {
     "name": "stdout",
     "output_type": "stream",
     "text": [
      "Name: Ken G       , score:   83.75 , You get promoted !\n",
      "Citadel\n",
      "Hello I'am Ken G works at Citadel.\n",
      "You get promoted !\n",
      "83.75\n",
      "You get promoted !\n",
      "Test1,test2\n",
      "TestX,test3\n",
      "\n",
      "Hello I'am Sam Bankman works at FTX.\n",
      "Name: Sam Bankman , score:     5.0 , Knock Knock. You're Fired !\n",
      "Hello I'am Do Kwon works at Terraform Labs.\n",
      "Name: Do Kwon     , score:     4.0 , Knock Knock. You're Fired !\n",
      "Hello I'am Larry F works at BlackRock.\n",
      "Name: Larry F     , score:    70.0 , Passive\n",
      "Hello I'am John C. B works at Vanguard.\n",
      "Name: John C. B   , score:   91.25 , You get promoted !\n"
     ]
    }
   ],
   "source": [
    "## OOP \n",
    "class dataAnalyst():\n",
    "    def __init__(self, name, company, q1, q2, q3, q4):\n",
    "        self.name = name \n",
    "        self.company = company\n",
    "        self.q1 = q1\n",
    "        self.q2 = q2\n",
    "        self.q3 = q3\n",
    "        self.q4 = q4\n",
    "        \n",
    "    def hello(self) :\n",
    "        print(f\"Hello I'am {self.name} works at {self.company}.\")\n",
    "        \n",
    "    def employee_engagement_score(self):\n",
    "        return (self.q1 + self.q2 + self.q3 + self.q4)/4\n",
    "\n",
    "    def category(self):\n",
    "        diag = \"\"\n",
    "        if self.employee_engagement_score() < 10:\n",
    "            diag = \"Knock Knock. You're Fired !\"\n",
    "        elif 10 <= self.employee_engagement_score() < 80 :\n",
    "            diag = \"Passive\"\n",
    "        elif  self.employee_engagement_score() >= 80 :\n",
    "            diag = \"You get promoted !\"\n",
    "        return diag\n",
    "        \n",
    "    def __str__(self):\n",
    "        return \"Name: {:12}, score:{:8} , {}\".format(self.name,self.employee_engagement_score() ,self.category())\n",
    "\n",
    "    def dummyTest(self,a,b):\n",
    "        return f\"Test{a},test{b}\"\n",
    "        \n",
    "A = dataAnalyst(\"Ken G\",\"Citadel\",90,95,95,55)\n",
    "print(A)\n",
    "print(A.company)\n",
    "A.hello()\n",
    "print(A.category())\n",
    "print(dataAnalyst.employee_engagement_score(A))\n",
    "print(dataAnalyst.category(A))\n",
    "print(A.dummyTest(1,2))\n",
    "print(dataAnalyst.dummyTest(A,'X',3))\n",
    "print('')\n",
    "\n",
    "people = [\n",
    "         dataAnalyst(\"Sam Bankman\",\"FTX\",5,5,5,5),\n",
    "         dataAnalyst(\"Do Kwon\", \"Terraform Labs\",2,3,5,6),\n",
    "         dataAnalyst(\"Larry F\",\"BlackRock\",60,70,80,70),\n",
    "         dataAnalyst(\"John C. B\",\"Vanguard\",90,90,90,95)\n",
    "        ]\n",
    "for i in people:\n",
    "     i.hello()\n",
    "     print(i)"
   ]
  },
  {
   "cell_type": "code",
   "execution_count": 2,
   "id": "85acb524-7559-469a-8958-4b26e1a1e76c",
   "metadata": {},
   "outputs": [
    {
     "name": "stdout",
     "output_type": "stream",
     "text": [
      "This is a Rock Paper Scissors game!\n",
      "          Rock Paper Scissors\n",
      "Rock       Tie  Loss      Win\n",
      "Paper      Win   Tie     Loss\n",
      "Scissors  Loss   Win      Tie\n",
      "Select your moves \n",
      "      1) Rock \n",
      "      2) Paper \n",
      "      3) Scissors \n",
      "      4) Exit \n"
     ]
    },
    {
     "name": "stdin",
     "output_type": "stream",
     "text": [
      "You select:  3\n"
     ]
    },
    {
     "name": "stdout",
     "output_type": "stream",
     "text": [
      "Bot select:2\n",
      "You select: Scissors , Bot select: Paper\n",
      "Result you : Win\n",
      "\n"
     ]
    },
    {
     "name": "stdin",
     "output_type": "stream",
     "text": [
      "You select:  3\n"
     ]
    },
    {
     "name": "stdout",
     "output_type": "stream",
     "text": [
      "Bot select:3\n",
      "You select: Scissors , Bot select: Scissors\n",
      "Result you : Tie\n",
      "\n"
     ]
    },
    {
     "name": "stdin",
     "output_type": "stream",
     "text": [
      "You select:  2\n"
     ]
    },
    {
     "name": "stdout",
     "output_type": "stream",
     "text": [
      "Bot select:1\n",
      "You select: Paper , Bot select: Rock\n",
      "Result you : Win\n",
      "\n"
     ]
    },
    {
     "name": "stdin",
     "output_type": "stream",
     "text": [
      "You select:  1\n"
     ]
    },
    {
     "name": "stdout",
     "output_type": "stream",
     "text": [
      "Bot select:3\n",
      "You select: Rock , Bot select: Scissors\n",
      "Result you : Win\n",
      "\n"
     ]
    },
    {
     "name": "stdin",
     "output_type": "stream",
     "text": [
      "You select:  2\n"
     ]
    },
    {
     "name": "stdout",
     "output_type": "stream",
     "text": [
      "Bot select:1\n",
      "You select: Paper , Bot select: Rock\n",
      "Result you : Win\n",
      "\n"
     ]
    },
    {
     "name": "stdin",
     "output_type": "stream",
     "text": [
      "You select:  1\n"
     ]
    },
    {
     "name": "stdout",
     "output_type": "stream",
     "text": [
      "Bot select:3\n",
      "You select: Rock , Bot select: Scissors\n",
      "Result you : Win\n",
      "\n"
     ]
    },
    {
     "name": "stdin",
     "output_type": "stream",
     "text": [
      "You select:  3\n"
     ]
    },
    {
     "name": "stdout",
     "output_type": "stream",
     "text": [
      "Bot select:1\n",
      "You select: Scissors , Bot select: Rock\n",
      "Result you : Loss\n",
      "\n"
     ]
    },
    {
     "name": "stdin",
     "output_type": "stream",
     "text": [
      "You select:  4\n"
     ]
    },
    {
     "name": "stdout",
     "output_type": "stream",
     "text": [
      "Game Stop!\n"
     ]
    }
   ],
   "source": [
    "## RPSgame\n",
    "import pandas as pd\n",
    "import random\n",
    "\n",
    "def game():\n",
    "      print(\"This is a Rock Paper Scissors game!\")\n",
    "      data = {\n",
    "          \"Rock\" : [\"Tie\",\"Win\",\"Loss\"],\n",
    "          \"Paper\" : [\"Loss\",\"Tie\",\"Win\"],\n",
    "          \"Scissors\" : [\"Win\",\"Loss\",\"Tie\"]\n",
    "          }\n",
    "      rule_df = pd.DataFrame(data, index = [\"Rock\", \"Paper\", \"Scissors\"])\n",
    "      print(rule_df)\n",
    "      a = '''Select your moves \n",
    "      1) Rock \n",
    "      2) Paper \n",
    "      3) Scissors \n",
    "      4) Exit '''\n",
    "      print(a)\n",
    "      def main():\n",
    "          while True :\n",
    "            user_input =check_input(input(\"You select: \"))\n",
    "            if user_input==4 :\n",
    "                print(\"Game Stop!\")\n",
    "                break\n",
    "            else :\n",
    "                bot_action = random.randrange(1, 4, 1)\n",
    "                print(f\"Bot select:{bot_action}\")\n",
    "                show_result(user_input,bot_action)\n",
    "                \n",
    "      def show_result(user_input,bot_action):\n",
    "          result = rule_df.iloc[user_input-1,bot_action-1]\n",
    "          print(f\"You select: {rule_df.index[user_input-1]} , Bot select: {rule_df.index[bot_action-1]}\")\n",
    "          print(f\"Result you : {result}\\n\")\n",
    "          \n",
    "      def check_input(user_input):\n",
    "          if user_input in [1,2,3,4,'1','2','3','4']:\n",
    "              return int(user_input)\n",
    "          else :\n",
    "              print(\"Wrong Input! please select number 1 2 3 4 \\n\")\n",
    "              \n",
    "              main()\n",
    "      main()\n",
    "game()\n"
   ]
  },
  {
   "cell_type": "code",
   "execution_count": 3,
   "id": "5a143e07-bbd9-4612-923c-cec7023ff46a",
   "metadata": {},
   "outputs": [
    {
     "name": "stdout",
     "output_type": "stream",
     "text": [
      "2\n"
     ]
    }
   ],
   "source": [
    "print(random.randrange(1, 4, 1))\n"
   ]
  },
  {
   "cell_type": "code",
   "execution_count": 4,
   "id": "207696a5-f63e-485f-9c0b-42d242217bba",
   "metadata": {},
   "outputs": [
    {
     "name": "stdout",
     "output_type": "stream",
     "text": [
      "         Rock Paper Scissors\n",
      "Rock        T     L        W\n",
      "Paper       W     T        L\n",
      "Scissors    L     W        T\n"
     ]
    }
   ],
   "source": [
    "      data = {\n",
    "          \"Rock\" : [\"T\",\"W\",\"L\"],\n",
    "          \"Paper\" : [\"L\",\"T\",\"W\"],\n",
    "          \"Scissors\" : [\"W\",\"L\",\"T\"]\n",
    "          }\n",
    "      rule_df = pd.DataFrame(data, index = [\"Rock\", \"Paper\", \"Scissors\"])\n",
    "print(rule_df)\n"
   ]
  },
  {
   "cell_type": "code",
   "execution_count": 5,
   "id": "3d66c80c-4c10-49fa-b6e9-9945a721bde4",
   "metadata": {},
   "outputs": [
    {
     "data": {
      "text/plain": [
       "'L'"
      ]
     },
     "execution_count": 5,
     "metadata": {},
     "output_type": "execute_result"
    }
   ],
   "source": [
    "rule_df.iloc[2,0]"
   ]
  },
  {
   "cell_type": "code",
   "execution_count": 6,
   "id": "c69d8ffd-6054-4b67-86f2-3568069393a0",
   "metadata": {},
   "outputs": [
    {
     "data": {
      "text/plain": [
       "'Rock'"
      ]
     },
     "execution_count": 6,
     "metadata": {},
     "output_type": "execute_result"
    }
   ],
   "source": [
    "rule_df.index[0]"
   ]
  }
 ],
 "metadata": {
  "kernelspec": {
   "display_name": "Python 3 (ipykernel)",
   "language": "python",
   "name": "python3"
  },
  "language_info": {
   "codemirror_mode": {
    "name": "ipython",
    "version": 3
   },
   "file_extension": ".py",
   "mimetype": "text/x-python",
   "name": "python",
   "nbconvert_exporter": "python",
   "pygments_lexer": "ipython3",
   "version": "3.11.7"
  }
 },
 "nbformat": 4,
 "nbformat_minor": 5
}
