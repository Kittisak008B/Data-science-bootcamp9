{
 "cells": [
  {
   "cell_type": "code",
   "execution_count": 1,
   "id": "30e12d8e-78c2-411a-bc51-0a12e756c5ad",
   "metadata": {},
   "outputs": [],
   "source": [
    "import bs4 \n",
    "from bs4 import BeautifulSoup\n",
    "import requests"
   ]
  },
  {
   "cell_type": "code",
   "execution_count": 2,
   "id": "fc4ac063-2e0b-4157-885f-00b89af9a95b",
   "metadata": {},
   "outputs": [],
   "source": [
    "url = 'https://finance.yahoo.com/quote/BTC-USD'"
   ]
  },
  {
   "cell_type": "code",
   "execution_count": 3,
   "id": "5f145ce3-590d-4ecd-894c-91279754f328",
   "metadata": {},
   "outputs": [],
   "source": [
    "response = requests.get(url)"
   ]
  },
  {
   "cell_type": "code",
   "execution_count": 4,
   "id": "2abda14d-e4b6-4985-8f29-f55aa7132de5",
   "metadata": {},
   "outputs": [
    {
     "data": {
      "text/plain": [
       "200"
      ]
     },
     "execution_count": 4,
     "metadata": {},
     "output_type": "execute_result"
    }
   ],
   "source": [
    "response.status_code"
   ]
  },
  {
   "cell_type": "code",
   "execution_count": 5,
   "id": "1263e3be-3b08-48dc-a608-d34ec814d91a",
   "metadata": {},
   "outputs": [],
   "source": [
    "soup = bs4.BeautifulSoup(response.text , 'lxml')"
   ]
  },
  {
   "cell_type": "code",
   "execution_count": 6,
   "id": "ce4997bd-2658-4ca3-bda7-89bdd6d564dd",
   "metadata": {},
   "outputs": [],
   "source": [
    "price = soup.find('div',{'class':'D(ib) Va(m) Maw(65%) Ov(h)'}).find('fin-streamer',{'class':'Fw(b) Fz(36px) Mb(-4px) D(ib)'}).text"
   ]
  },
  {
   "cell_type": "code",
   "execution_count": 7,
   "id": "669eff07-50f9-4ca3-bfa6-f476d1384dbd",
   "metadata": {},
   "outputs": [
    {
     "data": {
      "text/plain": [
       "'72,215.20'"
      ]
     },
     "execution_count": 7,
     "metadata": {},
     "output_type": "execute_result"
    }
   ],
   "source": [
    "price"
   ]
  },
  {
   "cell_type": "code",
   "execution_count": 8,
   "id": "d863b2cf-a6af-4557-ada0-bb36517dfa13",
   "metadata": {},
   "outputs": [
    {
     "data": {
      "text/plain": [
       "'71,471.52'"
      ]
     },
     "execution_count": 8,
     "metadata": {},
     "output_type": "execute_result"
    }
   ],
   "source": [
    "soup.find('td',{'class':'Ta(end) Fw(600) Lh(14px)'}).text"
   ]
  },
  {
   "cell_type": "code",
   "execution_count": null,
   "id": "02a8176b-3b26-4d7f-95ee-e637434afa33",
   "metadata": {},
   "outputs": [],
   "source": []
  }
 ],
 "metadata": {
  "kernelspec": {
   "display_name": "Python 3 (ipykernel)",
   "language": "python",
   "name": "python3"
  },
  "language_info": {
   "codemirror_mode": {
    "name": "ipython",
    "version": 3
   },
   "file_extension": ".py",
   "mimetype": "text/x-python",
   "name": "python",
   "nbconvert_exporter": "python",
   "pygments_lexer": "ipython3",
   "version": "3.11.7"
  }
 },
 "nbformat": 4,
 "nbformat_minor": 5
}
