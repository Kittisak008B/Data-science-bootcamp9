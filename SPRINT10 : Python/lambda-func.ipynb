{
 "cells": [
  {
   "cell_type": "code",
   "execution_count": 1,
   "id": "e5c692f5-84c6-45d4-a7f8-8e690b6bf154",
   "metadata": {},
   "outputs": [
    {
     "data": {
      "text/plain": [
       "<function __main__.<lambda>(c)>"
      ]
     },
     "execution_count": 1,
     "metadata": {},
     "output_type": "execute_result"
    }
   ],
   "source": [
    "lambda c: (c*(9/5))+32"
   ]
  },
  {
   "cell_type": "code",
   "execution_count": 2,
   "id": "a959334f-67b1-4169-9be7-8c55f25adc86",
   "metadata": {},
   "outputs": [
    {
     "data": {
      "text/plain": [
       "212.0"
      ]
     },
     "execution_count": 2,
     "metadata": {},
     "output_type": "execute_result"
    }
   ],
   "source": [
    "c2f = lambda c: (c*(9/5))+32\n",
    "c2f(100)"
   ]
  },
  {
   "cell_type": "code",
   "execution_count": 3,
   "id": "9eaa0578-d5ac-4627-924c-64fad9f589a2",
   "metadata": {},
   "outputs": [
    {
     "data": {
      "text/plain": [
       "[32.0, 50.0, 68.0, 86.0, 212.0]"
      ]
     },
     "execution_count": 3,
     "metadata": {},
     "output_type": "execute_result"
    }
   ],
   "source": [
    "t = [0,10,20,30,100]\n",
    "f = map(lambda c: (c*(9/5))+32 , t)\n",
    "list(f)"
   ]
  },
  {
   "cell_type": "code",
   "execution_count": 4,
   "id": "33f4fbb7-4f0d-4e9c-bc3e-dd1e9c3d393f",
   "metadata": {},
   "outputs": [
    {
     "data": {
      "text/plain": [
       "'2.1.4'"
      ]
     },
     "execution_count": 4,
     "metadata": {},
     "output_type": "execute_result"
    }
   ],
   "source": [
    "import pandas as pd\n",
    "pd.__version__"
   ]
  },
  {
   "cell_type": "code",
   "execution_count": 5,
   "id": "9cacb9cb-f1db-4687-b65a-a1365bf2dd93",
   "metadata": {},
   "outputs": [
    {
     "data": {
      "text/html": [
       "<div>\n",
       "<style scoped>\n",
       "    .dataframe tbody tr th:only-of-type {\n",
       "        vertical-align: middle;\n",
       "    }\n",
       "\n",
       "    .dataframe tbody tr th {\n",
       "        vertical-align: top;\n",
       "    }\n",
       "\n",
       "    .dataframe thead th {\n",
       "        text-align: right;\n",
       "    }\n",
       "</style>\n",
       "<table border=\"1\" class=\"dataframe\">\n",
       "  <thead>\n",
       "    <tr style=\"text-align: right;\">\n",
       "      <th></th>\n",
       "      <th>celsius</th>\n",
       "    </tr>\n",
       "  </thead>\n",
       "  <tbody>\n",
       "    <tr>\n",
       "      <th>0</th>\n",
       "      <td>0</td>\n",
       "    </tr>\n",
       "    <tr>\n",
       "      <th>1</th>\n",
       "      <td>10</td>\n",
       "    </tr>\n",
       "    <tr>\n",
       "      <th>2</th>\n",
       "      <td>20</td>\n",
       "    </tr>\n",
       "    <tr>\n",
       "      <th>3</th>\n",
       "      <td>30</td>\n",
       "    </tr>\n",
       "    <tr>\n",
       "      <th>4</th>\n",
       "      <td>100</td>\n",
       "    </tr>\n",
       "  </tbody>\n",
       "</table>\n",
       "</div>"
      ],
      "text/plain": [
       "   celsius\n",
       "0        0\n",
       "1       10\n",
       "2       20\n",
       "3       30\n",
       "4      100"
      ]
     },
     "execution_count": 5,
     "metadata": {},
     "output_type": "execute_result"
    }
   ],
   "source": [
    "df=pd.DataFrame({'celsius' : t})\n",
    "df"
   ]
  },
  {
   "cell_type": "code",
   "execution_count": 6,
   "id": "c61625eb-73ca-4d06-9d6e-3781b0bec152",
   "metadata": {},
   "outputs": [
    {
     "data": {
      "text/plain": [
       "0     32.0\n",
       "1     50.0\n",
       "2     68.0\n",
       "3     86.0\n",
       "4    212.0\n",
       "Name: celsius, dtype: float64"
      ]
     },
     "execution_count": 6,
     "metadata": {},
     "output_type": "execute_result"
    }
   ],
   "source": [
    "df.celsius * 9/5 +32"
   ]
  },
  {
   "cell_type": "code",
   "execution_count": 7,
   "id": "54955629-19ce-416f-9f71-98ca54de3bb3",
   "metadata": {},
   "outputs": [
    {
     "data": {
      "text/plain": [
       "0     32.0\n",
       "1     50.0\n",
       "2     68.0\n",
       "3     86.0\n",
       "4    212.0\n",
       "Name: celsius, dtype: float64"
      ]
     },
     "execution_count": 7,
     "metadata": {},
     "output_type": "execute_result"
    }
   ],
   "source": [
    "df.celsius.map(lambda c: c* 9/5 +32)"
   ]
  },
  {
   "cell_type": "code",
   "execution_count": 8,
   "id": "ca5e7d44-e0c6-4558-b01b-430db940c5f4",
   "metadata": {},
   "outputs": [
    {
     "name": "stdout",
     "output_type": "stream",
     "text": [
      "93.5 µs ± 6.88 µs per loop (mean ± std. dev. of 7 runs, 1,000 loops each)\n"
     ]
    }
   ],
   "source": [
    "%timeit -n1000 df.celsius * 9/5 +32"
   ]
  },
  {
   "cell_type": "code",
   "execution_count": 9,
   "id": "8cabca89-34d9-4304-a87c-fc9c88df73be",
   "metadata": {},
   "outputs": [
    {
     "name": "stdout",
     "output_type": "stream",
     "text": [
      "23.9 µs ± 1.35 µs per loop (mean ± std. dev. of 7 runs, 1,000 loops each)\n"
     ]
    }
   ],
   "source": [
    "%timeit -n1000 df.celsius.map(lambda c: c* 9/5 +32)"
   ]
  },
  {
   "cell_type": "code",
   "execution_count": 10,
   "id": "05e408c8-befb-4477-ba0b-c4df256f10b4",
   "metadata": {},
   "outputs": [
    {
     "data": {
      "text/plain": [
       "0     32.0\n",
       "1     50.0\n",
       "2     68.0\n",
       "3     86.0\n",
       "4    212.0\n",
       "Name: celsius, dtype: float64"
      ]
     },
     "execution_count": 10,
     "metadata": {},
     "output_type": "execute_result"
    }
   ],
   "source": [
    "df.celsius.apply(lambda c: c* 9/5 +32)"
   ]
  },
  {
   "cell_type": "code",
   "execution_count": 11,
   "id": "62df724e-e8ba-4ee7-9d6e-7fd547bf8217",
   "metadata": {},
   "outputs": [
    {
     "name": "stdout",
     "output_type": "stream",
     "text": [
      "29.5 µs ± 2.93 µs per loop (mean ± std. dev. of 7 runs, 1,000 loops each)\n"
     ]
    }
   ],
   "source": [
    "%timeit -n1000 df.celsius.apply(lambda c: c* 9/5 +32)"
   ]
  },
  {
   "cell_type": "code",
   "execution_count": 12,
   "id": "597567bc-e417-4af7-b09c-70cdba377eba",
   "metadata": {},
   "outputs": [
    {
     "data": {
      "text/html": [
       "<div>\n",
       "<style scoped>\n",
       "    .dataframe tbody tr th:only-of-type {\n",
       "        vertical-align: middle;\n",
       "    }\n",
       "\n",
       "    .dataframe tbody tr th {\n",
       "        vertical-align: top;\n",
       "    }\n",
       "\n",
       "    .dataframe thead th {\n",
       "        text-align: right;\n",
       "    }\n",
       "</style>\n",
       "<table border=\"1\" class=\"dataframe\">\n",
       "  <thead>\n",
       "    <tr style=\"text-align: right;\">\n",
       "      <th></th>\n",
       "      <th>celsius</th>\n",
       "      <th>fah</th>\n",
       "    </tr>\n",
       "  </thead>\n",
       "  <tbody>\n",
       "    <tr>\n",
       "      <th>0</th>\n",
       "      <td>0</td>\n",
       "      <td>32.0</td>\n",
       "    </tr>\n",
       "    <tr>\n",
       "      <th>1</th>\n",
       "      <td>10</td>\n",
       "      <td>50.0</td>\n",
       "    </tr>\n",
       "    <tr>\n",
       "      <th>2</th>\n",
       "      <td>20</td>\n",
       "      <td>68.0</td>\n",
       "    </tr>\n",
       "    <tr>\n",
       "      <th>3</th>\n",
       "      <td>30</td>\n",
       "      <td>86.0</td>\n",
       "    </tr>\n",
       "    <tr>\n",
       "      <th>4</th>\n",
       "      <td>100</td>\n",
       "      <td>212.0</td>\n",
       "    </tr>\n",
       "  </tbody>\n",
       "</table>\n",
       "</div>"
      ],
      "text/plain": [
       "   celsius    fah\n",
       "0        0   32.0\n",
       "1       10   50.0\n",
       "2       20   68.0\n",
       "3       30   86.0\n",
       "4      100  212.0"
      ]
     },
     "execution_count": 12,
     "metadata": {},
     "output_type": "execute_result"
    }
   ],
   "source": [
    "df['fah'] = df.celsius.map(lambda c: c* 9/5 +32)\n",
    "df"
   ]
  },
  {
   "cell_type": "code",
   "execution_count": 13,
   "id": "b71ee6ee-970f-49e5-9562-632da89e7377",
   "metadata": {},
   "outputs": [
    {
     "data": {
      "text/plain": [
       "[['A432', 91, 97, 83],\n",
       " ['C747', 94, 94, 58],\n",
       " ['C751', 74, 55, 89],\n",
       " ['B716', 63, 89, 93],\n",
       " ['A623', 90, 73, 81],\n",
       " ['B394', 76, 91, 90],\n",
       " ['A294', 90, 86, 94],\n",
       " ['B318', 62, 57, 55],\n",
       " ['B164', 79, 57, 89],\n",
       " ['A126', 89, 82, 85]]"
      ]
     },
     "execution_count": 13,
     "metadata": {},
     "output_type": "execute_result"
    }
   ],
   "source": [
    "a = [['A432',\t91,\t97,\t83],\n",
    "['C747',\t94,\t94,\t58],\n",
    "['C751',\t74,\t55,\t89],\n",
    "['B716',\t63,\t89,\t93],\n",
    "['A623',\t90,\t73,\t81],\n",
    "['B394',\t76,\t91,\t90],\n",
    "['A294',\t90,\t86,\t94],\n",
    "['B318',\t62,\t57,\t55],\n",
    "['B164',\t79,\t57,\t89],\n",
    "['A126',\t89,\t82,\t85]]\n",
    "a"
   ]
  },
  {
   "cell_type": "code",
   "execution_count": 14,
   "id": "c44cf138-a01b-4dda-8a87-75265f2c7105",
   "metadata": {},
   "outputs": [
    {
     "data": {
      "text/html": [
       "<div>\n",
       "<style scoped>\n",
       "    .dataframe tbody tr th:only-of-type {\n",
       "        vertical-align: middle;\n",
       "    }\n",
       "\n",
       "    .dataframe tbody tr th {\n",
       "        vertical-align: top;\n",
       "    }\n",
       "\n",
       "    .dataframe thead th {\n",
       "        text-align: right;\n",
       "    }\n",
       "</style>\n",
       "<table border=\"1\" class=\"dataframe\">\n",
       "  <thead>\n",
       "    <tr style=\"text-align: right;\">\n",
       "      <th></th>\n",
       "      <th>0</th>\n",
       "      <th>1</th>\n",
       "      <th>2</th>\n",
       "      <th>3</th>\n",
       "    </tr>\n",
       "  </thead>\n",
       "  <tbody>\n",
       "    <tr>\n",
       "      <th>0</th>\n",
       "      <td>A432</td>\n",
       "      <td>91</td>\n",
       "      <td>97</td>\n",
       "      <td>83</td>\n",
       "    </tr>\n",
       "    <tr>\n",
       "      <th>1</th>\n",
       "      <td>C747</td>\n",
       "      <td>94</td>\n",
       "      <td>94</td>\n",
       "      <td>58</td>\n",
       "    </tr>\n",
       "    <tr>\n",
       "      <th>2</th>\n",
       "      <td>C751</td>\n",
       "      <td>74</td>\n",
       "      <td>55</td>\n",
       "      <td>89</td>\n",
       "    </tr>\n",
       "    <tr>\n",
       "      <th>3</th>\n",
       "      <td>B716</td>\n",
       "      <td>63</td>\n",
       "      <td>89</td>\n",
       "      <td>93</td>\n",
       "    </tr>\n",
       "    <tr>\n",
       "      <th>4</th>\n",
       "      <td>A623</td>\n",
       "      <td>90</td>\n",
       "      <td>73</td>\n",
       "      <td>81</td>\n",
       "    </tr>\n",
       "    <tr>\n",
       "      <th>5</th>\n",
       "      <td>B394</td>\n",
       "      <td>76</td>\n",
       "      <td>91</td>\n",
       "      <td>90</td>\n",
       "    </tr>\n",
       "    <tr>\n",
       "      <th>6</th>\n",
       "      <td>A294</td>\n",
       "      <td>90</td>\n",
       "      <td>86</td>\n",
       "      <td>94</td>\n",
       "    </tr>\n",
       "    <tr>\n",
       "      <th>7</th>\n",
       "      <td>B318</td>\n",
       "      <td>62</td>\n",
       "      <td>57</td>\n",
       "      <td>55</td>\n",
       "    </tr>\n",
       "    <tr>\n",
       "      <th>8</th>\n",
       "      <td>B164</td>\n",
       "      <td>79</td>\n",
       "      <td>57</td>\n",
       "      <td>89</td>\n",
       "    </tr>\n",
       "    <tr>\n",
       "      <th>9</th>\n",
       "      <td>A126</td>\n",
       "      <td>89</td>\n",
       "      <td>82</td>\n",
       "      <td>85</td>\n",
       "    </tr>\n",
       "  </tbody>\n",
       "</table>\n",
       "</div>"
      ],
      "text/plain": [
       "      0   1   2   3\n",
       "0  A432  91  97  83\n",
       "1  C747  94  94  58\n",
       "2  C751  74  55  89\n",
       "3  B716  63  89  93\n",
       "4  A623  90  73  81\n",
       "5  B394  76  91  90\n",
       "6  A294  90  86  94\n",
       "7  B318  62  57  55\n",
       "8  B164  79  57  89\n",
       "9  A126  89  82  85"
      ]
     },
     "execution_count": 14,
     "metadata": {},
     "output_type": "execute_result"
    }
   ],
   "source": [
    "df1= pd.DataFrame(a)\n",
    "df1"
   ]
  },
  {
   "cell_type": "code",
   "execution_count": 15,
   "id": "ec028ffd-cd3b-4412-abb0-13c1efcf687a",
   "metadata": {},
   "outputs": [
    {
     "data": {
      "text/html": [
       "<div>\n",
       "<style scoped>\n",
       "    .dataframe tbody tr th:only-of-type {\n",
       "        vertical-align: middle;\n",
       "    }\n",
       "\n",
       "    .dataframe tbody tr th {\n",
       "        vertical-align: top;\n",
       "    }\n",
       "\n",
       "    .dataframe thead th {\n",
       "        text-align: right;\n",
       "    }\n",
       "</style>\n",
       "<table border=\"1\" class=\"dataframe\">\n",
       "  <thead>\n",
       "    <tr style=\"text-align: right;\">\n",
       "      <th></th>\n",
       "      <th>applicantID</th>\n",
       "      <th>eng</th>\n",
       "      <th>math</th>\n",
       "      <th>interview</th>\n",
       "    </tr>\n",
       "  </thead>\n",
       "  <tbody>\n",
       "    <tr>\n",
       "      <th>0</th>\n",
       "      <td>A432</td>\n",
       "      <td>91</td>\n",
       "      <td>97</td>\n",
       "      <td>83</td>\n",
       "    </tr>\n",
       "    <tr>\n",
       "      <th>1</th>\n",
       "      <td>C747</td>\n",
       "      <td>94</td>\n",
       "      <td>94</td>\n",
       "      <td>58</td>\n",
       "    </tr>\n",
       "    <tr>\n",
       "      <th>2</th>\n",
       "      <td>C751</td>\n",
       "      <td>74</td>\n",
       "      <td>55</td>\n",
       "      <td>89</td>\n",
       "    </tr>\n",
       "    <tr>\n",
       "      <th>3</th>\n",
       "      <td>B716</td>\n",
       "      <td>63</td>\n",
       "      <td>89</td>\n",
       "      <td>93</td>\n",
       "    </tr>\n",
       "    <tr>\n",
       "      <th>4</th>\n",
       "      <td>A623</td>\n",
       "      <td>90</td>\n",
       "      <td>73</td>\n",
       "      <td>81</td>\n",
       "    </tr>\n",
       "    <tr>\n",
       "      <th>5</th>\n",
       "      <td>B394</td>\n",
       "      <td>76</td>\n",
       "      <td>91</td>\n",
       "      <td>90</td>\n",
       "    </tr>\n",
       "    <tr>\n",
       "      <th>6</th>\n",
       "      <td>A294</td>\n",
       "      <td>90</td>\n",
       "      <td>86</td>\n",
       "      <td>94</td>\n",
       "    </tr>\n",
       "    <tr>\n",
       "      <th>7</th>\n",
       "      <td>B318</td>\n",
       "      <td>62</td>\n",
       "      <td>57</td>\n",
       "      <td>55</td>\n",
       "    </tr>\n",
       "    <tr>\n",
       "      <th>8</th>\n",
       "      <td>B164</td>\n",
       "      <td>79</td>\n",
       "      <td>57</td>\n",
       "      <td>89</td>\n",
       "    </tr>\n",
       "    <tr>\n",
       "      <th>9</th>\n",
       "      <td>A126</td>\n",
       "      <td>89</td>\n",
       "      <td>82</td>\n",
       "      <td>85</td>\n",
       "    </tr>\n",
       "  </tbody>\n",
       "</table>\n",
       "</div>"
      ],
      "text/plain": [
       "  applicantID  eng  math  interview\n",
       "0        A432   91    97         83\n",
       "1        C747   94    94         58\n",
       "2        C751   74    55         89\n",
       "3        B716   63    89         93\n",
       "4        A623   90    73         81\n",
       "5        B394   76    91         90\n",
       "6        A294   90    86         94\n",
       "7        B318   62    57         55\n",
       "8        B164   79    57         89\n",
       "9        A126   89    82         85"
      ]
     },
     "execution_count": 15,
     "metadata": {},
     "output_type": "execute_result"
    }
   ],
   "source": [
    "b = ['applicantID','eng','math','interview']\n",
    "df1.columns = b\n",
    "df1"
   ]
  },
  {
   "cell_type": "code",
   "execution_count": 16,
   "id": "adbca39e-f811-4838-9642-b3a4c17ea0c7",
   "metadata": {},
   "outputs": [
    {
     "data": {
      "text/plain": [
       "0    pass\n",
       "1    pass\n",
       "2    fail\n",
       "3    fail\n",
       "4    pass\n",
       "5    fail\n",
       "6    pass\n",
       "7    fail\n",
       "8    fail\n",
       "9    pass\n",
       "Name: eng, dtype: object"
      ]
     },
     "execution_count": 16,
     "metadata": {},
     "output_type": "execute_result"
    }
   ],
   "source": [
    "# series : use map\n",
    "df1.eng.map(lambda s: 'pass' if s >= 80 else 'fail')"
   ]
  },
  {
   "cell_type": "code",
   "execution_count": 17,
   "id": "8b29ef50-cbd8-4c1c-975a-810511b58e16",
   "metadata": {},
   "outputs": [
    {
     "data": {
      "text/plain": [
       "0    pass\n",
       "1    pass\n",
       "2    fail\n",
       "3    fail\n",
       "4    fail\n",
       "5    fail\n",
       "6    pass\n",
       "7    fail\n",
       "8    fail\n",
       "9    pass\n",
       "dtype: object"
      ]
     },
     "execution_count": 17,
     "metadata": {},
     "output_type": "execute_result"
    }
   ],
   "source": [
    "# multiple series : use apply\n",
    "df1.apply(lambda s: 'pass' if s.eng >=80 and s.math >= 75 else 'fail',axis = 1)"
   ]
  },
  {
   "cell_type": "code",
   "execution_count": 18,
   "id": "c0364ae7-7351-4bc7-8c7c-0364a2d9b87a",
   "metadata": {},
   "outputs": [
    {
     "data": {
      "text/html": [
       "<div>\n",
       "<style scoped>\n",
       "    .dataframe tbody tr th:only-of-type {\n",
       "        vertical-align: middle;\n",
       "    }\n",
       "\n",
       "    .dataframe tbody tr th {\n",
       "        vertical-align: top;\n",
       "    }\n",
       "\n",
       "    .dataframe thead th {\n",
       "        text-align: right;\n",
       "    }\n",
       "</style>\n",
       "<table border=\"1\" class=\"dataframe\">\n",
       "  <thead>\n",
       "    <tr style=\"text-align: right;\">\n",
       "      <th></th>\n",
       "      <th>applicantID</th>\n",
       "      <th>eng</th>\n",
       "      <th>math</th>\n",
       "      <th>interview</th>\n",
       "      <th>eng_math</th>\n",
       "    </tr>\n",
       "  </thead>\n",
       "  <tbody>\n",
       "    <tr>\n",
       "      <th>0</th>\n",
       "      <td>A432</td>\n",
       "      <td>91</td>\n",
       "      <td>97</td>\n",
       "      <td>83</td>\n",
       "      <td>pass</td>\n",
       "    </tr>\n",
       "    <tr>\n",
       "      <th>1</th>\n",
       "      <td>C747</td>\n",
       "      <td>94</td>\n",
       "      <td>94</td>\n",
       "      <td>58</td>\n",
       "      <td>pass</td>\n",
       "    </tr>\n",
       "    <tr>\n",
       "      <th>2</th>\n",
       "      <td>C751</td>\n",
       "      <td>74</td>\n",
       "      <td>55</td>\n",
       "      <td>89</td>\n",
       "      <td>fail</td>\n",
       "    </tr>\n",
       "    <tr>\n",
       "      <th>3</th>\n",
       "      <td>B716</td>\n",
       "      <td>63</td>\n",
       "      <td>89</td>\n",
       "      <td>93</td>\n",
       "      <td>fail</td>\n",
       "    </tr>\n",
       "    <tr>\n",
       "      <th>4</th>\n",
       "      <td>A623</td>\n",
       "      <td>90</td>\n",
       "      <td>73</td>\n",
       "      <td>81</td>\n",
       "      <td>fail</td>\n",
       "    </tr>\n",
       "    <tr>\n",
       "      <th>5</th>\n",
       "      <td>B394</td>\n",
       "      <td>76</td>\n",
       "      <td>91</td>\n",
       "      <td>90</td>\n",
       "      <td>fail</td>\n",
       "    </tr>\n",
       "    <tr>\n",
       "      <th>6</th>\n",
       "      <td>A294</td>\n",
       "      <td>90</td>\n",
       "      <td>86</td>\n",
       "      <td>94</td>\n",
       "      <td>pass</td>\n",
       "    </tr>\n",
       "    <tr>\n",
       "      <th>7</th>\n",
       "      <td>B318</td>\n",
       "      <td>62</td>\n",
       "      <td>57</td>\n",
       "      <td>55</td>\n",
       "      <td>fail</td>\n",
       "    </tr>\n",
       "    <tr>\n",
       "      <th>8</th>\n",
       "      <td>B164</td>\n",
       "      <td>79</td>\n",
       "      <td>57</td>\n",
       "      <td>89</td>\n",
       "      <td>fail</td>\n",
       "    </tr>\n",
       "    <tr>\n",
       "      <th>9</th>\n",
       "      <td>A126</td>\n",
       "      <td>89</td>\n",
       "      <td>82</td>\n",
       "      <td>85</td>\n",
       "      <td>pass</td>\n",
       "    </tr>\n",
       "  </tbody>\n",
       "</table>\n",
       "</div>"
      ],
      "text/plain": [
       "  applicantID  eng  math  interview eng_math\n",
       "0        A432   91    97         83     pass\n",
       "1        C747   94    94         58     pass\n",
       "2        C751   74    55         89     fail\n",
       "3        B716   63    89         93     fail\n",
       "4        A623   90    73         81     fail\n",
       "5        B394   76    91         90     fail\n",
       "6        A294   90    86         94     pass\n",
       "7        B318   62    57         55     fail\n",
       "8        B164   79    57         89     fail\n",
       "9        A126   89    82         85     pass"
      ]
     },
     "execution_count": 18,
     "metadata": {},
     "output_type": "execute_result"
    }
   ],
   "source": [
    "df1['eng_math']=df1.apply(lambda s: 'pass' if s.eng >=80 and s.math >= 75 else 'fail',axis = 1)\n",
    "df1"
   ]
  },
  {
   "cell_type": "code",
   "execution_count": 19,
   "id": "b88ca8d8-18af-4210-8bcf-787bf577c38e",
   "metadata": {},
   "outputs": [
    {
     "data": {
      "text/html": [
       "<div>\n",
       "<style scoped>\n",
       "    .dataframe tbody tr th:only-of-type {\n",
       "        vertical-align: middle;\n",
       "    }\n",
       "\n",
       "    .dataframe tbody tr th {\n",
       "        vertical-align: top;\n",
       "    }\n",
       "\n",
       "    .dataframe thead th {\n",
       "        text-align: right;\n",
       "    }\n",
       "</style>\n",
       "<table border=\"1\" class=\"dataframe\">\n",
       "  <thead>\n",
       "    <tr style=\"text-align: right;\">\n",
       "      <th></th>\n",
       "      <th>applicantID</th>\n",
       "      <th>eng</th>\n",
       "      <th>math</th>\n",
       "      <th>interview</th>\n",
       "      <th>eng_math</th>\n",
       "      <th>qualify</th>\n",
       "    </tr>\n",
       "  </thead>\n",
       "  <tbody>\n",
       "    <tr>\n",
       "      <th>0</th>\n",
       "      <td>A432</td>\n",
       "      <td>91</td>\n",
       "      <td>97</td>\n",
       "      <td>83</td>\n",
       "      <td>pass</td>\n",
       "      <td>pass</td>\n",
       "    </tr>\n",
       "    <tr>\n",
       "      <th>1</th>\n",
       "      <td>C747</td>\n",
       "      <td>94</td>\n",
       "      <td>94</td>\n",
       "      <td>58</td>\n",
       "      <td>pass</td>\n",
       "      <td>fail</td>\n",
       "    </tr>\n",
       "    <tr>\n",
       "      <th>2</th>\n",
       "      <td>C751</td>\n",
       "      <td>74</td>\n",
       "      <td>55</td>\n",
       "      <td>89</td>\n",
       "      <td>fail</td>\n",
       "      <td>fail</td>\n",
       "    </tr>\n",
       "    <tr>\n",
       "      <th>3</th>\n",
       "      <td>B716</td>\n",
       "      <td>63</td>\n",
       "      <td>89</td>\n",
       "      <td>93</td>\n",
       "      <td>fail</td>\n",
       "      <td>fail</td>\n",
       "    </tr>\n",
       "    <tr>\n",
       "      <th>4</th>\n",
       "      <td>A623</td>\n",
       "      <td>90</td>\n",
       "      <td>73</td>\n",
       "      <td>81</td>\n",
       "      <td>fail</td>\n",
       "      <td>fail</td>\n",
       "    </tr>\n",
       "    <tr>\n",
       "      <th>5</th>\n",
       "      <td>B394</td>\n",
       "      <td>76</td>\n",
       "      <td>91</td>\n",
       "      <td>90</td>\n",
       "      <td>fail</td>\n",
       "      <td>fail</td>\n",
       "    </tr>\n",
       "    <tr>\n",
       "      <th>6</th>\n",
       "      <td>A294</td>\n",
       "      <td>90</td>\n",
       "      <td>86</td>\n",
       "      <td>94</td>\n",
       "      <td>pass</td>\n",
       "      <td>pass</td>\n",
       "    </tr>\n",
       "    <tr>\n",
       "      <th>7</th>\n",
       "      <td>B318</td>\n",
       "      <td>62</td>\n",
       "      <td>57</td>\n",
       "      <td>55</td>\n",
       "      <td>fail</td>\n",
       "      <td>fail</td>\n",
       "    </tr>\n",
       "    <tr>\n",
       "      <th>8</th>\n",
       "      <td>B164</td>\n",
       "      <td>79</td>\n",
       "      <td>57</td>\n",
       "      <td>89</td>\n",
       "      <td>fail</td>\n",
       "      <td>fail</td>\n",
       "    </tr>\n",
       "    <tr>\n",
       "      <th>9</th>\n",
       "      <td>A126</td>\n",
       "      <td>89</td>\n",
       "      <td>82</td>\n",
       "      <td>85</td>\n",
       "      <td>pass</td>\n",
       "      <td>pass</td>\n",
       "    </tr>\n",
       "  </tbody>\n",
       "</table>\n",
       "</div>"
      ],
      "text/plain": [
       "  applicantID  eng  math  interview eng_math qualify\n",
       "0        A432   91    97         83     pass    pass\n",
       "1        C747   94    94         58     pass    fail\n",
       "2        C751   74    55         89     fail    fail\n",
       "3        B716   63    89         93     fail    fail\n",
       "4        A623   90    73         81     fail    fail\n",
       "5        B394   76    91         90     fail    fail\n",
       "6        A294   90    86         94     pass    pass\n",
       "7        B318   62    57         55     fail    fail\n",
       "8        B164   79    57         89     fail    fail\n",
       "9        A126   89    82         85     pass    pass"
      ]
     },
     "execution_count": 19,
     "metadata": {},
     "output_type": "execute_result"
    }
   ],
   "source": [
    "df1['qualify']=df1.apply(lambda s: 'pass' if s.eng >=80 and s.math >= 75 and s.interview > 60 else 'fail',axis = 1)\n",
    "df1"
   ]
  },
  {
   "cell_type": "code",
   "execution_count": 20,
   "id": "a47048f7-ff4a-4de8-a711-0777872e6dbc",
   "metadata": {},
   "outputs": [
    {
     "data": {
      "text/html": [
       "<div>\n",
       "<style scoped>\n",
       "    .dataframe tbody tr th:only-of-type {\n",
       "        vertical-align: middle;\n",
       "    }\n",
       "\n",
       "    .dataframe tbody tr th {\n",
       "        vertical-align: top;\n",
       "    }\n",
       "\n",
       "    .dataframe thead th {\n",
       "        text-align: right;\n",
       "    }\n",
       "</style>\n",
       "<table border=\"1\" class=\"dataframe\">\n",
       "  <thead>\n",
       "    <tr style=\"text-align: right;\">\n",
       "      <th></th>\n",
       "      <th>applicantID</th>\n",
       "      <th>eng</th>\n",
       "      <th>math</th>\n",
       "      <th>interview</th>\n",
       "      <th>eng_math</th>\n",
       "      <th>qualify</th>\n",
       "      <th>score1</th>\n",
       "    </tr>\n",
       "  </thead>\n",
       "  <tbody>\n",
       "    <tr>\n",
       "      <th>0</th>\n",
       "      <td>A432</td>\n",
       "      <td>91</td>\n",
       "      <td>97</td>\n",
       "      <td>83</td>\n",
       "      <td>pass</td>\n",
       "      <td>pass</td>\n",
       "      <td>91.2</td>\n",
       "    </tr>\n",
       "    <tr>\n",
       "      <th>1</th>\n",
       "      <td>C747</td>\n",
       "      <td>94</td>\n",
       "      <td>94</td>\n",
       "      <td>58</td>\n",
       "      <td>pass</td>\n",
       "      <td>fail</td>\n",
       "      <td>86.8</td>\n",
       "    </tr>\n",
       "    <tr>\n",
       "      <th>2</th>\n",
       "      <td>C751</td>\n",
       "      <td>74</td>\n",
       "      <td>55</td>\n",
       "      <td>89</td>\n",
       "      <td>fail</td>\n",
       "      <td>fail</td>\n",
       "      <td>71.3</td>\n",
       "    </tr>\n",
       "    <tr>\n",
       "      <th>3</th>\n",
       "      <td>B716</td>\n",
       "      <td>63</td>\n",
       "      <td>89</td>\n",
       "      <td>93</td>\n",
       "      <td>fail</td>\n",
       "      <td>fail</td>\n",
       "      <td>76.8</td>\n",
       "    </tr>\n",
       "    <tr>\n",
       "      <th>4</th>\n",
       "      <td>A623</td>\n",
       "      <td>90</td>\n",
       "      <td>73</td>\n",
       "      <td>81</td>\n",
       "      <td>fail</td>\n",
       "      <td>fail</td>\n",
       "      <td>83.1</td>\n",
       "    </tr>\n",
       "    <tr>\n",
       "      <th>5</th>\n",
       "      <td>B394</td>\n",
       "      <td>76</td>\n",
       "      <td>91</td>\n",
       "      <td>90</td>\n",
       "      <td>fail</td>\n",
       "      <td>fail</td>\n",
       "      <td>83.3</td>\n",
       "    </tr>\n",
       "    <tr>\n",
       "      <th>6</th>\n",
       "      <td>A294</td>\n",
       "      <td>90</td>\n",
       "      <td>86</td>\n",
       "      <td>94</td>\n",
       "      <td>pass</td>\n",
       "      <td>pass</td>\n",
       "      <td>89.6</td>\n",
       "    </tr>\n",
       "    <tr>\n",
       "      <th>7</th>\n",
       "      <td>B318</td>\n",
       "      <td>62</td>\n",
       "      <td>57</td>\n",
       "      <td>55</td>\n",
       "      <td>fail</td>\n",
       "      <td>fail</td>\n",
       "      <td>59.1</td>\n",
       "    </tr>\n",
       "    <tr>\n",
       "      <th>8</th>\n",
       "      <td>B164</td>\n",
       "      <td>79</td>\n",
       "      <td>57</td>\n",
       "      <td>89</td>\n",
       "      <td>fail</td>\n",
       "      <td>fail</td>\n",
       "      <td>74.4</td>\n",
       "    </tr>\n",
       "    <tr>\n",
       "      <th>9</th>\n",
       "      <td>A126</td>\n",
       "      <td>89</td>\n",
       "      <td>82</td>\n",
       "      <td>85</td>\n",
       "      <td>pass</td>\n",
       "      <td>pass</td>\n",
       "      <td>86.1</td>\n",
       "    </tr>\n",
       "  </tbody>\n",
       "</table>\n",
       "</div>"
      ],
      "text/plain": [
       "  applicantID  eng  math  interview eng_math qualify  score1\n",
       "0        A432   91    97         83     pass    pass    91.2\n",
       "1        C747   94    94         58     pass    fail    86.8\n",
       "2        C751   74    55         89     fail    fail    71.3\n",
       "3        B716   63    89         93     fail    fail    76.8\n",
       "4        A623   90    73         81     fail    fail    83.1\n",
       "5        B394   76    91         90     fail    fail    83.3\n",
       "6        A294   90    86         94     pass    pass    89.6\n",
       "7        B318   62    57         55     fail    fail    59.1\n",
       "8        B164   79    57         89     fail    fail    74.4\n",
       "9        A126   89    82         85     pass    pass    86.1"
      ]
     },
     "execution_count": 20,
     "metadata": {},
     "output_type": "execute_result"
    }
   ],
   "source": [
    "df1['score1']=df1.apply(lambda s: s.eng * .5 + s.math * .3 + s.interview * .2, axis=1)\n",
    "df1"
   ]
  },
  {
   "cell_type": "code",
   "execution_count": 21,
   "id": "25a98568-8d4d-43f4-9972-ddf37ed08755",
   "metadata": {},
   "outputs": [
    {
     "data": {
      "text/html": [
       "<div>\n",
       "<style scoped>\n",
       "    .dataframe tbody tr th:only-of-type {\n",
       "        vertical-align: middle;\n",
       "    }\n",
       "\n",
       "    .dataframe tbody tr th {\n",
       "        vertical-align: top;\n",
       "    }\n",
       "\n",
       "    .dataframe thead th {\n",
       "        text-align: right;\n",
       "    }\n",
       "</style>\n",
       "<table border=\"1\" class=\"dataframe\">\n",
       "  <thead>\n",
       "    <tr style=\"text-align: right;\">\n",
       "      <th></th>\n",
       "      <th>applicantID</th>\n",
       "      <th>eng</th>\n",
       "      <th>math</th>\n",
       "      <th>interview</th>\n",
       "      <th>eng_math</th>\n",
       "      <th>qualify</th>\n",
       "      <th>score1</th>\n",
       "      <th>score2</th>\n",
       "    </tr>\n",
       "  </thead>\n",
       "  <tbody>\n",
       "    <tr>\n",
       "      <th>0</th>\n",
       "      <td>A432</td>\n",
       "      <td>91</td>\n",
       "      <td>97</td>\n",
       "      <td>83</td>\n",
       "      <td>pass</td>\n",
       "      <td>pass</td>\n",
       "      <td>91.2</td>\n",
       "      <td>91.2</td>\n",
       "    </tr>\n",
       "    <tr>\n",
       "      <th>1</th>\n",
       "      <td>C747</td>\n",
       "      <td>94</td>\n",
       "      <td>94</td>\n",
       "      <td>58</td>\n",
       "      <td>pass</td>\n",
       "      <td>fail</td>\n",
       "      <td>86.8</td>\n",
       "      <td>86.8</td>\n",
       "    </tr>\n",
       "    <tr>\n",
       "      <th>2</th>\n",
       "      <td>C751</td>\n",
       "      <td>74</td>\n",
       "      <td>55</td>\n",
       "      <td>89</td>\n",
       "      <td>fail</td>\n",
       "      <td>fail</td>\n",
       "      <td>71.3</td>\n",
       "      <td>71.3</td>\n",
       "    </tr>\n",
       "    <tr>\n",
       "      <th>3</th>\n",
       "      <td>B716</td>\n",
       "      <td>63</td>\n",
       "      <td>89</td>\n",
       "      <td>93</td>\n",
       "      <td>fail</td>\n",
       "      <td>fail</td>\n",
       "      <td>76.8</td>\n",
       "      <td>76.8</td>\n",
       "    </tr>\n",
       "    <tr>\n",
       "      <th>4</th>\n",
       "      <td>A623</td>\n",
       "      <td>90</td>\n",
       "      <td>73</td>\n",
       "      <td>81</td>\n",
       "      <td>fail</td>\n",
       "      <td>fail</td>\n",
       "      <td>83.1</td>\n",
       "      <td>83.1</td>\n",
       "    </tr>\n",
       "    <tr>\n",
       "      <th>5</th>\n",
       "      <td>B394</td>\n",
       "      <td>76</td>\n",
       "      <td>91</td>\n",
       "      <td>90</td>\n",
       "      <td>fail</td>\n",
       "      <td>fail</td>\n",
       "      <td>83.3</td>\n",
       "      <td>83.3</td>\n",
       "    </tr>\n",
       "    <tr>\n",
       "      <th>6</th>\n",
       "      <td>A294</td>\n",
       "      <td>90</td>\n",
       "      <td>86</td>\n",
       "      <td>94</td>\n",
       "      <td>pass</td>\n",
       "      <td>pass</td>\n",
       "      <td>89.6</td>\n",
       "      <td>89.6</td>\n",
       "    </tr>\n",
       "    <tr>\n",
       "      <th>7</th>\n",
       "      <td>B318</td>\n",
       "      <td>62</td>\n",
       "      <td>57</td>\n",
       "      <td>55</td>\n",
       "      <td>fail</td>\n",
       "      <td>fail</td>\n",
       "      <td>59.1</td>\n",
       "      <td>59.1</td>\n",
       "    </tr>\n",
       "    <tr>\n",
       "      <th>8</th>\n",
       "      <td>B164</td>\n",
       "      <td>79</td>\n",
       "      <td>57</td>\n",
       "      <td>89</td>\n",
       "      <td>fail</td>\n",
       "      <td>fail</td>\n",
       "      <td>74.4</td>\n",
       "      <td>74.4</td>\n",
       "    </tr>\n",
       "    <tr>\n",
       "      <th>9</th>\n",
       "      <td>A126</td>\n",
       "      <td>89</td>\n",
       "      <td>82</td>\n",
       "      <td>85</td>\n",
       "      <td>pass</td>\n",
       "      <td>pass</td>\n",
       "      <td>86.1</td>\n",
       "      <td>86.1</td>\n",
       "    </tr>\n",
       "  </tbody>\n",
       "</table>\n",
       "</div>"
      ],
      "text/plain": [
       "  applicantID  eng  math  interview eng_math qualify  score1  score2\n",
       "0        A432   91    97         83     pass    pass    91.2    91.2\n",
       "1        C747   94    94         58     pass    fail    86.8    86.8\n",
       "2        C751   74    55         89     fail    fail    71.3    71.3\n",
       "3        B716   63    89         93     fail    fail    76.8    76.8\n",
       "4        A623   90    73         81     fail    fail    83.1    83.1\n",
       "5        B394   76    91         90     fail    fail    83.3    83.3\n",
       "6        A294   90    86         94     pass    pass    89.6    89.6\n",
       "7        B318   62    57         55     fail    fail    59.1    59.1\n",
       "8        B164   79    57         89     fail    fail    74.4    74.4\n",
       "9        A126   89    82         85     pass    pass    86.1    86.1"
      ]
     },
     "execution_count": 21,
     "metadata": {},
     "output_type": "execute_result"
    }
   ],
   "source": [
    "df1['score2']=df1.eng * .5 + df1.math * .3 + df1.interview * .2\n",
    "df1"
   ]
  },
  {
   "cell_type": "code",
   "execution_count": 22,
   "id": "0d349424-5d38-45e6-815c-c8ba6c7b5923",
   "metadata": {},
   "outputs": [
    {
     "name": "stdout",
     "output_type": "stream",
     "text": [
      "249 µs ± 38.6 µs per loop (mean ± std. dev. of 7 runs, 100 loops each)\n"
     ]
    }
   ],
   "source": [
    "%timeit -n100 df1.apply(lambda s: s.eng * .5 + s.math * .3 + s.interview * .2, axis=1)"
   ]
  },
  {
   "cell_type": "code",
   "execution_count": 23,
   "id": "4dc0d89b-5a17-4938-853e-bf6a15442b21",
   "metadata": {},
   "outputs": [
    {
     "name": "stdout",
     "output_type": "stream",
     "text": [
      "172 µs ± 15.7 µs per loop (mean ± std. dev. of 7 runs, 100 loops each)\n"
     ]
    }
   ],
   "source": [
    "%timeit -n100 df1.eng * .5 + df1.math * .3 + df1.interview * .2"
   ]
  }
 ],
 "metadata": {
  "kernelspec": {
   "display_name": "Python 3 (ipykernel)",
   "language": "python",
   "name": "python3"
  },
  "language_info": {
   "codemirror_mode": {
    "name": "ipython",
    "version": 3
   },
   "file_extension": ".py",
   "mimetype": "text/x-python",
   "name": "python",
   "nbconvert_exporter": "python",
   "pygments_lexer": "ipython3",
   "version": "3.11.7"
  }
 },
 "nbformat": 4,
 "nbformat_minor": 5
}
