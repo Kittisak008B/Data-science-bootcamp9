{
 "cells": [
  {
   "cell_type": "code",
   "execution_count": 1,
   "id": "3c1ed853-ce17-472b-a7ee-c36c56ff7ac9",
   "metadata": {},
   "outputs": [],
   "source": [
    "# Big O major types of complexities (time and space):\n",
    "# Constant: O(1)\n",
    "# Linear time: O(n)\n",
    "# Logarithmic time: O(n log n)\n",
    "# Quadratic time: O(n^2)\n",
    "# Exponential time: O(2^n)\n",
    "# Factorial time: O(n!)\n",
    "\n",
    "# o(n)\n",
    "def func(n) :\n",
    "    for i in range(n) :\n",
    "        print(n)\n",
    "        \n",
    "# o(n^2)\n",
    "def func2(n) :\n",
    "    for i in range(n) :\n",
    "        for j in range(n) :\n",
    "            print(n)           \n"
   ]
  },
  {
   "cell_type": "code",
   "execution_count": 2,
   "id": "3ce57b8f-7675-4888-ad85-6e1ee2225c8a",
   "metadata": {},
   "outputs": [
    {
     "name": "stdout",
     "output_type": "stream",
     "text": [
      "102334155\n",
      "--- 41.78302764892578 seconds ---\n"
     ]
    }
   ],
   "source": [
    "import time\n",
    "start_time = time.time()\n",
    "\n",
    "# o(2^n)\n",
    "def fibo(n) :\n",
    "    if n <=1 :\n",
    "        return n\n",
    "    return fibo(n-1) + fibo(n-2)\n",
    "print(fibo(40))\n",
    "\n",
    "print(\"--- %s seconds ---\" % (time.time() - start_time))"
   ]
  },
  {
   "cell_type": "code",
   "execution_count": 3,
   "id": "e03e880b-fe7d-42ba-877f-65ac2e6beb46",
   "metadata": {},
   "outputs": [
    {
     "name": "stdout",
     "output_type": "stream",
     "text": [
      "102334155\n",
      "--- 0.0 seconds ---\n"
     ]
    }
   ],
   "source": [
    "# Top-Down (Memoization)\n",
    "start_time = time.time()\n",
    "\n",
    "def fibo1(n, memo={}) :\n",
    "    if n <=1 :\n",
    "        return n\n",
    "    if n in memo :\n",
    "        return memo[n]    \n",
    "    memo[n] = fibo1(n-1, memo) + fibo1(n-2 , memo)\n",
    "    return memo[n]\n",
    "    \n",
    "print(fibo1(40,{}))\n",
    "print(\"--- %s seconds ---\" % (time.time() - start_time))\n",
    "\n"
   ]
  },
  {
   "cell_type": "code",
   "execution_count": 4,
   "id": "29cbb1ca-5b4b-4ea3-913f-e42c3ca9810c",
   "metadata": {},
   "outputs": [
    {
     "name": "stdout",
     "output_type": "stream",
     "text": [
      "102334155\n",
      "--- 0.0 seconds ---\n"
     ]
    }
   ],
   "source": [
    "# Bottom-up (Tabulation) \n",
    "start_time = time.time()\n",
    "\n",
    "def fibo2(n):\n",
    "  if n <= 1:\n",
    "    return n\n",
    "  fib = [0] * (n + 1)\n",
    "  fib[1] = 1\n",
    "  for i in range(2, n + 1):\n",
    "    fib[i] = fib[i-1] + fib[i-2]\n",
    "  return fib[n]\n",
    "    \n",
    "print(fibo2(40))\n",
    "print(\"--- %s seconds ---\" % (time.time() - start_time))"
   ]
  },
  {
   "cell_type": "code",
   "execution_count": null,
   "id": "9116c5ea-6811-4e31-8ce9-c4b734b0deed",
   "metadata": {},
   "outputs": [],
   "source": []
  }
 ],
 "metadata": {
  "kernelspec": {
   "display_name": "Python 3 (ipykernel)",
   "language": "python",
   "name": "python3"
  },
  "language_info": {
   "codemirror_mode": {
    "name": "ipython",
    "version": 3
   },
   "file_extension": ".py",
   "mimetype": "text/x-python",
   "name": "python",
   "nbconvert_exporter": "python",
   "pygments_lexer": "ipython3",
   "version": "3.11.7"
  }
 },
 "nbformat": 4,
 "nbformat_minor": 5
}
