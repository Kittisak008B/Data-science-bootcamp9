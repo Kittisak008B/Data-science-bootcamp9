{
 "cells": [
  {
   "cell_type": "code",
   "execution_count": 1,
   "id": "faf773da-a031-4da3-9b51-de18ad466975",
   "metadata": {},
   "outputs": [],
   "source": [
    "def enu(a) :\n",
    "    for i, element in enumerate(a , start=1) :\n",
    "        print(i, \": \",element)"
   ]
  },
  {
   "cell_type": "code",
   "execution_count": 2,
   "id": "9a9c1bf8-add8-4a5b-94a2-a97436e2113f",
   "metadata": {},
   "outputs": [
    {
     "data": {
      "text/plain": [
       "[[['dog', 77]], 'a', 9, [], ['pig', 111], ['chicken', 123]]"
      ]
     },
     "execution_count": 2,
     "metadata": {},
     "output_type": "execute_result"
    }
   ],
   "source": [
    "list_a = [[['dog', 77]] , 'a' , 9 , [] , ['pig', 111] ,['chicken',123] ]\n",
    "list_a"
   ]
  },
  {
   "cell_type": "code",
   "execution_count": 3,
   "id": "8cc9c9fd-6069-49a8-be01-94dd86408601",
   "metadata": {},
   "outputs": [
    {
     "name": "stdout",
     "output_type": "stream",
     "text": [
      "1 :  [['dog', 77]]\n",
      "2 :  a\n",
      "3 :  9\n",
      "4 :  []\n",
      "5 :  ['pig', 111]\n",
      "6 :  ['chicken', 123]\n"
     ]
    }
   ],
   "source": [
    "enu(list_a)"
   ]
  }
 ],
 "metadata": {
  "kernelspec": {
   "display_name": "Python 3 (ipykernel)",
   "language": "python",
   "name": "python3"
  },
  "language_info": {
   "codemirror_mode": {
    "name": "ipython",
    "version": 3
   },
   "file_extension": ".py",
   "mimetype": "text/x-python",
   "name": "python",
   "nbconvert_exporter": "python",
   "pygments_lexer": "ipython3",
   "version": "3.11.7"
  }
 },
 "nbformat": 4,
 "nbformat_minor": 5
}
