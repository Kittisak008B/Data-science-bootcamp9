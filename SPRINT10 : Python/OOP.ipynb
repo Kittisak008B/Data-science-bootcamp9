{
 "cells": [
  {
   "cell_type": "code",
   "execution_count": 1,
   "id": "3b373423-8f0e-4d14-8b8c-4000ac6495f3",
   "metadata": {},
   "outputs": [],
   "source": [
    "# Inheritance\n",
    "\n",
    "class Aaa : #parent class\n",
    "    def __init__(self,sides):\n",
    "        self.sides = sides\n",
    "    def area(self, length):\n",
    "        return length*length\n",
    "\n",
    "class Square(Aaa): #child class\n",
    "    def __init__(self, perimeter, sides):\n",
    "        super().__init__(sides)  #calling parent class init method and passing the sides\n",
    "        self.perimeter = perimeter\n",
    "\n",
    "class Triangle(Aaa):  #child class\n",
    "    def area(self, height, base):  #override function \n",
    "        return 0.5*height*base"
   ]
  },
  {
   "cell_type": "code",
   "execution_count": 2,
   "id": "5e94556c-1e30-4bcb-8fdc-b5209b11efd9",
   "metadata": {},
   "outputs": [
    {
     "data": {
      "text/plain": [
       "7.5"
      ]
     },
     "execution_count": 2,
     "metadata": {},
     "output_type": "execute_result"
    }
   ],
   "source": [
    "t = Triangle(4)\n",
    "t.area(5,3)"
   ]
  },
  {
   "cell_type": "code",
   "execution_count": 3,
   "id": "c53043a4-583d-4e60-a6c7-cde966aedcd9",
   "metadata": {},
   "outputs": [
    {
     "data": {
      "text/plain": [
       "True"
      ]
     },
     "execution_count": 3,
     "metadata": {},
     "output_type": "execute_result"
    }
   ],
   "source": [
    "issubclass(Triangle,Aaa)"
   ]
  },
  {
   "cell_type": "code",
   "execution_count": 4,
   "id": "3aee67c1-738e-4e6a-89fa-2b895958f20a",
   "metadata": {},
   "outputs": [
    {
     "data": {
      "text/plain": [
       "True"
      ]
     },
     "execution_count": 4,
     "metadata": {},
     "output_type": "execute_result"
    }
   ],
   "source": [
    "isinstance(t,Triangle)"
   ]
  },
  {
   "cell_type": "code",
   "execution_count": 5,
   "id": "997c8a90-fa90-4e54-a391-33897aedfcf2",
   "metadata": {},
   "outputs": [
    {
     "data": {
      "text/plain": [
       "True"
      ]
     },
     "execution_count": 5,
     "metadata": {},
     "output_type": "execute_result"
    }
   ],
   "source": [
    "isinstance(t,Aaa)"
   ]
  },
  {
   "cell_type": "code",
   "execution_count": 6,
   "id": "3d9a1d4c-2c0b-46f0-98dd-de9bc9c5e8d6",
   "metadata": {},
   "outputs": [
    {
     "name": "stdout",
     "output_type": "stream",
     "text": [
      "4\n",
      "5\n",
      "True\n",
      "True\n"
     ]
    }
   ],
   "source": [
    "sqr = Square(4,5)\n",
    "print(sqr.perimeter)\n",
    "print(sqr.sides)\n",
    "print(isinstance(sqr,Square))\n",
    "print(isinstance(sqr,Aaa))"
   ]
  },
  {
   "cell_type": "code",
   "execution_count": 7,
   "id": "3ae57ebc-b721-4411-ad61-2146a444bc06",
   "metadata": {},
   "outputs": [],
   "source": [
    "# Multiple Inheritance\n",
    "\n",
    "class Human:\n",
    "    def __init__(self, name, age):\n",
    "        self.name = name\n",
    "        self.age = age\n",
    "        \n",
    "class Major :\n",
    "    def __init__(self, major):\n",
    "        self.major = major\n",
    "        \n",
    "class Student(Human , Major):\n",
    "    def __init__(self, name, age, major):\n",
    "        Human.__init__(self, name, age)\n",
    "        Major.__init__(self, major)\n",
    "        "
   ]
  },
  {
   "cell_type": "code",
   "execution_count": 8,
   "id": "820dd2fd-30c5-4e86-a64d-38874790496c",
   "metadata": {},
   "outputs": [],
   "source": [
    "Sam = Student('Sam' , 30 , 'Comsci')"
   ]
  },
  {
   "cell_type": "code",
   "execution_count": 9,
   "id": "07489afb-3144-48f5-8a8b-50a0ac157c10",
   "metadata": {},
   "outputs": [
    {
     "data": {
      "text/plain": [
       "'Comsci'"
      ]
     },
     "execution_count": 9,
     "metadata": {},
     "output_type": "execute_result"
    }
   ],
   "source": [
    "Sam.major"
   ]
  },
  {
   "cell_type": "code",
   "execution_count": 10,
   "id": "10e3bbe3-7efe-44ef-b2e1-bf7a0b2a999c",
   "metadata": {},
   "outputs": [
    {
     "data": {
      "text/plain": [
       "30"
      ]
     },
     "execution_count": 10,
     "metadata": {},
     "output_type": "execute_result"
    }
   ],
   "source": [
    "Sam.age"
   ]
  },
  {
   "cell_type": "code",
   "execution_count": 11,
   "id": "5a316557-72d5-40b7-9b24-9e38fd254afd",
   "metadata": {},
   "outputs": [
    {
     "data": {
      "text/plain": [
       "'Sam'"
      ]
     },
     "execution_count": 11,
     "metadata": {},
     "output_type": "execute_result"
    }
   ],
   "source": [
    "Sam.name"
   ]
  },
  {
   "cell_type": "code",
   "execution_count": 12,
   "id": "43ec9be1-7a89-489a-bc72-df2b4f114939",
   "metadata": {},
   "outputs": [],
   "source": [
    "# Operator Overloading\n",
    "\n",
    "class Pig:\n",
    "    def __init__(self, price):\n",
    "        self.price = price\n",
    "    def __add__(self, other):\n",
    "        return self.price + other.price\n",
    "    def __lt__(self, other) :\n",
    "        return self.price < other.price\n",
    "        \n",
    "#https://docs.python.org/3/reference/datamodel.html"
   ]
  },
  {
   "cell_type": "code",
   "execution_count": 13,
   "id": "0ef5fd97-7d3d-4d0e-bdd9-b378e1532861",
   "metadata": {},
   "outputs": [],
   "source": [
    "pig1 = Pig(100)\n",
    "pig2 = Pig(200)"
   ]
  },
  {
   "cell_type": "code",
   "execution_count": 14,
   "id": "13d3e66f-f0fd-49b4-80bf-c46de60f1736",
   "metadata": {},
   "outputs": [
    {
     "data": {
      "text/plain": [
       "300"
      ]
     },
     "execution_count": 14,
     "metadata": {},
     "output_type": "execute_result"
    }
   ],
   "source": [
    "total_price = pig1 + pig2\n",
    "total_price"
   ]
  },
  {
   "cell_type": "code",
   "execution_count": 15,
   "id": "e4666743-d13c-4421-ae74-e888cefe409a",
   "metadata": {},
   "outputs": [
    {
     "data": {
      "text/plain": [
       "True"
      ]
     },
     "execution_count": 15,
     "metadata": {},
     "output_type": "execute_result"
    }
   ],
   "source": [
    "compare = pig1 < pig2\n",
    "compare"
   ]
  },
  {
   "cell_type": "code",
   "execution_count": 16,
   "id": "06739c24-7925-423b-8693-211c60f1b987",
   "metadata": {},
   "outputs": [],
   "source": [
    "# Encapsulation\n",
    "\n",
    "class Payment:\n",
    "    def __init__(self, price):\n",
    "        self.__final_price = price+price*2   # __final_price -> private\n",
    "        \n",
    "    def get_final_price(self) :\n",
    "        return self.__final_price\n",
    "\n",
    "    def set_final_price(self, discount) :\n",
    "        self.__final_price = self.__cal_discount(discount)\n",
    "\n",
    "    def __cal_discount(self, discount):\n",
    "        return self.__final_price*((100-discount)/100)"
   ]
  },
  {
   "cell_type": "code",
   "execution_count": 17,
   "id": "b524f7eb-4574-4688-8def-ad26f8129030",
   "metadata": {},
   "outputs": [
    {
     "data": {
      "text/plain": [
       "60"
      ]
     },
     "execution_count": 17,
     "metadata": {},
     "output_type": "execute_result"
    }
   ],
   "source": [
    "pig = Payment(20)\n",
    "pig.__final_price = 0  # no one can change value of __final_price\n",
    "pig.get_final_price()"
   ]
  },
  {
   "cell_type": "code",
   "execution_count": 18,
   "id": "725ee5d5-457a-449d-8394-3725c59eaac2",
   "metadata": {},
   "outputs": [],
   "source": [
    "pig.set_final_price(10)"
   ]
  },
  {
   "cell_type": "code",
   "execution_count": 19,
   "id": "b26512a5-45fa-4558-98ec-e9f087c016fd",
   "metadata": {},
   "outputs": [
    {
     "data": {
      "text/plain": [
       "54.0"
      ]
     },
     "execution_count": 19,
     "metadata": {},
     "output_type": "execute_result"
    }
   ],
   "source": [
    "pig.get_final_price()"
   ]
  },
  {
   "cell_type": "code",
   "execution_count": 20,
   "id": "0ee0d915-f4a8-42ca-9f34-a90d7cda4f8e",
   "metadata": {},
   "outputs": [],
   "source": [
    "# Polymorphism\n",
    "\n",
    "class Chinese:\n",
    "    def say_hello(self):\n",
    "        print('Nihao')\n",
    "class Thai :\n",
    "    def say_hello(self) :\n",
    "        print('Sawatdee')\n",
    "\n",
    "def intro(lang):\n",
    "    lang.say_hello()\n"
   ]
  },
  {
   "cell_type": "code",
   "execution_count": 21,
   "id": "97ce01b6-1fb6-4fae-a84b-92bb4fe3c0e2",
   "metadata": {},
   "outputs": [],
   "source": [
    "Sam = Thai()\n",
    "Powell = Chinese()"
   ]
  },
  {
   "cell_type": "code",
   "execution_count": 22,
   "id": "082a7f8b-b59f-4195-aca4-5ca45aec68f7",
   "metadata": {},
   "outputs": [
    {
     "name": "stdout",
     "output_type": "stream",
     "text": [
      "Sawatdee\n"
     ]
    }
   ],
   "source": [
    "intro(Sam)"
   ]
  },
  {
   "cell_type": "code",
   "execution_count": 23,
   "id": "d784920d-c65b-4fa0-b245-cbb6fc23f337",
   "metadata": {},
   "outputs": [
    {
     "name": "stdout",
     "output_type": "stream",
     "text": [
      "Nihao\n"
     ]
    }
   ],
   "source": [
    "intro(Powell)"
   ]
  },
  {
   "cell_type": "code",
   "execution_count": 24,
   "id": "3d311a88-2996-47f3-9155-4f2d6476f3d2",
   "metadata": {},
   "outputs": [
    {
     "name": "stdout",
     "output_type": "stream",
     "text": [
      "4\n",
      "12\n"
     ]
    }
   ],
   "source": [
    "# Decorators\n",
    "def operation(opt_type):\n",
    "    def add(n1,n2):\n",
    "        return n1+n2\n",
    "    def sub(n1,n2):\n",
    "        return n1-n2\n",
    "    if opt_type == 'add':\n",
    "        return add\n",
    "    else :\n",
    "        return sub\n",
    "\n",
    "subtract = operation('sub')\n",
    "addition = operation('add')\n",
    "print(subtract(8,4))\n",
    "print(addition(8,4))"
   ]
  },
  {
   "cell_type": "code",
   "execution_count": 25,
   "id": "02382478-4e11-4af8-8e7e-a9d8bdcde4dc",
   "metadata": {},
   "outputs": [
    {
     "data": {
      "text/plain": [
       "22"
      ]
     },
     "execution_count": 25,
     "metadata": {},
     "output_type": "execute_result"
    }
   ],
   "source": [
    "a =operation('add')(20,2)\n",
    "a"
   ]
  },
  {
   "cell_type": "code",
   "execution_count": 26,
   "id": "019bdb8c-0141-4130-82de-8f5cc7ecce33",
   "metadata": {},
   "outputs": [],
   "source": [
    "# Decorators\n",
    "\n",
    "def add(func):\n",
    "    def dummy():\n",
    "        print('before')\n",
    "        func()\n",
    "        print('after')\n",
    "    return dummy\n",
    "\n",
    "def operation():\n",
    "    print('hello')\n"
   ]
  },
  {
   "cell_type": "code",
   "execution_count": 27,
   "id": "e89d43f3-c7f4-493a-914a-13c21e8f4882",
   "metadata": {},
   "outputs": [],
   "source": [
    "opt = add(operation)\n"
   ]
  },
  {
   "cell_type": "code",
   "execution_count": 28,
   "id": "3792cd46-d90f-44ac-9469-eb8a5d34760c",
   "metadata": {},
   "outputs": [
    {
     "data": {
      "text/plain": [
       "<function __main__.add.<locals>.dummy()>"
      ]
     },
     "execution_count": 28,
     "metadata": {},
     "output_type": "execute_result"
    }
   ],
   "source": [
    "opt"
   ]
  },
  {
   "cell_type": "code",
   "execution_count": 29,
   "id": "3abdec97-0534-49e5-8945-6f87fb30f8da",
   "metadata": {},
   "outputs": [
    {
     "name": "stdout",
     "output_type": "stream",
     "text": [
      "before\n",
      "hello\n",
      "after\n"
     ]
    }
   ],
   "source": [
    "opt()"
   ]
  },
  {
   "cell_type": "code",
   "execution_count": 30,
   "id": "7c67abe7-1b48-4dbe-9a39-a6604a22e778",
   "metadata": {},
   "outputs": [
    {
     "name": "stdout",
     "output_type": "stream",
     "text": [
      "hello\n"
     ]
    }
   ],
   "source": [
    "operation()"
   ]
  },
  {
   "cell_type": "code",
   "execution_count": 31,
   "id": "f5f0eefe-7c6d-4a1e-b45f-22c25c9e4ec3",
   "metadata": {},
   "outputs": [
    {
     "name": "stdout",
     "output_type": "stream",
     "text": [
      "before\n",
      "hello\n",
      "after\n"
     ]
    }
   ],
   "source": [
    "operation = add(operation)  #opoeration function decorated by add function\n",
    "operation()"
   ]
  },
  {
   "cell_type": "code",
   "execution_count": 32,
   "id": "271c5b2e-382f-4813-9420-bdbf946c6e14",
   "metadata": {},
   "outputs": [],
   "source": [
    "def add2(func):\n",
    "    def dummy():\n",
    "        print('before')\n",
    "        func()\n",
    "        print('after')\n",
    "    return dummy\n",
    "    \n",
    "@add2   #opoeration2 function decorated by add2 function\n",
    "def operation2():\n",
    "    print('hello')"
   ]
  },
  {
   "cell_type": "code",
   "execution_count": 33,
   "id": "39a9cc97-d2ee-4782-8f4c-a82d26156b57",
   "metadata": {},
   "outputs": [
    {
     "name": "stdout",
     "output_type": "stream",
     "text": [
      "before\n",
      "hello\n",
      "after\n"
     ]
    }
   ],
   "source": [
    "operation2()"
   ]
  },
  {
   "cell_type": "code",
   "execution_count": 34,
   "id": "8ff5d9fc-0276-4899-8602-37309f4405e7",
   "metadata": {},
   "outputs": [],
   "source": [
    "def add3(func):\n",
    "    def dummy(*args):\n",
    "        x = 0\n",
    "        for num in args :\n",
    "            x = num + x\n",
    "        return func('Addition',x)\n",
    "    return dummy\n",
    "\n",
    "@add3\n",
    "def operation3(operation3,result):\n",
    "    return operation3 + '  result = ' + str(result)"
   ]
  },
  {
   "cell_type": "code",
   "execution_count": 35,
   "id": "5cf62893-8a5e-442d-8b99-7094ad0fb243",
   "metadata": {},
   "outputs": [
    {
     "data": {
      "text/plain": [
       "'Addition  result = 19'"
      ]
     },
     "execution_count": 35,
     "metadata": {},
     "output_type": "execute_result"
    }
   ],
   "source": [
    "operation3(2,4,6,7)"
   ]
  },
  {
   "cell_type": "code",
   "execution_count": 36,
   "id": "a76d3c31-72a8-40e3-9215-974c2a4c77ab",
   "metadata": {},
   "outputs": [],
   "source": [
    "# Property Decorators\n",
    "METHODS = ['bank-transfer','paypal','crypto']\n",
    "class Payment2 :\n",
    "    def __init__(self, method):\n",
    "        self.__method = method\n",
    "\n",
    "    @property   # define methods that act like attributes ( .method() -> .method)\n",
    "    def method(self):\n",
    "        return self.__method\n",
    "\n",
    "    @method.setter\n",
    "    def method(self,met):\n",
    "        if met in METHODS :\n",
    "            self.__method = met\n",
    "\n",
    "    @method.deleter\n",
    "    def method(self) :\n",
    "        print('delete payment_method !')\n",
    "        self.__method = None"
   ]
  },
  {
   "cell_type": "code",
   "execution_count": 37,
   "id": "81d05061-f435-44f6-88c7-d85196303edf",
   "metadata": {},
   "outputs": [],
   "source": [
    "pay = Payment2('bank-transfer')"
   ]
  },
  {
   "cell_type": "code",
   "execution_count": 38,
   "id": "2b93db28-79bc-44c5-85f8-d269cdf161f0",
   "metadata": {},
   "outputs": [
    {
     "data": {
      "text/plain": [
       "'bank-transfer'"
      ]
     },
     "execution_count": 38,
     "metadata": {},
     "output_type": "execute_result"
    }
   ],
   "source": [
    "pay.method"
   ]
  },
  {
   "cell_type": "code",
   "execution_count": 39,
   "id": "6a83772c-6227-4ec9-bf87-7e567700bd4f",
   "metadata": {},
   "outputs": [
    {
     "data": {
      "text/plain": [
       "'bank-transfer'"
      ]
     },
     "execution_count": 39,
     "metadata": {},
     "output_type": "execute_result"
    }
   ],
   "source": [
    "pay.method = 'local-bank'\n",
    "pay.method"
   ]
  },
  {
   "cell_type": "code",
   "execution_count": 40,
   "id": "964399fd-4738-44f0-8cd3-a7a247924057",
   "metadata": {},
   "outputs": [
    {
     "data": {
      "text/plain": [
       "'paypal'"
      ]
     },
     "execution_count": 40,
     "metadata": {},
     "output_type": "execute_result"
    }
   ],
   "source": [
    "pay.method = 'paypal'\n",
    "pay.method"
   ]
  },
  {
   "cell_type": "code",
   "execution_count": 41,
   "id": "b2e0320f-6d1b-4536-95b8-72699a079688",
   "metadata": {},
   "outputs": [
    {
     "name": "stdout",
     "output_type": "stream",
     "text": [
      "delete payment_method !\n"
     ]
    }
   ],
   "source": [
    "del pay.method"
   ]
  },
  {
   "cell_type": "code",
   "execution_count": 42,
   "id": "2d239ee9-22ec-49f8-9c23-e9e035dba105",
   "metadata": {},
   "outputs": [],
   "source": [
    "pay.method"
   ]
  }
 ],
 "metadata": {
  "kernelspec": {
   "display_name": "Python 3 (ipykernel)",
   "language": "python",
   "name": "python3"
  },
  "language_info": {
   "codemirror_mode": {
    "name": "ipython",
    "version": 3
   },
   "file_extension": ".py",
   "mimetype": "text/x-python",
   "name": "python",
   "nbconvert_exporter": "python",
   "pygments_lexer": "ipython3",
   "version": "3.11.7"
  }
 },
 "nbformat": 4,
 "nbformat_minor": 5
}
