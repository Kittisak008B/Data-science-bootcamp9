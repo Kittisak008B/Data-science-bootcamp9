{
 "cells": [
  {
   "cell_type": "code",
   "execution_count": 1,
   "id": "e7909de1-56da-4229-bba7-772de717df2d",
   "metadata": {},
   "outputs": [],
   "source": [
    "import yfinance as yf\n",
    "import pandas as pd \n",
    "from sqlalchemy import create_engine"
   ]
  },
  {
   "cell_type": "code",
   "execution_count": 2,
   "id": "8cb0610a-71ab-430b-bce9-8ecf29f9a742",
   "metadata": {},
   "outputs": [],
   "source": [
    "engine = create_engine('sqlite:///test000_Database.db')"
   ]
  },
  {
   "cell_type": "code",
   "execution_count": 3,
   "id": "e2b80bf7-95cd-4875-a715-2530221721e7",
   "metadata": {},
   "outputs": [
    {
     "name": "stderr",
     "output_type": "stream",
     "text": [
      "[*********************100%%**********************]  1 of 1 completed\n"
     ]
    },
    {
     "data": {
      "text/html": [
       "<div>\n",
       "<style scoped>\n",
       "    .dataframe tbody tr th:only-of-type {\n",
       "        vertical-align: middle;\n",
       "    }\n",
       "\n",
       "    .dataframe tbody tr th {\n",
       "        vertical-align: top;\n",
       "    }\n",
       "\n",
       "    .dataframe thead th {\n",
       "        text-align: right;\n",
       "    }\n",
       "</style>\n",
       "<table border=\"1\" class=\"dataframe\">\n",
       "  <thead>\n",
       "    <tr style=\"text-align: right;\">\n",
       "      <th></th>\n",
       "      <th>Open</th>\n",
       "      <th>High</th>\n",
       "      <th>Low</th>\n",
       "      <th>Close</th>\n",
       "      <th>Adj Close</th>\n",
       "      <th>Volume</th>\n",
       "    </tr>\n",
       "    <tr>\n",
       "      <th>Date</th>\n",
       "      <th></th>\n",
       "      <th></th>\n",
       "      <th></th>\n",
       "      <th></th>\n",
       "      <th></th>\n",
       "      <th></th>\n",
       "    </tr>\n",
       "  </thead>\n",
       "  <tbody>\n",
       "    <tr>\n",
       "      <th>2023-01-03</th>\n",
       "      <td>72.610001</td>\n",
       "      <td>72.900002</td>\n",
       "      <td>71.330002</td>\n",
       "      <td>71.379997</td>\n",
       "      <td>70.970016</td>\n",
       "      <td>1016200</td>\n",
       "    </tr>\n",
       "    <tr>\n",
       "      <th>2023-01-04</th>\n",
       "      <td>71.500000</td>\n",
       "      <td>72.309998</td>\n",
       "      <td>71.470001</td>\n",
       "      <td>72.120003</td>\n",
       "      <td>71.705772</td>\n",
       "      <td>967700</td>\n",
       "    </tr>\n",
       "    <tr>\n",
       "      <th>2023-01-05</th>\n",
       "      <td>71.620003</td>\n",
       "      <td>72.300003</td>\n",
       "      <td>70.989998</td>\n",
       "      <td>71.839996</td>\n",
       "      <td>71.427383</td>\n",
       "      <td>527700</td>\n",
       "    </tr>\n",
       "    <tr>\n",
       "      <th>2023-01-06</th>\n",
       "      <td>72.269997</td>\n",
       "      <td>73.870003</td>\n",
       "      <td>71.830002</td>\n",
       "      <td>73.650002</td>\n",
       "      <td>73.226990</td>\n",
       "      <td>502700</td>\n",
       "    </tr>\n",
       "    <tr>\n",
       "      <th>2023-01-09</th>\n",
       "      <td>74.379997</td>\n",
       "      <td>77.050003</td>\n",
       "      <td>73.690002</td>\n",
       "      <td>74.830002</td>\n",
       "      <td>74.400215</td>\n",
       "      <td>1126300</td>\n",
       "    </tr>\n",
       "    <tr>\n",
       "      <th>...</th>\n",
       "      <td>...</td>\n",
       "      <td>...</td>\n",
       "      <td>...</td>\n",
       "      <td>...</td>\n",
       "      <td>...</td>\n",
       "      <td>...</td>\n",
       "    </tr>\n",
       "    <tr>\n",
       "      <th>2023-11-24</th>\n",
       "      <td>80.529999</td>\n",
       "      <td>81.830002</td>\n",
       "      <td>80.389999</td>\n",
       "      <td>81.800003</td>\n",
       "      <td>81.618233</td>\n",
       "      <td>435500</td>\n",
       "    </tr>\n",
       "    <tr>\n",
       "      <th>2023-11-27</th>\n",
       "      <td>81.550003</td>\n",
       "      <td>81.629997</td>\n",
       "      <td>80.220001</td>\n",
       "      <td>80.849998</td>\n",
       "      <td>80.670341</td>\n",
       "      <td>816300</td>\n",
       "    </tr>\n",
       "    <tr>\n",
       "      <th>2023-11-28</th>\n",
       "      <td>80.800003</td>\n",
       "      <td>80.860001</td>\n",
       "      <td>76.349998</td>\n",
       "      <td>76.410004</td>\n",
       "      <td>76.240211</td>\n",
       "      <td>2675700</td>\n",
       "    </tr>\n",
       "    <tr>\n",
       "      <th>2023-11-29</th>\n",
       "      <td>76.620003</td>\n",
       "      <td>77.279999</td>\n",
       "      <td>72.599998</td>\n",
       "      <td>76.779999</td>\n",
       "      <td>76.609383</td>\n",
       "      <td>2419500</td>\n",
       "    </tr>\n",
       "    <tr>\n",
       "      <th>2023-11-30</th>\n",
       "      <td>77.160004</td>\n",
       "      <td>78.190002</td>\n",
       "      <td>76.889999</td>\n",
       "      <td>77.839996</td>\n",
       "      <td>77.768311</td>\n",
       "      <td>1139000</td>\n",
       "    </tr>\n",
       "  </tbody>\n",
       "</table>\n",
       "<p>230 rows × 6 columns</p>\n",
       "</div>"
      ],
      "text/plain": [
       "                 Open       High        Low      Close  Adj Close   Volume\n",
       "Date                                                                      \n",
       "2023-01-03  72.610001  72.900002  71.330002  71.379997  70.970016  1016200\n",
       "2023-01-04  71.500000  72.309998  71.470001  72.120003  71.705772   967700\n",
       "2023-01-05  71.620003  72.300003  70.989998  71.839996  71.427383   527700\n",
       "2023-01-06  72.269997  73.870003  71.830002  73.650002  73.226990   502700\n",
       "2023-01-09  74.379997  77.050003  73.690002  74.830002  74.400215  1126300\n",
       "...               ...        ...        ...        ...        ...      ...\n",
       "2023-11-24  80.529999  81.830002  80.389999  81.800003  81.618233   435500\n",
       "2023-11-27  81.550003  81.629997  80.220001  80.849998  80.670341   816300\n",
       "2023-11-28  80.800003  80.860001  76.349998  76.410004  76.240211  2675700\n",
       "2023-11-29  76.620003  77.279999  72.599998  76.779999  76.609383  2419500\n",
       "2023-11-30  77.160004  78.190002  76.889999  77.839996  77.768311  1139000\n",
       "\n",
       "[230 rows x 6 columns]"
      ]
     },
     "execution_count": 3,
     "metadata": {},
     "output_type": "execute_result"
    }
   ],
   "source": [
    "df = yf.download('IBKR',start='2023-01-01',end='2023-12-01')\n",
    "df"
   ]
  },
  {
   "cell_type": "code",
   "execution_count": 4,
   "id": "c5d21c75-b03c-4efb-bbd7-005ebb66add5",
   "metadata": {},
   "outputs": [
    {
     "data": {
      "text/plain": [
       "230"
      ]
     },
     "execution_count": 4,
     "metadata": {},
     "output_type": "execute_result"
    }
   ],
   "source": [
    "df.to_sql('IBKR',engine)"
   ]
  },
  {
   "cell_type": "code",
   "execution_count": 5,
   "id": "d8b54f5b-6058-471e-9a15-f474de7a9fff",
   "metadata": {},
   "outputs": [
    {
     "data": {
      "text/html": [
       "<div>\n",
       "<style scoped>\n",
       "    .dataframe tbody tr th:only-of-type {\n",
       "        vertical-align: middle;\n",
       "    }\n",
       "\n",
       "    .dataframe tbody tr th {\n",
       "        vertical-align: top;\n",
       "    }\n",
       "\n",
       "    .dataframe thead th {\n",
       "        text-align: right;\n",
       "    }\n",
       "</style>\n",
       "<table border=\"1\" class=\"dataframe\">\n",
       "  <thead>\n",
       "    <tr style=\"text-align: right;\">\n",
       "      <th></th>\n",
       "      <th>Date</th>\n",
       "      <th>Open</th>\n",
       "      <th>High</th>\n",
       "      <th>Low</th>\n",
       "      <th>Close</th>\n",
       "      <th>Adj Close</th>\n",
       "      <th>Volume</th>\n",
       "    </tr>\n",
       "  </thead>\n",
       "  <tbody>\n",
       "    <tr>\n",
       "      <th>0</th>\n",
       "      <td>2023-01-03</td>\n",
       "      <td>72.610001</td>\n",
       "      <td>72.900002</td>\n",
       "      <td>71.330002</td>\n",
       "      <td>71.379997</td>\n",
       "      <td>70.970016</td>\n",
       "      <td>1016200</td>\n",
       "    </tr>\n",
       "    <tr>\n",
       "      <th>1</th>\n",
       "      <td>2023-01-04</td>\n",
       "      <td>71.500000</td>\n",
       "      <td>72.309998</td>\n",
       "      <td>71.470001</td>\n",
       "      <td>72.120003</td>\n",
       "      <td>71.705772</td>\n",
       "      <td>967700</td>\n",
       "    </tr>\n",
       "    <tr>\n",
       "      <th>2</th>\n",
       "      <td>2023-01-05</td>\n",
       "      <td>71.620003</td>\n",
       "      <td>72.300003</td>\n",
       "      <td>70.989998</td>\n",
       "      <td>71.839996</td>\n",
       "      <td>71.427383</td>\n",
       "      <td>527700</td>\n",
       "    </tr>\n",
       "    <tr>\n",
       "      <th>3</th>\n",
       "      <td>2023-01-06</td>\n",
       "      <td>72.269997</td>\n",
       "      <td>73.870003</td>\n",
       "      <td>71.830002</td>\n",
       "      <td>73.650002</td>\n",
       "      <td>73.226990</td>\n",
       "      <td>502700</td>\n",
       "    </tr>\n",
       "    <tr>\n",
       "      <th>4</th>\n",
       "      <td>2023-01-09</td>\n",
       "      <td>74.379997</td>\n",
       "      <td>77.050003</td>\n",
       "      <td>73.690002</td>\n",
       "      <td>74.830002</td>\n",
       "      <td>74.400215</td>\n",
       "      <td>1126300</td>\n",
       "    </tr>\n",
       "    <tr>\n",
       "      <th>...</th>\n",
       "      <td>...</td>\n",
       "      <td>...</td>\n",
       "      <td>...</td>\n",
       "      <td>...</td>\n",
       "      <td>...</td>\n",
       "      <td>...</td>\n",
       "      <td>...</td>\n",
       "    </tr>\n",
       "    <tr>\n",
       "      <th>225</th>\n",
       "      <td>2023-11-24</td>\n",
       "      <td>80.529999</td>\n",
       "      <td>81.830002</td>\n",
       "      <td>80.389999</td>\n",
       "      <td>81.800003</td>\n",
       "      <td>81.618233</td>\n",
       "      <td>435500</td>\n",
       "    </tr>\n",
       "    <tr>\n",
       "      <th>226</th>\n",
       "      <td>2023-11-27</td>\n",
       "      <td>81.550003</td>\n",
       "      <td>81.629997</td>\n",
       "      <td>80.220001</td>\n",
       "      <td>80.849998</td>\n",
       "      <td>80.670341</td>\n",
       "      <td>816300</td>\n",
       "    </tr>\n",
       "    <tr>\n",
       "      <th>227</th>\n",
       "      <td>2023-11-28</td>\n",
       "      <td>80.800003</td>\n",
       "      <td>80.860001</td>\n",
       "      <td>76.349998</td>\n",
       "      <td>76.410004</td>\n",
       "      <td>76.240211</td>\n",
       "      <td>2675700</td>\n",
       "    </tr>\n",
       "    <tr>\n",
       "      <th>228</th>\n",
       "      <td>2023-11-29</td>\n",
       "      <td>76.620003</td>\n",
       "      <td>77.279999</td>\n",
       "      <td>72.599998</td>\n",
       "      <td>76.779999</td>\n",
       "      <td>76.609383</td>\n",
       "      <td>2419500</td>\n",
       "    </tr>\n",
       "    <tr>\n",
       "      <th>229</th>\n",
       "      <td>2023-11-30</td>\n",
       "      <td>77.160004</td>\n",
       "      <td>78.190002</td>\n",
       "      <td>76.889999</td>\n",
       "      <td>77.839996</td>\n",
       "      <td>77.768311</td>\n",
       "      <td>1139000</td>\n",
       "    </tr>\n",
       "  </tbody>\n",
       "</table>\n",
       "<p>230 rows × 7 columns</p>\n",
       "</div>"
      ],
      "text/plain": [
       "          Date       Open       High        Low      Close  Adj Close   Volume\n",
       "0   2023-01-03  72.610001  72.900002  71.330002  71.379997  70.970016  1016200\n",
       "1   2023-01-04  71.500000  72.309998  71.470001  72.120003  71.705772   967700\n",
       "2   2023-01-05  71.620003  72.300003  70.989998  71.839996  71.427383   527700\n",
       "3   2023-01-06  72.269997  73.870003  71.830002  73.650002  73.226990   502700\n",
       "4   2023-01-09  74.379997  77.050003  73.690002  74.830002  74.400215  1126300\n",
       "..         ...        ...        ...        ...        ...        ...      ...\n",
       "225 2023-11-24  80.529999  81.830002  80.389999  81.800003  81.618233   435500\n",
       "226 2023-11-27  81.550003  81.629997  80.220001  80.849998  80.670341   816300\n",
       "227 2023-11-28  80.800003  80.860001  76.349998  76.410004  76.240211  2675700\n",
       "228 2023-11-29  76.620003  77.279999  72.599998  76.779999  76.609383  2419500\n",
       "229 2023-11-30  77.160004  78.190002  76.889999  77.839996  77.768311  1139000\n",
       "\n",
       "[230 rows x 7 columns]"
      ]
     },
     "execution_count": 5,
     "metadata": {},
     "output_type": "execute_result"
    }
   ],
   "source": [
    "pd.read_sql('IBKR',engine)"
   ]
  },
  {
   "cell_type": "code",
   "execution_count": 6,
   "id": "626245c6-6c49-4655-b246-303f94bd4409",
   "metadata": {},
   "outputs": [
    {
     "data": {
      "text/html": [
       "<div>\n",
       "<style scoped>\n",
       "    .dataframe tbody tr th:only-of-type {\n",
       "        vertical-align: middle;\n",
       "    }\n",
       "\n",
       "    .dataframe tbody tr th {\n",
       "        vertical-align: top;\n",
       "    }\n",
       "\n",
       "    .dataframe thead th {\n",
       "        text-align: right;\n",
       "    }\n",
       "</style>\n",
       "<table border=\"1\" class=\"dataframe\">\n",
       "  <thead>\n",
       "    <tr style=\"text-align: right;\">\n",
       "      <th></th>\n",
       "      <th>COUNT(*)</th>\n",
       "    </tr>\n",
       "  </thead>\n",
       "  <tbody>\n",
       "    <tr>\n",
       "      <th>0</th>\n",
       "      <td>230</td>\n",
       "    </tr>\n",
       "  </tbody>\n",
       "</table>\n",
       "</div>"
      ],
      "text/plain": [
       "   COUNT(*)\n",
       "0       230"
      ]
     },
     "execution_count": 6,
     "metadata": {},
     "output_type": "execute_result"
    }
   ],
   "source": [
    "pd.read_sql('SELECT COUNT(*) FROM IBKR',engine)"
   ]
  },
  {
   "cell_type": "code",
   "execution_count": 7,
   "id": "5e1ff6c6-b27d-409a-931a-5f4b3eb92e7b",
   "metadata": {},
   "outputs": [
    {
     "data": {
      "text/plain": [
       "'2023-11-30 00:00:00.000000'"
      ]
     },
     "execution_count": 7,
     "metadata": {},
     "output_type": "execute_result"
    }
   ],
   "source": [
    "max_date = pd.read_sql('SELECT MAX(Date) FROM IBKR',engine).values[0][0]\n",
    "max_date "
   ]
  },
  {
   "cell_type": "code",
   "execution_count": 8,
   "id": "19755190-c877-42fc-9b08-7560bc49381f",
   "metadata": {},
   "outputs": [],
   "source": [
    "def sql_importer(symbol) :\n",
    "    max_date = pd.read_sql(f'SELECT MAX(Date) FROM {symbol}',engine).values[0][0]\n",
    "    print(max_date)\n",
    "    new_data = yf.download(symbol,start=pd.to_datetime(max_date))\n",
    "    new_rows = new_data[new_data.index > max_date]\n",
    "    new_rows.to_sql(symbol, engine, if_exists='append')\n",
    "    print(str(len(new_rows)) + ' new rows imported to DB')"
   ]
  },
  {
   "cell_type": "code",
   "execution_count": 9,
   "id": "9fa0710c-8140-4872-9bc8-f6c2f812a216",
   "metadata": {},
   "outputs": [
    {
     "name": "stderr",
     "output_type": "stream",
     "text": [
      "[*********************100%%**********************]  1 of 1 completed"
     ]
    },
    {
     "name": "stdout",
     "output_type": "stream",
     "text": [
      "2023-11-30 00:00:00.000000\n",
      "72 new rows imported to DB\n"
     ]
    },
    {
     "name": "stderr",
     "output_type": "stream",
     "text": [
      "\n"
     ]
    }
   ],
   "source": [
    "sql_importer('IBKR')"
   ]
  },
  {
   "cell_type": "code",
   "execution_count": 11,
   "id": "6b47f752-a8f5-49c8-9df5-78c0e7f4ed1e",
   "metadata": {},
   "outputs": [],
   "source": [
    "# import data until today"
   ]
  }
 ],
 "metadata": {
  "kernelspec": {
   "display_name": "Python 3 (ipykernel)",
   "language": "python",
   "name": "python3"
  },
  "language_info": {
   "codemirror_mode": {
    "name": "ipython",
    "version": 3
   },
   "file_extension": ".py",
   "mimetype": "text/x-python",
   "name": "python",
   "nbconvert_exporter": "python",
   "pygments_lexer": "ipython3",
   "version": "3.11.7"
  }
 },
 "nbformat": 4,
 "nbformat_minor": 5
}
