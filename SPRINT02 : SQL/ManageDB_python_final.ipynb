{
 "cells": [
  {
   "cell_type": "code",
   "execution_count": 1,
   "id": "148be13b-b95e-444b-943c-b9c8cacfa9a5",
   "metadata": {},
   "outputs": [],
   "source": [
    "import yfinance as yf\n",
    "import pandas as pd \n",
    "from sqlalchemy import create_engine"
   ]
  },
  {
   "cell_type": "code",
   "execution_count": 2,
   "id": "4af0eb07-a6b8-4f40-b544-394b488e41f2",
   "metadata": {},
   "outputs": [],
   "source": [
    "engine = create_engine('sqlite:///test001_Database.db')"
   ]
  },
  {
   "cell_type": "code",
   "execution_count": 3,
   "id": "cae6621a-91bb-484b-aaa9-a7c2c893db35",
   "metadata": {},
   "outputs": [],
   "source": [
    "def sql_importer(symbol,start='2023-01-01') :\n",
    "    try:\n",
    "        max_date = pd.read_sql(f'SELECT MAX(Date) FROM {symbol}',engine).values[0][0]\n",
    "        print(max_date)\n",
    "        new_data = yf.download(symbol,start=pd.to_datetime(max_date))\n",
    "        new_rows = new_data[new_data.index > max_date]\n",
    "        new_rows.to_sql(symbol, engine, if_exists='append')\n",
    "        print(str(len(new_rows)) + ' new rows imported to DB')\n",
    "    except:\n",
    "        new_data = yf.download(symbol, start=start)\n",
    "        new_data.to_sql(symbol,engine)\n",
    "        print(f'New {symbol} table created with {str(len(new_data))} rows')"
   ]
  },
  {
   "cell_type": "code",
   "execution_count": 5,
   "id": "f3e16d48-ae26-4d7e-8b6c-d2acdaa348be",
   "metadata": {},
   "outputs": [
    {
     "name": "stderr",
     "output_type": "stream",
     "text": [
      "[*********************100%%**********************]  1 of 1 completed"
     ]
    },
    {
     "name": "stdout",
     "output_type": "stream",
     "text": [
      "2024-03-15 00:00:00.000000\n",
      "0 new rows imported to DB\n"
     ]
    },
    {
     "name": "stderr",
     "output_type": "stream",
     "text": [
      "\n"
     ]
    }
   ],
   "source": [
    "sql_importer('IBKR')"
   ]
  },
  {
   "cell_type": "code",
   "execution_count": 6,
   "id": "9b9c4ec1-9837-4322-9558-0f2ae3daaa9f",
   "metadata": {},
   "outputs": [
    {
     "name": "stderr",
     "output_type": "stream",
     "text": [
      "[*********************100%%**********************]  1 of 1 completed\n",
      "[*********************100%%**********************]  1 of 1 completed"
     ]
    },
    {
     "name": "stdout",
     "output_type": "stream",
     "text": [
      "New VOO table created with 302 rows\n"
     ]
    },
    {
     "name": "stderr",
     "output_type": "stream",
     "text": [
      "\n",
      "[*********************100%%**********************]  1 of 1 completed"
     ]
    },
    {
     "name": "stdout",
     "output_type": "stream",
     "text": [
      "New SCHD table created with 302 rows\n",
      "New GOOG table created with 302 rows\n"
     ]
    },
    {
     "name": "stderr",
     "output_type": "stream",
     "text": [
      "\n"
     ]
    }
   ],
   "source": [
    "stocks=['VOO','SCHD','GOOG']\n",
    "for i in stocks:\n",
    "    sql_importer(i)"
   ]
  }
 ],
 "metadata": {
  "kernelspec": {
   "display_name": "Python 3 (ipykernel)",
   "language": "python",
   "name": "python3"
  },
  "language_info": {
   "codemirror_mode": {
    "name": "ipython",
    "version": 3
   },
   "file_extension": ".py",
   "mimetype": "text/x-python",
   "name": "python",
   "nbconvert_exporter": "python",
   "pygments_lexer": "ipython3",
   "version": "3.11.7"
  }
 },
 "nbformat": 4,
 "nbformat_minor": 5
}
